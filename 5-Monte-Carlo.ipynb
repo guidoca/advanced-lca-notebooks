{
 "cells": [
  {
   "cell_type": "markdown",
   "metadata": {},
   "source": [
    "# Run Monte Carlo Simulation in Brightway"
   ]
  },
  {
   "cell_type": "markdown",
   "metadata": {},
   "source": [
    "Now we are ready to start doing more intense simulations. In particular Brightway2 is great to perform fast error propagation with Monte Carlo simulation. \n",
    "\n",
    "This script shows how to add uncertainties to your home-made product system and run a Monte Carlo simulation. \n",
    "\n",
    "To better understand this script, I recommend reading read the paper by Limpert et al. (2001), that is a 'classic' and explains the log-normal distribution.\n",
    "\n",
    "_Limpert, E., Stahel, W. A., & Abbt, M. (2001). Log-normal distributions across the sciences: Keys and clues. Bioscience, 51(5), 341-352. [https://doi.org/10.1641/0006-3568(2001)051[0341:LNDATS]2.0.CO;2](https://academic.oup.com/bioscience/article/51/5/341/243981)_"
   ]
  },
  {
   "cell_type": "code",
   "execution_count": 1,
   "metadata": {},
   "outputs": [],
   "source": [
    "import brightway2 as bw\n",
    "import pandas as pd\n",
    "import numpy as np\n",
    "import matplotlib.pyplot as plt"
   ]
  },
  {
   "cell_type": "code",
   "execution_count": 2,
   "metadata": {},
   "outputs": [],
   "source": [
    "bw.projects.set_current('advlca21')"
   ]
  },
  {
   "cell_type": "code",
   "execution_count": 3,
   "metadata": {},
   "outputs": [
    {
     "data": {
      "text/plain": [
       "Databases dictionary with 5 object(s):\n",
       "\tbiosphere3\n",
       "\tecoinvent 3.6 conseq\n",
       "\texldb\n",
       "\ttestbiosphere\n",
       "\ttestdb"
      ]
     },
     "execution_count": 3,
     "metadata": {},
     "output_type": "execute_result"
    }
   ],
   "source": [
    "bw.databases"
   ]
  },
  {
   "cell_type": "markdown",
   "metadata": {},
   "source": [
    "A short recap from yesterday, let's create a database and run LCA calcualtions"
   ]
  },
  {
   "cell_type": "code",
   "execution_count": 4,
   "metadata": {},
   "outputs": [
    {
     "name": "stderr",
     "output_type": "stream",
     "text": [
      "Writing activities to SQLite3 database:\n",
      "0% [###] 100% | ETA: 00:00:00\n",
      "Total time elapsed: 00:00:00\n"
     ]
    },
    {
     "name": "stdout",
     "output_type": "stream",
     "text": [
      "Title: Writing activities to SQLite3 database:\n",
      "  Started: 05/12/2021 15:14:11\n",
      "  Finished: 05/12/2021 15:14:11\n",
      "  Total time elapsed: 00:00:00\n",
      "  CPU %: 40.60\n",
      "  Memory %: 0.92\n",
      "80.0\n"
     ]
    }
   ],
   "source": [
    "t_db = bw.Database('testdb')\n",
    "\n",
    "t_db.write({  # A simplified version, only CO2 as emission\n",
    "    ('testdb', 'Electricity production'): {\n",
    "        'name': 'Electricity production',\n",
    "        'unit': 'kWh',\n",
    "        'exchanges': [{\n",
    "                'input': ('testdb', 'Fuel production'),\n",
    "                'amount': -2,\n",
    "                'unit': 'kg',\n",
    "                'type': 'technosphere'\n",
    "            }, {\n",
    "                'input': ('testdb', 'Carbon dioxide'),\n",
    "                'amount': 1,\n",
    "                'unit': 'kg',\n",
    "                'type': 'biosphere'\n",
    "            }, {\n",
    "                'input': ('testdb', 'Electricity production'),\n",
    "                'amount': 10,\n",
    "                'unit': 'kWh',\n",
    "                'type': 'production'\n",
    "            }]\n",
    "        },\n",
    "    ('testdb', 'Fuel production'): {\n",
    "        'name': 'Fuel production',\n",
    "        'unit': 'kg',\n",
    "        'exchanges': [{\n",
    "                'input': ('testdb', 'Carbon dioxide'),\n",
    "                'amount': 10,\n",
    "                'unit': 'kg',\n",
    "                'type': 'biosphere'\n",
    "            }, {\n",
    "                'input': ('testdb', 'Fuel production'),\n",
    "                'amount': 100,\n",
    "                'unit': 'kg',\n",
    "                'type': 'production'\n",
    "            }]\n",
    "    },\n",
    "    ('testdb', 'Carbon dioxide'): {'name': 'Carbon dioxide', 'unit': 'kg', 'type': 'biosphere'}\n",
    "    })\n",
    "\n",
    "\n",
    "myLCIAdata = [[('testdb', 'Carbon dioxide'), 1.0]]\n",
    "method_key = ('simplemethod', 'imaginaryendpoint', 'imaginarymidpoint')\n",
    "my_method = bw.Method(method_key)\n",
    "my_method.validate(myLCIAdata)\n",
    "my_method.register()\n",
    "my_method.write(myLCIAdata)\n",
    "my_method.load()\n",
    "\n",
    "functional_unit = {t_db.get('Electricity production'): 1000}\n",
    "lca = bw.LCA(functional_unit, method_key)  # LCA calculations with method\n",
    "lca.lci()\n",
    "lca.lcia()\n",
    "\n",
    "print(lca.score) # Will be different from Script 1."
   ]
  },
  {
   "cell_type": "markdown",
   "metadata": {},
   "source": [
    "What we need to rememebr is that 80 is the **static** or **deterministic** result of this LCA. We need to remember that for later."
   ]
  },
  {
   "cell_type": "markdown",
   "metadata": {},
   "source": [
    "###  Exercise / Homework\n",
    "Can you obtain the same result by removing the exchanges from the database created yesterday? \n",
    "Hint: you can do this using the .Delete() method applied to an exchange."
   ]
  },
  {
   "cell_type": "markdown",
   "metadata": {},
   "source": [
    "# Now add uncertainty \n",
    "\n",
    "See a tutorial [here](http://nbviewer.jupyter.org/urls/bitbucket.org/cmutel/brightway2/raw/default/notebooks/Activities%20and%20exchanges.ipynb)\n",
    "\n",
    "**Note**: uncertainties are always added to EXCHANGES (not to activities...)\n",
    "\n",
    "So I'll get one  exchange from one activity"
   ]
  },
  {
   "cell_type": "code",
   "execution_count": 20,
   "metadata": {},
   "outputs": [
    {
     "data": {
      "text/plain": [
       "Exchange: 1 kg 'Carbon dioxide' (kg, None, None) to 'Electricity production' (kWh, None, None)>"
      ]
     },
     "execution_count": 20,
     "metadata": {},
     "output_type": "execute_result"
    }
   ],
   "source": [
    "el = t_db.get('Electricity production')  \n",
    "co2_exc = list(el.exchanges())[1]   # the first exchange\n",
    "co2_exc"
   ]
  },
  {
   "cell_type": "code",
   "execution_count": 21,
   "metadata": {},
   "outputs": [],
   "source": [
    "# Lognormal distribution first\n",
    "from stats_arrays import LognormalUncertainty\n",
    "import numpy as np\n",
    "co2_exc['uncertainty type'] = LognormalUncertainty.id # this is an integer (not a float)\n",
    "co2_exc['loc'], co2_exc['scale'] = np.log(co2_exc['amount']), np.log(1.01) \n",
    "'''The lognorm dist is defined here two parameters: location and scale \n",
    "i.e. by the log of the geometric mean and by the geometric standard dev'''\n",
    "co2_exc.save() # important"
   ]
  },
  {
   "cell_type": "code",
   "execution_count": 22,
   "metadata": {},
   "outputs": [
    {
     "data": {
      "text/plain": [
       "Exchange: -2 kg 'Fuel production' (kg, None, None) to 'Electricity production' (kWh, None, None)>"
      ]
     },
     "execution_count": 22,
     "metadata": {},
     "output_type": "execute_result"
    }
   ],
   "source": [
    "el = t_db.get('Electricity production')  \n",
    "fuel_exc = list(el.exchanges())[0]   # the first exchange\n",
    "fuel_exc"
   ]
  },
  {
   "cell_type": "code",
   "execution_count": 23,
   "metadata": {},
   "outputs": [],
   "source": [
    "# Lognormal distribution first\n",
    "from stats_arrays import LognormalUncertainty\n",
    "import numpy as np\n",
    "fuel_exc['uncertainty type'] = LognormalUncertainty.id # this is an integer (not a float)\n",
    "fuel_exc['loc'], fuel_exc['scale'] = np.log(-fuel_exc['amount']), np.log(1.01)\n",
    "fuel_exc['negative'] = True\n",
    "'''The lognorm dist is defined here two parameters: location and scale \n",
    "i.e. by the log of the geometric mean and by the geometric standard dev'''\n",
    "fuel_exc.save() # important"
   ]
  },
  {
   "cell_type": "code",
   "execution_count": 24,
   "metadata": {},
   "outputs": [
    {
     "data": {
      "text/plain": [
       "{'uncertainty type': 2,\n",
       " 'loc': 0.6931471805599453,\n",
       " 'scale': 0.009950330853168092,\n",
       " 'negative': True}"
      ]
     },
     "execution_count": 24,
     "metadata": {},
     "output_type": "execute_result"
    }
   ],
   "source": [
    "fuel_exc.uncertainty  #"
   ]
  },
  {
   "cell_type": "code",
   "execution_count": 25,
   "metadata": {},
   "outputs": [
    {
     "data": {
      "text/plain": [
       "{'uncertainty type': 2, 'loc': 0.0, 'scale': 0.009950330853168092}"
      ]
     },
     "execution_count": 25,
     "metadata": {},
     "output_type": "execute_result"
    }
   ],
   "source": [
    "co2_exc.uncertainty  # check that info is stored"
   ]
  },
  {
   "cell_type": "code",
   "execution_count": 26,
   "metadata": {},
   "outputs": [
    {
     "data": {
      "text/plain": [
       "{'input': ('testdb', 'Carbon dioxide'),\n",
       " 'amount': 1,\n",
       " 'unit': 'kg',\n",
       " 'type': 'biosphere',\n",
       " 'output': ('testdb', 'Electricity production'),\n",
       " 'uncertainty type': 2,\n",
       " 'loc': 0.0,\n",
       " 'scale': 0.009950330853168092}"
      ]
     },
     "execution_count": 26,
     "metadata": {},
     "output_type": "execute_result"
    }
   ],
   "source": [
    "co2_exc.as_dict()  # Now uncertainty is included"
   ]
  },
  {
   "cell_type": "code",
   "execution_count": 27,
   "metadata": {},
   "outputs": [
    {
     "data": {
      "text/plain": [
       "array([0.99293269, 0.99285084, 0.99098088, 0.99022904, 0.988498  ,\n",
       "       1.01554049, 1.00305135, 0.99264086, 1.01028537, 1.01206679])"
      ]
     },
     "execution_count": 27,
     "metadata": {},
     "output_type": "execute_result"
    }
   ],
   "source": [
    "co2_exc.random_sample(n=10)  # nice"
   ]
  },
  {
   "cell_type": "code",
   "execution_count": 28,
   "metadata": {},
   "outputs": [
    {
     "data": {
      "text/plain": [
       "(array([  3.,  16.,  66., 148., 256., 249., 160.,  73.,  24.,   5.]),\n",
       " array([0.96517356, 0.97207084, 0.97896813, 0.98586542, 0.9927627 ,\n",
       "        0.99965999, 1.00655728, 1.01345456, 1.02035185, 1.02724914,\n",
       "        1.03414642]),\n",
       " <a list of 10 Patch objects>)"
      ]
     },
     "execution_count": 28,
     "metadata": {},
     "output_type": "execute_result"
    },
    {
     "data": {
      "image/png": "[encoded data removed]",
      "text/plain": [
       "<Figure size 432x288 with 1 Axes>"
      ]
     },
     "metadata": {
      "needs_background": "light"
     },
     "output_type": "display_data"
    }
   ],
   "source": [
    "# if you want to see this\n",
    "%matplotlib inline\n",
    "plt.hist(co2_exc.random_sample(n=1000))"
   ]
  },
  {
   "cell_type": "code",
   "execution_count": 29,
   "metadata": {},
   "outputs": [],
   "source": [
    "# this in case you want to try with normal dist\n",
    "#from stats_arrays import NormalUncertainty\n",
    "\n",
    "#co2_exc['uncertainty type'] = NormalUncertainty.id\n",
    "#co2_exc['loc'], co2_exc['scale'] = 1, 0.01\n",
    "#co2_exc.save()\n",
    "#co2_exc.uncertainty  # check that\n",
    "#co2_exc.as_dict()  # OK"
   ]
  },
  {
   "cell_type": "markdown",
   "metadata": {},
   "source": [
    "#  Now MC simulation\n",
    "\n",
    "Sources here: [example](http://stackoverflow.com/questions/38532146/obtaining-distribution-of-results-from-lcia), [another example](https://brightwaylca.org/examples/getting-started.html), and [source code](https://bitbucket.org/cmutel/brightway2-calc/src/662740694a8c70074105b5dca45b58651adb5eb5/bw2calc/monte_carlo.py?at=default&fileviewer=file-view-default)"
   ]
  },
  {
   "cell_type": "code",
   "execution_count": 30,
   "metadata": {},
   "outputs": [
    {
     "data": {
      "text/plain": [
       "{'uncertainty type': 2,\n",
       " 'loc': 0.6931471805599453,\n",
       " 'scale': 0.009950330853168092,\n",
       " 'negative': True}"
      ]
     },
     "execution_count": 30,
     "metadata": {},
     "output_type": "execute_result"
    }
   ],
   "source": [
    "# Check again that uncertainty info is stored\n",
    "list(el.exchanges())[0].uncertainty"
   ]
  },
  {
   "cell_type": "code",
   "execution_count": 31,
   "metadata": {},
   "outputs": [],
   "source": [
    "# This is the montecarlo simulation\n",
    "mc = bw.MonteCarloLCA({el: 1000}, method_key)  # Monte Carlo class\n",
    "mc_results = [next(mc) for x in range(500)] \n",
    "\n",
    "# two things here:\n",
    "# next() is an iterator, a peculiar python construct, check it online\n",
    "# using a fuction within [ ] usig a for loop is called a \"list comprehension\". The result is a list"
   ]
  },
  {
   "cell_type": "code",
   "execution_count": 32,
   "metadata": {},
   "outputs": [
    {
     "data": {
      "text/plain": [
       "[80.8470924758598,\n",
       " 79.40648554236468,\n",
       " 79.59568743993212,\n",
       " 79.53268454721179,\n",
       " 79.91268638107525,\n",
       " 79.61195529330506,\n",
       " 79.41169986486642,\n",
       " 80.8156494621044,\n",
       " 79.61602122364104]"
      ]
     },
     "execution_count": 32,
     "metadata": {},
     "output_type": "execute_result"
    }
   ],
   "source": [
    "mc_results[1:10] # printing the first 10 elements on the list...remember, the deterministic value was 80"
   ]
  },
  {
   "cell_type": "code",
   "execution_count": 33,
   "metadata": {},
   "outputs": [
    {
     "data": {
      "text/plain": [
       "Text(0.5, 0, 'lca.score')"
      ]
     },
     "execution_count": 33,
     "metadata": {},
     "output_type": "execute_result"
    },
    {
     "data": {
      "image/png": "[encoded data removed]",
      "text/plain": [
       "<Figure size 432x288 with 1 Axes>"
      ]
     },
     "metadata": {
      "needs_background": "light"
     },
     "output_type": "display_data"
    }
   ],
   "source": [
    "# Look at the MC results\n",
    "plt.hist(mc_results, density=True)  # From matplotlib package. Use bins = int(500/15) to increase number of bars\n",
    "plt.ylabel(\"Probability\")\n",
    "plt.xlabel('lca.score')"
   ]
  },
  {
   "cell_type": "code",
   "execution_count": 38,
   "metadata": {},
   "outputs": [
    {
     "name": "stdout",
     "output_type": "stream",
     "text": [
      "79.9935786057975\n",
      "79.949166578631\n",
      "80.0\n"
     ]
    }
   ],
   "source": [
    "print(np.mean(mc_results)) # from numpy package\n",
    "print(np.median(mc_results)) # from numpy package\n",
    "print(lca.score) # the deterministic value, we are very close to the mean and median"
   ]
  },
  {
   "cell_type": "code",
   "execution_count": 39,
   "metadata": {},
   "outputs": [
    {
     "data": {
      "text/html": [
       "<div>\n",
       "<style scoped>\n",
       "    .dataframe tbody tr th:only-of-type {\n",
       "        vertical-align: middle;\n",
       "    }\n",
       "\n",
       "    .dataframe tbody tr th {\n",
       "        vertical-align: top;\n",
       "    }\n",
       "\n",
       "    .dataframe thead th {\n",
       "        text-align: right;\n",
       "    }\n",
       "</style>\n",
       "<table border=\"1\" class=\"dataframe\">\n",
       "  <thead>\n",
       "    <tr style=\"text-align: right;\">\n",
       "      <th></th>\n",
       "      <th>0</th>\n",
       "    </tr>\n",
       "  </thead>\n",
       "  <tbody>\n",
       "    <tr>\n",
       "      <th>count</th>\n",
       "      <td>500.000000</td>\n",
       "    </tr>\n",
       "    <tr>\n",
       "      <th>mean</th>\n",
       "      <td>79.993579</td>\n",
       "    </tr>\n",
       "    <tr>\n",
       "      <th>std</th>\n",
       "      <td>0.794244</td>\n",
       "    </tr>\n",
       "    <tr>\n",
       "      <th>min</th>\n",
       "      <td>77.795197</td>\n",
       "    </tr>\n",
       "    <tr>\n",
       "      <th>25%</th>\n",
       "      <td>79.508864</td>\n",
       "    </tr>\n",
       "    <tr>\n",
       "      <th>50%</th>\n",
       "      <td>79.949167</td>\n",
       "    </tr>\n",
       "    <tr>\n",
       "      <th>75%</th>\n",
       "      <td>80.549553</td>\n",
       "    </tr>\n",
       "    <tr>\n",
       "      <th>max</th>\n",
       "      <td>82.669044</td>\n",
       "    </tr>\n",
       "  </tbody>\n",
       "</table>\n",
       "</div>"
      ],
      "text/plain": [
       "                0\n",
       "count  500.000000\n",
       "mean    79.993579\n",
       "std      0.794244\n",
       "min     77.795197\n",
       "25%     79.508864\n",
       "50%     79.949167\n",
       "75%     80.549553\n",
       "max     82.669044"
      ]
     },
     "execution_count": 39,
     "metadata": {},
     "output_type": "execute_result"
    }
   ],
   "source": [
    "pd.DataFrame(mc_results).describe()  # from pandas package"
   ]
  },
  {
   "cell_type": "code",
   "execution_count": 40,
   "metadata": {},
   "outputs": [
    {
     "data": {
      "text/plain": [
       "Text(0.5, 0, 'lca.score')"
      ]
     },
     "execution_count": 40,
     "metadata": {},
     "output_type": "execute_result"
    },
    {
     "data": {
      "image/png": "[encoded data removed]",
      "text/plain": [
       "<Figure size 432x288 with 1 Axes>"
      ]
     },
     "metadata": {
      "needs_background": "light"
     },
     "output_type": "display_data"
    }
   ],
   "source": [
    "# Do this again and compare results\n",
    "mc2 = bw.MonteCarloLCA({el: 1000}, method_key)  # Monte Carlo class\n",
    "mc2_results = [next(mc2) for x in range(500)]\n",
    "\n",
    "plt.hist(mc2_results, density=True)\n",
    "plt.ylabel(\"Probability\")\n",
    "plt.xlabel('lca.score')"
   ]
  },
  {
   "cell_type": "code",
   "execution_count": 41,
   "metadata": {},
   "outputs": [
    {
     "name": "stdout",
     "output_type": "stream",
     "text": [
      "80.01310670480588\n",
      "80.04085288332519\n",
      "80.0\n"
     ]
    }
   ],
   "source": [
    "print(np.mean(mc2_results))\n",
    "print(np.median(mc2_results))\n",
    "print(lca.score)"
   ]
  },
  {
   "cell_type": "code",
   "execution_count": 42,
   "metadata": {},
   "outputs": [
    {
     "data": {
      "text/plain": [
       "<matplotlib.collections.PathCollection at 0x7f8a5648ad90>"
      ]
     },
     "execution_count": 42,
     "metadata": {},
     "output_type": "execute_result"
    },
    {
     "data": {
      "image/png": "[encoded data removed]",
      "text/plain": [
       "<Figure size 432x288 with 1 Axes>"
      ]
     },
     "metadata": {
      "needs_background": "light"
     },
     "output_type": "display_data"
    }
   ],
   "source": [
    "plt.scatter(mc_results, mc2_results) # Correct. Do you understand why?"
   ]
  },
  {
   "cell_type": "code",
   "execution_count": 43,
   "metadata": {},
   "outputs": [
    {
     "name": "stdout",
     "output_type": "stream",
     "text": [
      "79.77456952519734\n",
      "80.1544447276144\n",
      "79.68904892569515\n",
      "79.12378124519253\n",
      "80.45184485657848\n",
      "80.29528933233743\n",
      "79.4718560799351\n",
      "80.26659181168154\n",
      "80.13771707955244\n"
     ]
    }
   ],
   "source": [
    "# Another way to do it\n",
    "iterations = 1000\n",
    "scores = np.zeros([1, iterations])  # 1-dimensional array filled with zeros\n",
    "for iteration in range(iterations):\n",
    "    next(mc)\n",
    "    scores[0, iteration] = mc.score\n",
    "for i in range(1, 10):\n",
    "    print(scores[0][i])  # need the zero because one-dimensional array"
   ]
  },
  {
   "cell_type": "code",
   "execution_count": 44,
   "metadata": {},
   "outputs": [
    {
     "name": "stdout",
     "output_type": "stream",
     "text": [
      "80.29011486175403\n",
      "79.24947300192474\n",
      "79.94094249849425\n",
      "80.40389437074391\n",
      "79.99765967422154\n",
      "80.20329402913065\n",
      "80.94757843747419\n",
      "81.37945522585332\n",
      "81.48202105467948\n"
     ]
    },
    {
     "data": {
      "text/plain": [
       "True"
      ]
     },
     "execution_count": 44,
     "metadata": {},
     "output_type": "execute_result"
    }
   ],
   "source": [
    "# Another way, get a list instead of an array\n",
    "iterations = 1000\n",
    "scores = []\n",
    "for iteration in range(iterations):\n",
    "    next(mc)\n",
    "    scores.append(mc.score)\n",
    "for i in range(1, 10):\n",
    "    print(scores[i])\n",
    "type(scores) == type(mc_results)  # same type of results as in the first case"
   ]
  }
 ],
 "metadata": {
  "kernelspec": {
   "display_name": "Python 3",
   "language": "python",
   "name": "python3"
  },
  "language_info": {
   "codemirror_mode": {
    "name": "ipython",
    "version": 3
   },
   "file_extension": ".py",
   "mimetype": "text/x-python",
   "name": "python",
   "nbconvert_exporter": "python",
   "pygments_lexer": "ipython3",
   "version": "3.7.7"
  }
 },
 "nbformat": 4,
 "nbformat_minor": 2
}
