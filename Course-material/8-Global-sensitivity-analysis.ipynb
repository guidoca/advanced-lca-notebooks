{
 "cells": [
  {
   "attachments": {},
   "cell_type": "markdown",
   "metadata": {},
   "source": [
    "# Global Sensitivity Analysis"
   ]
  },
  {
   "attachments": {},
   "cell_type": "markdown",
   "metadata": {},
   "source": [
    "This is a more complex case. Involves varying multiple parameters together and understanding which parameter is the one with the largest influence on results. This translates into a large simulation testing the various possibilities. One could use brute force and test all possible combinations of all parameters, and then run a regression on the results where the dependent variable is the impact of the system and the independent variables are the parameters. However, calculating a result for every possible combination might end up taking too much computation time, especially if the number of tested variables is high. Therefore, we use the Saltelli approah and a library called SALib wich is made for this purpose."
   ]
  },
  {
   "cell_type": "code",
   "execution_count": 1,
   "metadata": {},
   "outputs": [],
   "source": [
    "import numpy as np\n",
    "import scipy as sp\n",
    "import brightway2 as bw"
   ]
  },
  {
   "cell_type": "code",
   "execution_count": 2,
   "metadata": {},
   "outputs": [
    {
     "data": {
      "text/plain": [
       "Databases dictionary with 7 object(s):\n",
       "\tbiosphere3\n",
       "\tecoinvent 3.8 conseq\n",
       "\texldb\n",
       "\tgsa_db\n",
       "\tsa_db\n",
       "\ttestbiosphere\n",
       "\ttestdb"
      ]
     },
     "execution_count": 2,
     "metadata": {},
     "output_type": "execute_result"
    }
   ],
   "source": [
    "bw.projects.set_current('advlca23_simple_lca') # Still working in the same project\n",
    "bw.databases"
   ]
  },
  {
   "cell_type": "code",
   "execution_count": 3,
   "metadata": {},
   "outputs": [],
   "source": [
    "#if 'gsa_db' in bw.databases: del bw.databases['gsa_db'] # to clean up\n",
    "#bw.databases\n",
    "method_key =  ('IPCC 2021', 'climate change', 'global warming potential (GWP100)')\n",
    "database_name = 'ecoinvent 3.8 conseq'"
   ]
  },
  {
   "cell_type": "code",
   "execution_count": 4,
   "metadata": {},
   "outputs": [
    {
     "data": {
      "text/plain": [
       "[('ecoinvent 3.8 conseq', '0e155cfbafb45b07a26903f54cc8db95'),\n",
       " ('ecoinvent 3.8 conseq', '7f13e912a128f12d3df4c90fc4b712b4'),\n",
       " ('ecoinvent 3.8 conseq', '6f96af0d53295b3535224a2674252d48'),\n",
       " ('ecoinvent 3.8 conseq', 'e7a8beb50b42715a0ef5f064c87ff13e'),\n",
       " ('ecoinvent 3.8 conseq', 'e618180be1f397ed8a428cebb2e2d2eb')]"
      ]
     },
     "execution_count": 4,
     "metadata": {},
     "output_type": "execute_result"
    }
   ],
   "source": [
    "# First make a list of activities, in this case el. markets.\n",
    "# We want to investigate which of those has the largest influence on the results.\n",
    "\n",
    "el_markets = [(database_name, i['code']) \n",
    "              for i in bw.Database(database_name).search('market electricity low voltage', limit = 100)]\n",
    "el_markets[10:15]"
   ]
  },
  {
   "cell_type": "code",
   "execution_count": 5,
   "metadata": {},
   "outputs": [
    {
     "name": "stdout",
     "output_type": "stream",
     "text": [
      "'market for electricity, low voltage' (kilowatt hour, CZ, None)\n",
      "0.36633818303977905\n",
      "'market for electricity, low voltage' (kilowatt hour, LU, None)\n",
      "0.3019892087513205\n",
      "'market for electricity, low voltage' (kilowatt hour, KG, None)\n",
      "0.545534699427878\n",
      "'market for electricity, low voltage' (kilowatt hour, UA, None)\n",
      "0.5753874671954617\n",
      "'market for electricity, low voltage' (kilowatt hour, PK, None)\n",
      "0.5370952041518006\n"
     ]
    }
   ],
   "source": [
    "# let's look at what we actually got here\n",
    "for m in el_markets[10:15]:\n",
    "    \n",
    "    elmarket = bw.Database(database_name).get(m[1])\n",
    "    print(elmarket)\n",
    "    lca = bw.LCA({elmarket: 1}, method_key)\n",
    "    lca.lci()\n",
    "    lca.lcia()\n",
    "    print(lca.score) # The last one is the activity the highest carbon footprint"
   ]
  },
  {
   "cell_type": "code",
   "execution_count": 6,
   "metadata": {},
   "outputs": [
    {
     "name": "stdout",
     "output_type": "stream",
     "text": [
      "Warning: No valid output stream.\n",
      "Title: Writing activities to SQLite3 database:\n",
      "  Started: 08/01/2023 13:52:11\n",
      "  Finished: 08/01/2023 13:52:11\n",
      "  Total time elapsed: 00:00:00\n",
      "  CPU %: 0.00\n",
      "  Memory %: 4.02\n"
     ]
    }
   ],
   "source": [
    "# these activities are parameterized into a bw database\n",
    "gsa_db = bw.Database('gsa_db')\n",
    "gsa_db.write({  \n",
    "    ('gsa_db', 'el_prod_for_sa'): {\n",
    "        'name': 'Electricity production',\n",
    "        'unit': 'kilowatt hour',\n",
    "        'exchanges': [{\n",
    "            'input': (database_name, el_markets[10][1]), \n",
    "            'amount': 0.2,\n",
    "            'type': 'technosphere',\n",
    "            'formula': 'par0'}, # one parameter here \n",
    "        { \n",
    "            'input': (database_name, el_markets[11][1]), \n",
    "            'amount': 0.2,\n",
    "            'type': 'technosphere',\n",
    "            'formula': 'par1'}, # one parameter here \n",
    "        { \n",
    "            'input': (database_name, el_markets[12][1]), \n",
    "            'amount': 0.2,\n",
    "            'type': 'technosphere',\n",
    "            'formula': 'par2'}, # one parameter here \n",
    "        { \n",
    "            'input': (database_name, el_markets[13][1]), \n",
    "            'amount': 0.2,\n",
    "            'type': 'technosphere',\n",
    "            'formula': 'par3'}, # one parameter here \n",
    "        { \n",
    "            'input': (database_name, el_markets[14][1]), \n",
    "            'amount': 0.2,\n",
    "            'type': 'technosphere',\n",
    "            'formula': 'par4'}, # one parameter here \n",
    "        {\n",
    "            'input': ('gsa_db', 'el_prod_for_sa'),\n",
    "            'amount': 1.0,\n",
    "            'type': 'production'}]}})"
   ]
  },
  {
   "attachments": {},
   "cell_type": "markdown",
   "metadata": {},
   "source": [
    "We generate a specific sample for our parameters using the Saltelli approach. \n",
    "We will then analyze the results using the Sobol indices.\n",
    "For this we need functions from the python library SALib. See [here](https://salib.readthedocs.io/en/stable/getting-started.html) to install SALib with pip and  [here](https://anaconda.org/conda-forge/salib) to install SALib with Conda (remember that you need to install SALib into your BW2 environment! i.e. first activate the environment and then pip/conda install the SALib library)\n"
   ]
  },
  {
   "cell_type": "code",
   "execution_count": 7,
   "metadata": {},
   "outputs": [],
   "source": [
    "from SALib.sample import saltelli\n",
    "from SALib.analyze import sobol"
   ]
  },
  {
   "cell_type": "code",
   "execution_count": 8,
   "metadata": {},
   "outputs": [],
   "source": [
    "from bw2data.parameters import * # we also need the bw parameters"
   ]
  },
  {
   "cell_type": "code",
   "execution_count": 9,
   "metadata": {},
   "outputs": [],
   "source": [
    "# Step 1. define parameters and their ranges in form of a problem\n",
    "problem = { 'num_vars': 5, # number of variables\n",
    "            'names': ['par0', 'par1', 'par2', 'par3', 'par4'], # names of variables, same as parameters\n",
    "            'bounds': [[0, 1], [0, 1], # I am going to use percentiles for the first two  \n",
    "                       [0.2*0.9, 0.2*1.1], [0.2*0.9, 0.2*1.1], # uniform distribution for the other three\n",
    "                       [0.2*0.9, 0.2*1.1]] } "
   ]
  },
  {
   "cell_type": "code",
   "execution_count": 10,
   "metadata": {},
   "outputs": [
    {
     "data": {
      "text/plain": [
       "{'num_vars': 5,\n",
       " 'names': ['par0', 'par1', 'par2', 'par3', 'par4'],\n",
       " 'bounds': [[0, 1],\n",
       "  [0, 1],\n",
       "  [0.18000000000000002, 0.22000000000000003],\n",
       "  [0.18000000000000002, 0.22000000000000003],\n",
       "  [0.18000000000000002, 0.22000000000000003]]}"
      ]
     },
     "execution_count": 10,
     "metadata": {},
     "output_type": "execute_result"
    }
   ],
   "source": [
    "problem"
   ]
  },
  {
   "cell_type": "code",
   "execution_count": 11,
   "metadata": {},
   "outputs": [
    {
     "name": "stdout",
     "output_type": "stream",
     "text": [
      "(120, 5)\n"
     ]
    },
    {
     "name": "stderr",
     "output_type": "stream",
     "text": [
      "/usr/local/lib/python3.9/dist-packages/SALib-1.4.5-py3.9.egg/SALib/sample/saltelli.py:94: UserWarning: \n",
      "        Convergence properties of the Sobol' sequence is only valid if\n",
      "        `N` (10) is equal to `2^n`.\n",
      "        \n",
      "  warnings.warn(msg)\n"
     ]
    },
    {
     "data": {
      "text/plain": [
       "array([[0.09375, 0.46875, 0.19875, 0.20625, 0.19125],\n",
       "       [0.96875, 0.46875, 0.19875, 0.20625, 0.19125],\n",
       "       [0.09375, 0.53125, 0.19875, 0.20625, 0.19125],\n",
       "       [0.09375, 0.46875, 0.21375, 0.20625, 0.19125],\n",
       "       [0.09375, 0.46875, 0.19875, 0.19875, 0.19125]])"
      ]
     },
     "execution_count": 11,
     "metadata": {},
     "output_type": "execute_result"
    }
   ],
   "source": [
    "# Step 2. Generate the samples\n",
    "param_values = saltelli.sample(problem, 10) # 10 samples only, a very small input space. Returns 120 values.\n",
    "print(param_values.shape)\n",
    "param_values[0:5] # This is an array object (package numpy) you can think of it as a grid of values "
   ]
  },
  {
   "attachments": {},
   "cell_type": "markdown",
   "metadata": {},
   "source": [
    "There is a caveaut here. The Saltelli method generates uniform distributions. But let's assume the first two parameters of mine are **not** uniformly distributed. So I convert from percentile to value in the distribution."
   ]
  },
  {
   "cell_type": "code",
   "execution_count": 12,
   "metadata": {},
   "outputs": [
    {
     "data": {
      "text/plain": [
       "array([[0.18681989, 0.19843788, 0.19875   , 0.20625   , 0.19125   ],\n",
       "       [0.21862732, 0.19843788, 0.19875   , 0.20625   , 0.19125   ],\n",
       "       [0.18681989, 0.20157441, 0.19875   , 0.20625   , 0.19125   ],\n",
       "       [0.18681989, 0.19843788, 0.21375   , 0.20625   , 0.19125   ],\n",
       "       [0.18681989, 0.19843788, 0.19875   , 0.19875   , 0.19125   ]])"
      ]
     },
     "execution_count": 12,
     "metadata": {},
     "output_type": "execute_result"
    }
   ],
   "source": [
    "for i in param_values: # for each list of 5 elements...\n",
    "    i[0] = sp.stats.norm.ppf(i[0], 0.2, 0.01) # normal distribution\n",
    "    i[1] = sp.stats.lognorm.ppf(i[1], s = 0.1, scale = 0.2) #lognormal, see here:https://stackoverflow.com/questions/8870982/how-do-i-get-a-lognormal-distribution-in-python-with-mu-and-sigma\n",
    "param_values[0:5]"
   ]
  },
  {
   "attachments": {},
   "cell_type": "markdown",
   "metadata": {},
   "source": [
    "If you need to understand the above in more detail"
   ]
  },
  {
   "cell_type": "code",
   "execution_count": 13,
   "metadata": {
    "scrolled": true
   },
   "outputs": [
    {
     "name": "stdout",
     "output_type": "stream",
     "text": [
      "0.1932551024980392\n",
      "0.2\n"
     ]
    }
   ],
   "source": [
    "perc25 = sp.stats.norm.ppf(0.25, 0.2, 0.01) # generate the value of the percentile 0.25  \n",
    "                                            # of a normal distribution with mean 0.02 and sd 0.01\n",
    "print(perc25) \n",
    "\n",
    "\n",
    "perc50 = sp.stats.norm.ppf(0.5, 0.2, 0.01) # generate the value of the percentile 0.5 (= the mean!!!)  \n",
    "                                           # of a normal distribution with mean 0.02 and sd 0.01\n",
    "print(perc50)"
   ]
  },
  {
   "cell_type": "code",
   "execution_count": 14,
   "metadata": {},
   "outputs": [
    {
     "name": "stdout",
     "output_type": "stream",
     "text": [
      "Activity parameter: my group:__dummy_09490e296bc8481c8a953dba8b6f2db9__ 0.0\n",
      "Activity parameter: my group:my_parameter 0.45\n",
      "Activity parameter: gsagroup:par0 1.0\n",
      "Activity parameter: gsagroup:par1 1.0\n",
      "Activity parameter: gsagroup:par2 1.0\n",
      "Activity parameter: gsagroup:par3 1.0\n",
      "Activity parameter: gsagroup:par4 1.0\n",
      "Activity parameter: gsagroup:__dummy_2d18dbad19e447f8a6786410b8557a27__ 0.0\n"
     ]
    }
   ],
   "source": [
    "# Step 3. Define the details of each parameter\n",
    "activity_data = [{'name': 'par0', 'amount': 1.0, 'database': 'gsa_db', 'code' : 'par0code'},\n",
    "                 {'name': 'par1', 'amount': 1.0, 'database': 'gsa_db', 'code' : 'par1code'},\n",
    "                 {'name': 'par2', 'amount': 1.0, 'database': 'gsa_db', 'code' : 'par2code'},\n",
    "                 {'name': 'par3', 'amount': 1.0, 'database': 'gsa_db', 'code' : 'par3code'},\n",
    "                 {'name': 'par4', 'amount': 1.0, 'database': 'gsa_db', 'code' : 'par4code'}]\n",
    "\n",
    "parameters.new_activity_parameters(activity_data, \"gsagroup\", overwrite=True)\n",
    "parameters.add_exchanges_to_group(\"gsagroup\", gsa_db.get('el_prod_for_sa'))\n",
    "ActivityParameter.recalculate_exchanges(\"gsagroup\")\n",
    "for param in ActivityParameter.select():\n",
    "    print(param, param.amount)"
   ]
  },
  {
   "cell_type": "code",
   "execution_count": 15,
   "metadata": {},
   "outputs": [],
   "source": [
    "# Still step 3. Run these samples in our model and store the results in a list. It will take a while\n",
    "GSA_el_value_results = []\n",
    "for v in param_values:\n",
    "    ActivityParameter.update(amount = v[0]).where(ActivityParameter.name == 'par0').execute()\n",
    "    ActivityParameter.update(amount = v[1]).where(ActivityParameter.name == 'par1').execute()\n",
    "    ActivityParameter.update(amount = v[2]).where(ActivityParameter.name == 'par2').execute()\n",
    "    ActivityParameter.update(amount = v[3]).where(ActivityParameter.name == 'par3').execute()\n",
    "    ActivityParameter.update(amount = v[4]).where(ActivityParameter.name == 'par4').execute()\n",
    "    \n",
    "    ActivityParameter.recalculate_exchanges(\"gsagroup\")\n",
    "    \n",
    "    lca = bw.LCA({gsa_db.get('el_prod_for_sa') : 1}, method_key)\n",
    "    lca.lci()\n",
    "    lca.lcia()\n",
    "    GSA_el_value_results.append(lca.score)"
   ]
  },
  {
   "cell_type": "code",
   "execution_count": 16,
   "metadata": {},
   "outputs": [
    {
     "name": "stdout",
     "output_type": "stream",
     "text": [
      "            ST   ST_conf\n",
      "par0  0.214068  0.255983\n",
      "par1  0.775821  0.744861\n",
      "par2  0.494134  0.335905\n",
      "par3  0.497878  0.224313\n",
      "par4  0.478963  0.464385\n",
      "            S1   S1_conf\n",
      "par0  0.283373  0.306972\n",
      "par1  0.358422  0.608562\n",
      "par2 -0.240681  0.438280\n",
      "par3  0.373126  0.513003\n",
      "par4  0.305771  0.551461\n",
      "                    S2   S2_conf\n",
      "(par0, par1) -0.096481  0.665877\n",
      "(par0, par2)  0.132854  0.389830\n",
      "(par0, par3) -0.106679  0.535219\n",
      "(par0, par4) -0.135167  0.516177\n",
      "(par1, par2)  0.315690  0.834844\n",
      "(par1, par3)  0.598046  1.841244\n",
      "(par1, par4)  0.233650  1.062748\n",
      "(par2, par3)  1.070143  0.974407\n",
      "(par2, par4)  0.665172  0.582080\n",
      "(par3, par4) -0.597776  0.842523\n"
     ]
    }
   ],
   "source": [
    "# Step 4. Feed the problem and the results to the Sobol function to obtain the Sobol indices \n",
    "Si = sobol.analyze(problem, np.array(GSA_el_value_results), print_to_console=True) # must use np.array\n",
    "# Returns a dictionary with keys 'S1', 'S1_conf', 'ST', and 'ST_conf'\n",
    "# (first and total-order indices with bootstrap confidence intervals)"
   ]
  },
  {
   "attachments": {},
   "cell_type": "markdown",
   "metadata": {},
   "source": [
    "How to interpret this? S1 is the **first-order sensitivity index** (or main effect index), i.e. is the ration between the variance associated with the parameter and the total model variance. It is the *fraction* of total variance that is explained by the parameter. Or, in better words: _it measures the effect of varying the parameter alone, but averaged over variations in other input parameters_ ([See here](https://en.wikipedia.org/wiki/Variance-based_sensitivity_analysis)). In our case _par1_ alone explains 21% of the total variance. And seems therefore the most important one - or better, the one to which results are most sensitive to - , followed by _par2_ and _par3_.\n",
    "\n",
    "ST instead is the **total-effect index** (or total-order index), i.e. tells how much of the total variance is explained by the parameter taking into account also all its higher order interactions (e.g. the interaciton between _par1_ * _par3_, etc.) Also this case the most important parameter is _par1_ and then secondary parameters are _par2_and _par3_. We now konw that _par2_ has not only a large effect but also a large effect in interaction with other parameters.\n",
    "\n",
    "However, before we draw some conclusions, let's do two things: first, check the confidence intervals ofr each index. They are very large! So we can't really have much confience in these results...Second, check the next cell..."
   ]
  },
  {
   "cell_type": "code",
   "execution_count": 17,
   "metadata": {},
   "outputs": [
    {
     "data": {
      "text/plain": [
       "1.0800108734988"
      ]
     },
     "execution_count": 17,
     "metadata": {},
     "output_type": "execute_result"
    }
   ],
   "source": [
    "sum(Si['S1']) # Different from 1, so this is not a purely additive model...but is it really true? \n",
    "# Or is it just because we didn't have enough simulations?"
   ]
  },
  {
   "attachments": {},
   "cell_type": "markdown",
   "metadata": {},
   "source": [
    "# Understanding the Sobol indices even better\n",
    "\n",
    "Let's use an even simpler database, increase the number of simulations, and look at the indices again.\n",
    "Below here I redo the same but with an even more articifial example, a foreground-only system with only two emissions of equal value. Each of them is parametrised. This ligher system should allow for a faster simulation.\n",
    "\n",
    "Since the emissions have equal amount and equal carachterisation factor, we expect that the results will be equally sensitive to each of those. In oher words, these two parameters have equal importance and the sensitivity analysis results should show this."
   ]
  },
  {
   "cell_type": "code",
   "execution_count": 18,
   "metadata": {},
   "outputs": [
    {
     "name": "stdout",
     "output_type": "stream",
     "text": [
      "Warning: No valid output stream.\n",
      "Title: Writing activities to SQLite3 database:\n",
      "  Started: 08/01/2023 15:09:39\n",
      "  Finished: 08/01/2023 15:09:39\n",
      "  Total time elapsed: 00:00:00\n",
      "  CPU %: 0.00\n",
      "  Memory %: 5.24\n",
      "-----\n",
      "-----\n",
      "-----\n",
      "-----\n",
      "lca score = 2.0\n"
     ]
    }
   ],
   "source": [
    "t_db = bw.Database('SAtestdb')\n",
    "\n",
    "t_db.write({\n",
    "    (\"SAtestdb\", \"Electricity production\"):{\n",
    "        'name':'Electricity production',\n",
    "        'unit': 'kWh', \n",
    "        'exchanges': [{\n",
    "                'input': ('SAtestdb', 'Carbon dioxide'),\n",
    "                'amount': 1,\n",
    "                'unit': 'kg',\n",
    "                'type': 'biosphere',\n",
    "                'formula': 'parCO2' # one parameter here\n",
    "            },{\n",
    "                'input': ('SAtestdb', 'Sulphur dioxide'),\n",
    "                'amount': 1, # same value\n",
    "                'unit': 'kg',\n",
    "                'type': 'biosphere',\n",
    "                'formula': 'parSO2' # other parameter here\n",
    "            },{\n",
    "                'input': ('SAtestdb', 'Electricity production'), #important to write the same process name in output\n",
    "                'amount': 1,\n",
    "                'unit': 'kWh',\n",
    "                'type': 'production'\n",
    "            }]\n",
    "        },\n",
    "    ('SAtestdb', 'Carbon dioxide'):{'name': 'Carbon dioxide', 'unit':'kg', 'type': 'biosphere'},\n",
    "    ('SAtestdb', 'Sulphur dioxide'):{'name': 'Sulphur dioxide', 'unit':'kg', 'type': 'biosphere'}\n",
    "   \n",
    "    })\n",
    "\n",
    "myLCIAdata = [[('SAtestdb', 'Carbon dioxide'), 1.0], \n",
    "              [('SAtestdb', 'Sulphur dioxide'), 1.0]]\n",
    "\n",
    "imaginaryLCIAmethod = ('just', 'another', 'LCIAmethod')\n",
    "my_method = bw.Method(imaginaryLCIAmethod)\n",
    "my_method.validate(myLCIAdata)\n",
    "my_method.register() \n",
    "my_method.write(myLCIAdata)\n",
    "my_method.load()\n",
    "\n",
    "\n",
    "lca = bw.LCA({t_db.get('Electricity production') : 1}, imaginaryLCIAmethod)\n",
    "lca.lci()\n",
    "lca.lcia()\n",
    "print('-----\\n-----\\n-----\\n-----\\nlca score =', lca.score)"
   ]
  },
  {
   "cell_type": "code",
   "execution_count": 19,
   "metadata": {},
   "outputs": [
    {
     "name": "stdout",
     "output_type": "stream",
     "text": [
      "(6000, 2)\n"
     ]
    },
    {
     "name": "stderr",
     "output_type": "stream",
     "text": [
      "/usr/local/lib/python3.9/dist-packages/SALib-1.4.5-py3.9.egg/SALib/sample/saltelli.py:94: UserWarning: \n",
      "        Convergence properties of the Sobol' sequence is only valid if\n",
      "        `N` (1000) is equal to `2^n`.\n",
      "        \n",
      "  warnings.warn(msg)\n"
     ]
    },
    {
     "name": "stdout",
     "output_type": "stream",
     "text": [
      "              ST   ST_conf\n",
      "parCO2  0.500928  0.041329\n",
      "parSO2  0.499895  0.037825\n",
      "              S1   S1_conf\n",
      "parCO2  0.497918  0.060213\n",
      "parSO2  0.497822  0.055508\n",
      "                       S2   S2_conf\n",
      "(parCO2, parSO2)  0.00602  0.101083\n"
     ]
    }
   ],
   "source": [
    "# Step 1. define parameters and their ranges in form of a problem\n",
    "problem = { 'num_vars': 2, \n",
    "            'names': ['parCO2', 'parSO2'], \n",
    "            'bounds': [[0.9, 1.1], [0.9, 1.1]] }  # 10 % variation\n",
    "\n",
    "# Step 2. Generate the samples\n",
    "param_values = saltelli.sample(problem, 1000)\n",
    "print(param_values.shape)\n",
    "param_values[0:5]\n",
    "\n",
    "# Step 3. Define the details of the parameter 'my_parameter'\n",
    "activity_data2 = [{'name': 'parCO2', 'amount': 1.0, 'database': 'SAtestdb', 'code' : 'parCO2code'},\n",
    "                 {'name': 'parSO2', 'amount': 1.0, 'database': 'SAtestdb', 'code' : 'parSO2code'}]\n",
    "\n",
    "parameters.new_activity_parameters(activity_data2, \"my group 2\", overwrite=True)\n",
    "parameters.add_exchanges_to_group(\"my group 2\", t_db.get('Electricity production'))\n",
    "ActivityParameter.recalculate_exchanges(\"my group 2\")\n",
    "    \n",
    "GSA_el_value_results = []\n",
    "for v in param_values:\n",
    "    ActivityParameter.update(amount = v[0]).where(ActivityParameter.name == 'parCO2').execute()\n",
    "    ActivityParameter.update(amount = v[1]).where(ActivityParameter.name == 'parSO2').execute()\n",
    "    \n",
    "    ActivityParameter.recalculate_exchanges(\"my group 2\")\n",
    "    \n",
    "    lca = bw.LCA({t_db.get('Electricity production') : 1}, imaginaryLCIAmethod)\n",
    "    lca.lci()\n",
    "    lca.lcia()\n",
    "    GSA_el_value_results.append(lca.score)\n",
    "\n",
    "# Step 4. Feed the problem and the results to the Sobol function to obtain the Sobol indices \n",
    "Si = sobol.analyze(problem, np.array(GSA_el_value_results), print_to_console=True) # must use np.array\n",
    "# Returns a dictionary with keys 'S1', 'S1_conf', 'ST', and 'ST_conf'\n",
    "# (first and total-order indices with bootstrap confidence intervals)"
   ]
  },
  {
   "attachments": {},
   "cell_type": "markdown",
   "metadata": {},
   "source": [
    "Easier to interpret. The first order indices have almost the same value. Their error is much lower. The Total effect indices are very close to the first order one. because there is no interaction - and for the same reason the second order indices are close to zero. So everything works as expected and the two parameters are equally important. Moreover..."
   ]
  },
  {
   "cell_type": "code",
   "execution_count": 20,
   "metadata": {},
   "outputs": [
    {
     "data": {
      "text/plain": [
       "0.9957402413582259"
      ]
     },
     "execution_count": 20,
     "metadata": {},
     "output_type": "execute_result"
    }
   ],
   "source": [
    "sum(Si['S1']) # close to 1, so this confirms it is a purely additive model"
   ]
  },
  {
   "attachments": {},
   "cell_type": "markdown",
   "metadata": {},
   "source": [
    "For further understanding on how the Saltelli sampling method works, and how to correctly interpret the Sobol indices, refer to Chapter 4: _Variance based methods_  in Saltelli (2008). Otherwise check the [wikipedia page on variance-based sensitivity analysis](https://en.wikipedia.org/wiki/Variance-based_sensitivity_analysis) which contains a reasonably good summary on Sobol indices and the Saltelli sampling method. \n",
    "\n",
    "_Saltelli, A., Ratto, M., Andres, T., Campolongo, F., Cariboni, J., Gatelli, D., Saisana, M., Tarantola, S., 2008. Global Sensitivity Analysis. The Primer, Global Sensitivity Analysis. The Primer. [doi:10.1002/9780470725184](https://onlinelibrary.wiley.com/doi/book/10.1002/9780470725184)_\n"
   ]
  },
  {
   "attachments": {},
   "cell_type": "markdown",
   "metadata": {},
   "source": [
    "# Trying out a different GSA index"
   ]
  },
  {
   "attachments": {},
   "cell_type": "markdown",
   "metadata": {},
   "source": [
    "The sobol index is not the only one. We can do GSA with the Borgnonovo index as well, this is supposed to take into account correlation between parameters - and in LCA many parameters are correlatd, e.g. use of coal and production of electricity. You can read more about:\n",
    "- The index itself in [Borgonovo (2007)](https://doi.org/10.1016/j.ress.2006.04.015): _A new uncertainty importance measure_ \n",
    "- [How it is implemented in Salib](https://salib.readthedocs.io/en/latest/api.html#delta-moment-independent-measure) as _Delta Moment-Independent Measure_\n",
    "- and you can see an applicaiton in GSA for LCA models in [Blanco et al. (2020)](https://doi.org/10.1016/j.jclepro.2020.120968): _Assessing the sustainability of emerging technologies: A probabilistic LCA method applied to advanced photovoltaics_ "
   ]
  },
  {
   "cell_type": "code",
   "execution_count": 21,
   "metadata": {},
   "outputs": [],
   "source": [
    "from SALib.sample import latin\n",
    "from SALib.analyze import delta"
   ]
  },
  {
   "cell_type": "code",
   "execution_count": 22,
   "metadata": {},
   "outputs": [],
   "source": [
    "# Step 1. define parameters and their ranges in form of a problem\n",
    "problem = { 'num_vars': 5, \n",
    "            'names': ['par0', 'par1', 'par2', 'par3', 'par4'], \n",
    "            'bounds': [[0, 1], [0, 1], # I am going to use percentiles for the first two  \n",
    "                       [0.2*0.9, 0.2*1.1], [0.2*0.9, 0.2*1.1], # uniform disrribution for the other three\n",
    "                       [0.2*0.9, 0.2*1.1]] } "
   ]
  },
  {
   "cell_type": "code",
   "execution_count": 23,
   "metadata": {},
   "outputs": [
    {
     "name": "stdout",
     "output_type": "stream",
     "text": [
      "(1000, 5)\n"
     ]
    },
    {
     "data": {
      "text/plain": [
       "array([[0.69592325, 0.53333707, 0.18677448, 0.21207551, 0.18912385],\n",
       "       [0.00329915, 0.26140276, 0.18102273, 0.18937645, 0.18372529],\n",
       "       [0.21916811, 0.42710211, 0.19144139, 0.18924401, 0.18863481],\n",
       "       [0.63803   , 0.04325222, 0.18280547, 0.20807151, 0.21956324],\n",
       "       [0.86792333, 0.91962297, 0.21688522, 0.20348162, 0.20828557]])"
      ]
     },
     "execution_count": 23,
     "metadata": {},
     "output_type": "execute_result"
    }
   ],
   "source": [
    "# Step 2. Generate the samples\n",
    "param_values = latin.sample(problem, 1000) # reduce this number for a fast test simulation!\n",
    "print(param_values.shape)\n",
    "param_values[0:5]"
   ]
  },
  {
   "attachments": {},
   "cell_type": "markdown",
   "metadata": {},
   "source": [
    "As before, convert the first two in normal and lognormal respectively"
   ]
  },
  {
   "cell_type": "code",
   "execution_count": 24,
   "metadata": {},
   "outputs": [
    {
     "data": {
      "text/plain": [
       "array([[0.20512711, 0.20168024, 0.18677448, 0.21207551, 0.18912385],\n",
       "       [0.17283534, 0.18761926, 0.18102273, 0.18937645, 0.18372529],\n",
       "       [0.19224994, 0.19635842, 0.19144139, 0.18924401, 0.18863481],\n",
       "       [0.20353198, 0.16849467, 0.18280547, 0.20807151, 0.21956324],\n",
       "       [0.21116628, 0.2301132 , 0.21688522, 0.20348162, 0.20828557]])"
      ]
     },
     "execution_count": 24,
     "metadata": {},
     "output_type": "execute_result"
    }
   ],
   "source": [
    "for i in param_values:\n",
    "    i[0] = sp.stats.norm.ppf(i[0], 0.2, 0.01) #normal\n",
    "    i[1] = sp.stats.lognorm.ppf(i[1], s = 0.1, scale = 0.2) #lognormal, see here:https://stackoverflow.com/questions/8870982/how-do-i-get-a-lognormal-distribution-in-python-with-mu-and-sigma\n",
    "param_values[0:5]"
   ]
  },
  {
   "cell_type": "code",
   "execution_count": 25,
   "metadata": {},
   "outputs": [],
   "source": [
    "# Still step 3. Run these samples in our model and store the results in a list\n",
    "GSA_el_value_results = []\n",
    "for v in param_values:\n",
    "    ActivityParameter.update(amount = v[0]).where(ActivityParameter.name == 'par0').execute()\n",
    "    ActivityParameter.update(amount = v[1]).where(ActivityParameter.name == 'par1').execute()\n",
    "    ActivityParameter.update(amount = v[2]).where(ActivityParameter.name == 'par2').execute()\n",
    "    ActivityParameter.update(amount = v[3]).where(ActivityParameter.name == 'par3').execute()\n",
    "    ActivityParameter.update(amount = v[4]).where(ActivityParameter.name == 'par4').execute()\n",
    "    \n",
    "    ActivityParameter.recalculate_exchanges(\"gsagroup\")\n",
    "    \n",
    "    lca = bw.LCA({gsa_db.get('el_prod_for_sa') : 1}, method_key)\n",
    "    lca.lci()\n",
    "    lca.lcia()\n",
    "    GSA_el_value_results.append(lca.score)"
   ]
  },
  {
   "cell_type": "code",
   "execution_count": 26,
   "metadata": {},
   "outputs": [
    {
     "name": "stdout",
     "output_type": "stream",
     "text": [
      "         delta  delta_conf        S1   S1_conf\n",
      "par0  0.095140    0.021424  0.087108  0.030928\n",
      "par1  0.148051    0.022471  0.210149  0.038255\n",
      "par2  0.169688    0.021669  0.244415  0.040992\n",
      "par3  0.164620    0.019618  0.224882  0.039573\n",
      "par4  0.165173    0.018385  0.223359  0.035627\n"
     ]
    }
   ],
   "source": [
    "# Step 4. Feed the problem and the results to the Sobol function to obtain the Sobol indices \n",
    "D = delta.analyze(problem, param_values, np.array(GSA_el_value_results), print_to_console=True) # must use np.array\n",
    "# Returns a dictionary with keys 'delta', 'delta_conf', 'S1', and 'S1_conf'\n",
    "# (first and total-order indices with bootstrap confidence intervals)"
   ]
  },
  {
   "attachments": {},
   "cell_type": "markdown",
   "metadata": {},
   "source": [
    "D (Delta) represents the normalized expected shift in the distribution of model output provoked by the parameter under analysis. Delta lies between 0 and 1 and it is zero when the model output is independent of the parameter.\n",
    "\n",
    "In our case, Delta returns a similar result than the Sobol indices. Again the most sensitive parameter is _par1_ afollowed by _par2_ and _par3_."
   ]
  },
  {
   "attachments": {},
   "cell_type": "markdown",
   "metadata": {},
   "source": [
    "### Questions for own reflection and plenum discussion\n",
    "\n",
    "Could we have found the same results by looking just at the contribution analysis results?\n",
    "Whn do you think it is usueful to perform this simulation and for which parameters in your LCA model?"
   ]
  },
  {
   "attachments": {},
   "cell_type": "markdown",
   "metadata": {},
   "source": [
    "## Group exercise (we will do this in class): sensitivity analysis on the case studies.\n",
    "\n",
    "Reflect about possible source of variance for your case study. Which activities are you unsure about? Are you in doubt about the type of activity used, or about the value used? Which activities do you expect to affect the results? Formulate some hypotheses based on your expectations and your understanding of your product system case. Then select the relevant parameters that could help you test these hypotheses and identify how sensitive are the results of your case study to these. Finally quantify this influence and rank the parameters based on their influence on the results.  "
   ]
  }
 ],
 "metadata": {
  "kernelspec": {
   "display_name": "Python 3 (ipykernel)",
   "language": "python",
   "name": "python3"
  },
  "language_info": {
   "codemirror_mode": {
    "name": "ipython",
    "version": 3
   },
   "file_extension": ".py",
   "mimetype": "text/x-python",
   "name": "python",
   "nbconvert_exporter": "python",
   "pygments_lexer": "ipython3",
   "version": "3.9.5"
  }
 },
 "nbformat": 4,
 "nbformat_minor": 2
}
