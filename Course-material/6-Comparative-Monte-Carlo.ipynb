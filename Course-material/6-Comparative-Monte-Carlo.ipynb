{
 "cells": [
  {
   "attachments": {},
   "cell_type": "markdown",
   "metadata": {},
   "source": [
    "# Comparative Monte Carlo"
   ]
  },
  {
   "attachments": {},
   "cell_type": "markdown",
   "metadata": {},
   "source": [
    "This script shows how to perform a more advanced comparative Monte Carlo simulation.\n",
    "\n",
    "We also run Monte Carlo simulation using the background system and not only the foreground one as in the previous notebook.\n",
    "\n",
    "A comparative Monte Carlo is the type of simulation to be used in comparative LCAs, i.e. in analyses where different alternatives to provide the same Functional Unit are compared. In this comparative case it is important to randomly sample a common technology matrix **A** for all alternatives at each iteration, instead of having a different technology matrix per each alternative at each iteration. This allows for a smaller variance and shorter computational times, but is not possible with e.g. SimaPro. Moreover, this allows to optimally perform the  statistical testing of the results with paired tests, to see if the two alternatives are significantly different from each other or not. \n",
    "\n",
    "To better understand this script, I recommend reading read the paper by Henriksson et al. (2015) which is probably the best example of an LCA with comparative Monte Carlo simulation followed by statistical testing for significant differences between alternatives. \n",
    "\n",
    "_Henriksson, P. J. G., Rico, A., Zhang, W., Ahmad-Al-Nahid, S., Newton, R., Phan, L. T., … Guinée, J. B. (2015). Comparison of Asian Aquaculture Products by Use of Statistically Supported Life Cycle Assessment. Environmental Science and Technology, 49(24), 14176-14183. [https://doi.org/10.1021/acs.est.5b04634](https://doi.org/10.1021/acs.est.5b04634)_"
   ]
  },
  {
   "cell_type": "code",
   "execution_count": 5,
   "metadata": {},
   "outputs": [],
   "source": [
    "import brightway2 as bw\n",
    "import pandas as pd\n",
    "import numpy as np\n",
    "from matplotlib import pyplot as plt\n",
    "from scipy import stats"
   ]
  },
  {
   "cell_type": "code",
   "execution_count": 6,
   "metadata": {},
   "outputs": [
    {
     "data": {
      "text/plain": [
       "Databases dictionary with 5 object(s):\n",
       "\tbiosphere3\n",
       "\tecoinvent 3.8 conseq\n",
       "\texldb\n",
       "\ttestbiosphere\n",
       "\ttestdb"
      ]
     },
     "execution_count": 6,
     "metadata": {},
     "output_type": "execute_result"
    }
   ],
   "source": [
    "bw.projects.set_current('advlca23_simple_lca')\n",
    "bw.databases"
   ]
  },
  {
   "cell_type": "code",
   "execution_count": 7,
   "metadata": {},
   "outputs": [],
   "source": [
    "\n",
    "database_name = 'ecoinvent 3.8 conseq'\n",
    "db = bw.Database(database_name)\n",
    "ipcc = ('IPCC 2013', 'climate change', 'GTP 100a')\n",
    "ipcc =  ('IPCC 2021', 'climate change', 'global warming potential (GWP100)')"
   ]
  },
  {
   "cell_type": "code",
   "execution_count": 8,
   "metadata": {},
   "outputs": [
    {
     "data": {
      "text/plain": [
       "0.024599958338827627"
      ]
     },
     "execution_count": 8,
     "metadata": {},
     "output_type": "execute_result"
    }
   ],
   "source": [
    "# Simple montecarlo on ecoinvent process as we know it. We are using the background system.\n",
    "mydemand = {db.random(): 1}  # select a random process\n",
    "lca = bw.LCA(mydemand, ipcc)\n",
    "lca.lci()\n",
    "lca.lcia()\n",
    "lca.score"
   ]
  },
  {
   "cell_type": "code",
   "execution_count": 9,
   "metadata": {},
   "outputs": [],
   "source": [
    "mc = bw.MonteCarloLCA(mydemand, ipcc)\n",
    "mc_results = [next(mc) for x in range(100)] # will take a minute, we are randomly sampling ecoinvent 500 times"
   ]
  },
  {
   "cell_type": "code",
   "execution_count": 10,
   "metadata": {},
   "outputs": [
    {
     "data": {
      "text/plain": [
       "0.024599958338827627"
      ]
     },
     "execution_count": 10,
     "metadata": {},
     "output_type": "execute_result"
    },
    {
     "data": {
      "image/png": "[encoded data removed]",
      "text/plain": [
       "<Figure size 432x288 with 1 Axes>"
      ]
     },
     "metadata": {
      "needs_background": "light"
     },
     "output_type": "display_data"
    }
   ],
   "source": [
    "# plot MC results\n",
    "plt.hist(mc_results, density=True)\n",
    "plt.ylabel(\"Probability\")\n",
    "plt.xlabel(bw.methods[ipcc][\"unit\"])\n",
    "pd.DataFrame(mc_results).describe() \n",
    "lca.score"
   ]
  },
  {
   "cell_type": "code",
   "execution_count": 11,
   "metadata": {},
   "outputs": [],
   "source": [
    "# Now comparative analysis, select two different transport activities\n",
    "activity_name = 'transport, freight, lorry >32 metric ton, EURO5'    \n",
    "for activity in bw.Database(database_name):\n",
    "    if activity['name'] == activity_name:\n",
    "        truckE5 = activity\n",
    "\n",
    "activity_name = 'transport, freight, lorry >32 metric ton, EURO6'    \n",
    "for activity in bw.Database(database_name):\n",
    "    if activity['name'] == activity_name:\n",
    "        truckE6 = activity"
   ]
  },
  {
   "cell_type": "code",
   "execution_count": 12,
   "metadata": {},
   "outputs": [
    {
     "data": {
      "text/plain": [
       "0.08391344805170972"
      ]
     },
     "execution_count": 12,
     "metadata": {},
     "output_type": "execute_result"
    }
   ],
   "source": [
    "# make a list with the alternatives\n",
    "demands = [{truckE5: 1}, {truckE6: 1}]  # At home, check by using the same process (e.g. truckE5) two times.\n",
    "\n",
    "mc = bw.MonteCarloLCA(demands[0], ipcc) # We are calculating the impact of transport with the EURO5 truck\n",
    "next(mc)"
   ]
  },
  {
   "cell_type": "code",
   "execution_count": 13,
   "metadata": {},
   "outputs": [
    {
     "name": "stdout",
     "output_type": "stream",
     "text": [
      "0.08391344805170972\n",
      "0.11370670640696397\n",
      "0.08391344805170972\n"
     ]
    }
   ],
   "source": [
    "# look at this first\n",
    "mc.redo_lcia(demands[0]) # EURO5 truck\n",
    "print(mc.score)\n",
    "mc.redo_lcia(demands[1]) # EURO6 truck. I am using the same technology matrix \"A\" as before to calcualte results\n",
    "print(mc.score)\n",
    "mc.redo_lcia(demands[0]) # EURO5 truck again. Same result. Note how \"redo.lcia\" allows doing dependent sampling\n",
    "print(mc.score)"
   ]
  },
  {
   "cell_type": "code",
   "execution_count": 14,
   "metadata": {},
   "outputs": [],
   "source": [
    "# Now for several iterations\n",
    "iterations = 100\n",
    "simulations = [] # empty list that will contain the restuls of all iterations, for all alternatives\n",
    "\n",
    "for _ in range(iterations):\n",
    "    #print(_)\n",
    "    next(mc)\n",
    "    mcresults = []    # empty list that will contain results for one iteration, for two alteratives\n",
    "    for i in demands:\n",
    "        mc.redo_lcia(i)\n",
    "        mcresults.append(mc.score)\n",
    "    simulations.append(mcresults) # appends one list to another\n",
    "    \n",
    "    \n",
    "df = pd.DataFrame(simulations, columns = ['truckE5','truckE6']) # df is for \"dataframe\"\n",
    "#df.to_csv('ComparativeMCsimulation.csv') # to save it"
   ]
  },
  {
   "cell_type": "code",
   "execution_count": 15,
   "metadata": {},
   "outputs": [
    {
     "data": {
      "text/html": [
       "<div>\n",
       "<style scoped>\n",
       "    .dataframe tbody tr th:only-of-type {\n",
       "        vertical-align: middle;\n",
       "    }\n",
       "\n",
       "    .dataframe tbody tr th {\n",
       "        vertical-align: top;\n",
       "    }\n",
       "\n",
       "    .dataframe thead th {\n",
       "        text-align: right;\n",
       "    }\n",
       "</style>\n",
       "<table border=\"1\" class=\"dataframe\">\n",
       "  <thead>\n",
       "    <tr style=\"text-align: right;\">\n",
       "      <th></th>\n",
       "      <th>truckE5</th>\n",
       "      <th>truckE6</th>\n",
       "    </tr>\n",
       "  </thead>\n",
       "  <tbody>\n",
       "    <tr>\n",
       "      <th>0</th>\n",
       "      <td>0.071866</td>\n",
       "      <td>0.107804</td>\n",
       "    </tr>\n",
       "    <tr>\n",
       "      <th>1</th>\n",
       "      <td>0.076760</td>\n",
       "      <td>0.123452</td>\n",
       "    </tr>\n",
       "    <tr>\n",
       "      <th>2</th>\n",
       "      <td>0.060138</td>\n",
       "      <td>0.124104</td>\n",
       "    </tr>\n",
       "    <tr>\n",
       "      <th>3</th>\n",
       "      <td>0.058444</td>\n",
       "      <td>0.081745</td>\n",
       "    </tr>\n",
       "    <tr>\n",
       "      <th>4</th>\n",
       "      <td>0.086968</td>\n",
       "      <td>0.116754</td>\n",
       "    </tr>\n",
       "    <tr>\n",
       "      <th>...</th>\n",
       "      <td>...</td>\n",
       "      <td>...</td>\n",
       "    </tr>\n",
       "    <tr>\n",
       "      <th>95</th>\n",
       "      <td>0.129142</td>\n",
       "      <td>0.112237</td>\n",
       "    </tr>\n",
       "    <tr>\n",
       "      <th>96</th>\n",
       "      <td>0.079320</td>\n",
       "      <td>0.131331</td>\n",
       "    </tr>\n",
       "    <tr>\n",
       "      <th>97</th>\n",
       "      <td>0.094354</td>\n",
       "      <td>0.073809</td>\n",
       "    </tr>\n",
       "    <tr>\n",
       "      <th>98</th>\n",
       "      <td>0.093558</td>\n",
       "      <td>0.090284</td>\n",
       "    </tr>\n",
       "    <tr>\n",
       "      <th>99</th>\n",
       "      <td>0.051270</td>\n",
       "      <td>0.080557</td>\n",
       "    </tr>\n",
       "  </tbody>\n",
       "</table>\n",
       "<p>100 rows × 2 columns</p>\n",
       "</div>"
      ],
      "text/plain": [
       "     truckE5   truckE6\n",
       "0   0.071866  0.107804\n",
       "1   0.076760  0.123452\n",
       "2   0.060138  0.124104\n",
       "3   0.058444  0.081745\n",
       "4   0.086968  0.116754\n",
       "..       ...       ...\n",
       "95  0.129142  0.112237\n",
       "96  0.079320  0.131331\n",
       "97  0.094354  0.073809\n",
       "98  0.093558  0.090284\n",
       "99  0.051270  0.080557\n",
       "\n",
       "[100 rows x 2 columns]"
      ]
     },
     "execution_count": 15,
     "metadata": {},
     "output_type": "execute_result"
    }
   ],
   "source": [
    "df"
   ]
  },
  {
   "cell_type": "code",
   "execution_count": 16,
   "metadata": {},
   "outputs": [
    {
     "data": {
      "text/plain": [
       "<AxesSubplot:>"
      ]
     },
     "execution_count": 16,
     "metadata": {},
     "output_type": "execute_result"
    },
    {
     "data": {
      "image/png": "[encoded data removed]",
      "text/plain": [
       "<Figure size 432x288 with 1 Axes>"
      ]
     },
     "metadata": {
      "needs_background": "light"
     },
     "output_type": "display_data"
    }
   ],
   "source": [
    "df.plot(kind = 'box')\n",
    "#df.T.melt()"
   ]
  },
  {
   "cell_type": "code",
   "execution_count": 17,
   "metadata": {},
   "outputs": [
    {
     "data": {
      "text/plain": [
       "Text(0, 0.5, 'truckE6 - kg CO2-eq')"
      ]
     },
     "execution_count": 17,
     "metadata": {},
     "output_type": "execute_result"
    },
    {
     "data": {
      "image/png": "[encoded data removed]",
      "text/plain": [
       "<Figure size 432x288 with 1 Axes>"
      ]
     },
     "metadata": {
      "needs_background": "light"
     },
     "output_type": "display_data"
    }
   ],
   "source": [
    "# plot one against the other to see if there is any trend\n",
    "plt.plot(df.truckE5, df.truckE6, 'o')\n",
    "plt.xlabel('truckE5 - kg CO2-eq')\n",
    "plt.ylabel('truckE6 - kg CO2-eq')"
   ]
  },
  {
   "cell_type": "code",
   "execution_count": 18,
   "metadata": {},
   "outputs": [
    {
     "name": "stdout",
     "output_type": "stream",
     "text": [
      "64\n",
      "36\n",
      "0\n"
     ]
    },
    {
     "data": {
      "image/png": "[encoded data removed]",
      "text/plain": [
       "<Figure size 432x288 with 1 Axes>"
      ]
     },
     "metadata": {
      "needs_background": "light"
     },
     "output_type": "display_data"
    }
   ],
   "source": [
    "# You can see how many times the difference is positive. This is what Simapro does\n",
    "df['diffe'] = df.truckE5 - df.truckE6\n",
    "plt.hist(df.diffe.values)\n",
    "print(len(df.diffe[df.diffe < 0]))\n",
    "print(len(df.diffe[df.diffe > 0]))\n",
    "print(len(df.diffe[df.diffe == 0]))"
   ]
  },
  {
   "cell_type": "code",
   "execution_count": 19,
   "metadata": {},
   "outputs": [
    {
     "data": {
      "text/plain": [
       "(-2.897093992176002, 0.004636656626418785)"
      ]
     },
     "execution_count": 19,
     "metadata": {},
     "output_type": "execute_result"
    }
   ],
   "source": [
    "# Statistical testing (using the stats package)\n",
    "# I can use a paired t-test\n",
    "\n",
    "t_value, p_value = stats.ttest_rel(df.truckE5,df.truckE6)\n",
    "t_value, p_value"
   ]
  },
  {
   "cell_type": "code",
   "execution_count": 20,
   "metadata": {},
   "outputs": [
    {
     "name": "stdout",
     "output_type": "stream",
     "text": [
      "3.396913962205872e-05\n",
      "0.01583791896700859\n"
     ]
    },
    {
     "data": {
      "image/png": "[encoded data removed]",
      "text/plain": [
       "<Figure size 432x288 with 1 Axes>"
      ]
     },
     "metadata": {
      "needs_background": "light"
     },
     "output_type": "display_data"
    }
   ],
   "source": [
    "# But wait! did we check for normality?\n",
    "plt.hist(df.truckE5.values)\n",
    "plt.xlabel('truckE5 - kg CO2-eq')\n",
    "\n",
    "SW_value, SW_p_value = stats.shapiro(df.truckE5)\n",
    "print(SW_p_value) # Not normally distributed...\n",
    "\n",
    "plt.hist(df.truckE6.values)\n",
    "SW_value, SW_p_value = stats.shapiro(df.truckE6)\n",
    "print(SW_p_value) # Not normally distributed...\n"
   ]
  },
  {
   "cell_type": "code",
   "execution_count": 21,
   "metadata": {},
   "outputs": [
    {
     "data": {
      "text/plain": [
       "(1608.0, 0.0016163287634650477)"
      ]
     },
     "execution_count": 21,
     "metadata": {},
     "output_type": "execute_result"
    }
   ],
   "source": [
    "# Alright need a non-parametric test. Wilcox sign rank test\n",
    "s_value, p_value = stats.wilcoxon(df.truckE5, df.truckE6)\n",
    "s_value, p_value # Not bad, significant difference at p < 0.01."
   ]
  },
  {
   "cell_type": "code",
   "execution_count": 22,
   "metadata": {},
   "outputs": [],
   "source": [
    "# What if we had done the MC on the processes independently.\n",
    "mc1 = bw.MonteCarloLCA({truckE5: 1}, ipcc) # truckE5\n",
    "mc1_results = [next(mc1) for x in range(100)]\n",
    "\n",
    "mc2 = bw.MonteCarloLCA({truckE5: 1}, ipcc)  # it's still truckE5 !!! I am comparing two times the same activity\n",
    "mc2_results = [next(mc2) for x in range(100)]\n",
    "\n",
    "df_ind = pd.DataFrame({'mc1': mc1_results, 'mc2' : mc2_results})"
   ]
  },
  {
   "cell_type": "code",
   "execution_count": 23,
   "metadata": {},
   "outputs": [
    {
     "data": {
      "text/html": [
       "<div>\n",
       "<style scoped>\n",
       "    .dataframe tbody tr th:only-of-type {\n",
       "        vertical-align: middle;\n",
       "    }\n",
       "\n",
       "    .dataframe tbody tr th {\n",
       "        vertical-align: top;\n",
       "    }\n",
       "\n",
       "    .dataframe thead th {\n",
       "        text-align: right;\n",
       "    }\n",
       "</style>\n",
       "<table border=\"1\" class=\"dataframe\">\n",
       "  <thead>\n",
       "    <tr style=\"text-align: right;\">\n",
       "      <th></th>\n",
       "      <th>mc1</th>\n",
       "      <th>mc2</th>\n",
       "    </tr>\n",
       "  </thead>\n",
       "  <tbody>\n",
       "    <tr>\n",
       "      <th>0</th>\n",
       "      <td>0.095614</td>\n",
       "      <td>0.082635</td>\n",
       "    </tr>\n",
       "    <tr>\n",
       "      <th>1</th>\n",
       "      <td>0.042632</td>\n",
       "      <td>0.079845</td>\n",
       "    </tr>\n",
       "    <tr>\n",
       "      <th>2</th>\n",
       "      <td>0.067990</td>\n",
       "      <td>0.136508</td>\n",
       "    </tr>\n",
       "    <tr>\n",
       "      <th>3</th>\n",
       "      <td>0.072440</td>\n",
       "      <td>0.077361</td>\n",
       "    </tr>\n",
       "    <tr>\n",
       "      <th>4</th>\n",
       "      <td>0.094945</td>\n",
       "      <td>0.078191</td>\n",
       "    </tr>\n",
       "  </tbody>\n",
       "</table>\n",
       "</div>"
      ],
      "text/plain": [
       "        mc1       mc2\n",
       "0  0.095614  0.082635\n",
       "1  0.042632  0.079845\n",
       "2  0.067990  0.136508\n",
       "3  0.072440  0.077361\n",
       "4  0.094945  0.078191"
      ]
     },
     "execution_count": 23,
     "metadata": {},
     "output_type": "execute_result"
    }
   ],
   "source": [
    "df_ind.head()"
   ]
  },
  {
   "cell_type": "code",
   "execution_count": 24,
   "metadata": {},
   "outputs": [],
   "source": [
    "# compare to this\n",
    "demands = [{truckE5: 1}, {truckE5: 1}]  # Two times truckE5! I want to see if the MC results are paired\n",
    "mc = bw.MonteCarloLCA(demands[0], ipcc)\n",
    "iterations = 100\n",
    "simulations = []\n",
    "\n",
    "for _ in range(iterations):\n",
    "    next(mc)\n",
    "    mcresults = []    \n",
    "    for i in demands:\n",
    "        mc.redo_lcia(i)\n",
    "        mcresults.append(mc.score)\n",
    "    simulations.append(mcresults)\n",
    "    \n",
    "    \n",
    "simulations\n",
    "df_dep = pd.DataFrame(simulations, columns = ['mc1','mc2'])"
   ]
  },
  {
   "cell_type": "code",
   "execution_count": 25,
   "metadata": {},
   "outputs": [
    {
     "data": {
      "text/html": [
       "<div>\n",
       "<style scoped>\n",
       "    .dataframe tbody tr th:only-of-type {\n",
       "        vertical-align: middle;\n",
       "    }\n",
       "\n",
       "    .dataframe tbody tr th {\n",
       "        vertical-align: top;\n",
       "    }\n",
       "\n",
       "    .dataframe thead th {\n",
       "        text-align: right;\n",
       "    }\n",
       "</style>\n",
       "<table border=\"1\" class=\"dataframe\">\n",
       "  <thead>\n",
       "    <tr style=\"text-align: right;\">\n",
       "      <th></th>\n",
       "      <th>mc1</th>\n",
       "      <th>mc2</th>\n",
       "    </tr>\n",
       "  </thead>\n",
       "  <tbody>\n",
       "    <tr>\n",
       "      <th>0</th>\n",
       "      <td>0.078472</td>\n",
       "      <td>0.078472</td>\n",
       "    </tr>\n",
       "    <tr>\n",
       "      <th>1</th>\n",
       "      <td>0.082878</td>\n",
       "      <td>0.082878</td>\n",
       "    </tr>\n",
       "    <tr>\n",
       "      <th>2</th>\n",
       "      <td>0.078288</td>\n",
       "      <td>0.078288</td>\n",
       "    </tr>\n",
       "    <tr>\n",
       "      <th>3</th>\n",
       "      <td>0.076543</td>\n",
       "      <td>0.076543</td>\n",
       "    </tr>\n",
       "    <tr>\n",
       "      <th>4</th>\n",
       "      <td>0.082028</td>\n",
       "      <td>0.082028</td>\n",
       "    </tr>\n",
       "  </tbody>\n",
       "</table>\n",
       "</div>"
      ],
      "text/plain": [
       "        mc1       mc2\n",
       "0  0.078472  0.078472\n",
       "1  0.082878  0.082878\n",
       "2  0.078288  0.078288\n",
       "3  0.076543  0.076543\n",
       "4  0.082028  0.082028"
      ]
     },
     "execution_count": 25,
     "metadata": {},
     "output_type": "execute_result"
    }
   ],
   "source": [
    "df_dep.head()"
   ]
  },
  {
   "cell_type": "code",
   "execution_count": 26,
   "metadata": {},
   "outputs": [
    {
     "data": {
      "text/plain": [
       "<AxesSubplot:title={'center':'dependent sampling'}>"
      ]
     },
     "execution_count": 26,
     "metadata": {},
     "output_type": "execute_result"
    },
    {
     "data": {
      "image/png": "[encoded data removed]",
      "text/plain": [
       "<Figure size 432x288 with 1 Axes>"
      ]
     },
     "metadata": {
      "needs_background": "light"
     },
     "output_type": "display_data"
    },
    {
     "data": {
      "image/png": "[encoded data removed]",
      "text/plain": [
       "<Figure size 432x288 with 1 Axes>"
      ]
     },
     "metadata": {
      "needs_background": "light"
     },
     "output_type": "display_data"
    }
   ],
   "source": [
    "# visual inspection\n",
    "df_ind.plot(kind = 'box', title = \"independent sampling\")\n",
    "df_dep.plot(kind = 'box', title = \"dependent sampling\")"
   ]
  },
  {
   "cell_type": "code",
   "execution_count": 27,
   "metadata": {},
   "outputs": [
    {
     "data": {
      "text/plain": [
       "[<matplotlib.lines.Line2D at 0x7f818358daf0>]"
      ]
     },
     "execution_count": 27,
     "metadata": {},
     "output_type": "execute_result"
    },
    {
     "data": {
      "image/png": "[encoded data removed]",
      "text/plain": [
       "<Figure size 432x288 with 1 Axes>"
      ]
     },
     "metadata": {
      "needs_background": "light"
     },
     "output_type": "display_data"
    }
   ],
   "source": [
    "# Plot them together and one against the other\n",
    "plt.plot(df_ind.mc1, df_ind.mc2, 'o')\n",
    "plt.plot(df_dep.mc1, df_dep.mc2, 'o') # see?"
   ]
  },
  {
   "cell_type": "code",
   "execution_count": 28,
   "metadata": {},
   "outputs": [
    {
     "name": "stdout",
     "output_type": "stream",
     "text": [
      "nan nan\n",
      "-1.1828152803263834 0.23971518290210833\n",
      "2293.0 0.4250496167958784\n"
     ]
    }
   ],
   "source": [
    "# and of course:\n",
    "t_value, p_value = stats.ttest_rel(df_dep.mc1, df_dep.mc2)\n",
    "print(t_value, p_value)  # no difference AT ALL (as expected)\n",
    "\n",
    "t_value, p_value = stats.ttest_rel(df_ind.mc1, df_ind.mc2)\n",
    "print(t_value, p_value)  # no difference (as expected! But still some variance even if it's the same perocess!)\n",
    "\n",
    "s_value, p_value = stats.wilcoxon(df_ind.mc1, df_ind.mc2)\n",
    "print(s_value, p_value)\n"
   ]
  },
  {
   "attachments": {},
   "cell_type": "markdown",
   "metadata": {},
   "source": [
    "# Additional resources to understand LCA statistics\n",
    "\n",
    "When applying a statistical approach to LCA, there are some key concepts that is important to understand in detail: distribution types, error propagation, statistical testing. If you are new to statistics, a first step is reading the wikipedia pages explaining [Monte Carlo method](https://en.wikipedia.org/wiki/Monte_Carlo_method), general [statistical hypothesis testing](https://en.wikipedia.org/wiki/Statistical_hypothesis_testing), [parametric](https://en.wikipedia.org/wiki/Parametric_statistics) and [nonparametric](https://en.wikipedia.org/wiki/Nonparametric_statistics) statistics, [normality tests](https://en.wikipedia.org/wiki/Normality_test), [t-test](https://en.wikipedia.org/wiki/Student%27s_t-test#Alternatives_to_the_t-test_for_location_problems), [Wilcoxon signed-rank test](https://en.wikipedia.org/wiki/Wilcoxon_signed-rank_test). When implementing this in Brightway2, it is then useful to read the corresponding python documentation for [statistical functions](https://docs.scipy.org/doc/scipy/reference/stats.html) of the stats package. For example the following functions were used in this script: [Shapiro-Wilk test](https://docs.scipy.org/doc/scipy/reference/generated/scipy.stats.shapiro.html#scipy.stats.shapiro), [paired t-test](https://docs.scipy.org/doc/scipy/reference/generated/scipy.stats.ttest_rel.html#scipy.stats.ttest_rel), and [Wilcoxon signed-rank test](https://docs.scipy.org/doc/scipy/reference/generated/scipy.stats.wilcoxon.html#scipy.stats.wilcoxon). \n",
    "\n",
    "If you want to learn more, buy a good introductory statistics book. Ideally one which has a good balance between mathematical expressions and pedagogic explanations. There are also many open source or free ones, I can recommend e.g. [Statistics](https://en.wikibooks.org/wiki/Statistics) which explains testing in general and it's written in a way which is easy to understand, [The Elements of Data Analytic Style](https://leanpub.com/datastyle) which introduces to data analysis in general, and [Statistical inference for data science](http://leanpub.com/LittleInferenceBook) which is is very practical and especially useful if you also know R. In general I would encourage to learn R too if you plan to work with stats - I honestly prefer it to python for doing statistical analysis and also for plots.\n",
    "\n"
   ]
  },
  {
   "attachments": {},
   "cell_type": "markdown",
   "metadata": {},
   "source": [
    "# Check also these\n",
    "    \n",
    "#### On Wikipedia\n",
    "\n",
    "Monte Carlo method \n",
    "https://en.wikipedia.org/wiki/Monte_Carlo_method\n",
    "\n",
    "Normal distribution\n",
    "https://en.wikipedia.org/wiki/File:Standard_deviation_diagram.svg#/media/File:Standard_deviation_diagram.svg\n",
    "\n",
    "Parameters of a logrormal distribution\n",
    "https://en.wikipedia.org/wiki/Log-normal_distribution#/media/File:LogNormal17.jpg\n",
    "\n",
    "\n",
    "#### On the Brightway website docs\n",
    "\n",
    "Storing uncertain values\n",
    "https://2.docs.brightway.dev/intro.html#storing-uncertain-values\n",
    "\n",
    "\n",
    "#### Papers on this topic (recent ones)\n",
    "\n",
    "A critique (not very clear tbh but still, a perspective) \n",
    "https://pub.epsilon.slu.se/19792/1/von_bromssen_c_et_al_201229.pdf\n",
    "\n",
    "How many montecarlo runs? \n",
    "https://link.springer.com/article/10.1007/s11367-019-01698-4\n",
    "\n",
    "Ways of doing comparative testing\n",
    "https://link.springer.com/article/10.1007/s11367-020-01851-4\n"
   ]
  }
 ],
 "metadata": {
  "kernelspec": {
   "display_name": "Python 3 (ipykernel)",
   "language": "python",
   "name": "python3"
  },
  "language_info": {
   "codemirror_mode": {
    "name": "ipython",
    "version": 3
   },
   "file_extension": ".py",
   "mimetype": "text/x-python",
   "name": "python",
   "nbconvert_exporter": "python",
   "pygments_lexer": "ipython3",
   "version": "3.9.5"
  }
 },
 "nbformat": 4,
 "nbformat_minor": 2
}
