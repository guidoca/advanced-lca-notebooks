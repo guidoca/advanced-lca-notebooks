{
 "cells": [
  {
   "cell_type": "markdown",
   "id": "vietnamese-commodity",
   "metadata": {},
   "source": [
    "# Parallel Super fast MC background iterations, paired, for multiple methods and activities"
   ]
  },
  {
   "cell_type": "markdown",
   "id": "geological-stadium",
   "metadata": {},
   "source": [
    "Sometimes you need a lot of MC iterations in the background (background GSA for instance). Using a powerful computer with multiple cores is not enough because the built-in brightway MC iterator is sequential and does not work in parallel.\n",
    "So I here force it to be parallel using \"ray\" which distributes work across workers.\n",
    "\n"
   ]
  },
  {
   "cell_type": "markdown",
   "id": "informational-midwest",
   "metadata": {},
   "source": [
    "*Basically, it's just a parallelized version of the Paired Background MC  script*"
   ]
  },
  {
   "cell_type": "markdown",
   "id": "controversial-wesley",
   "metadata": {},
   "source": [
    "THIS IS NOT NECESSARILY FASTER ON A LOCAL LAPTOP BUT TAKES IT'S FULL POTENTIAL ON THE SERVERS WITH 16, 32, 64 CPUS."
   ]
  },
  {
   "cell_type": "markdown",
   "id": "powerful-composite",
   "metadata": {},
   "source": [
    "**On Ucloud with the 64 cores (very easy to use): 0.5 s per MC for 95 activities, 20 impact categories, all paired**\n",
    "\n",
    "**i.e. 30 min for 10 000 iterations for 95 FUs for 20 Impact categories :) Adding impact category does not add computing time at all.**"
   ]
  },
  {
   "cell_type": "markdown",
   "id": "systematic-showcase",
   "metadata": {},
   "source": [
    "Ucould is very easy to use via it's graphic interface. You can run jupytr notebooks from there."
   ]
  },
  {
   "cell_type": "markdown",
   "id": "humanitarian-hometown",
   "metadata": {},
   "source": [
    "**THIS NEEDS THE PACKAGE \"ray\". and \"itertools\"**\n",
    "\n",
    "pip import ray \n",
    "\n",
    "conda install -c conda-forge r-itertools"
   ]
  },
  {
   "cell_type": "code",
   "execution_count": 14,
   "id": "upper-second",
   "metadata": {},
   "outputs": [],
   "source": [
    "\n",
    "import datetime\n",
    "from time import *\n",
    "\n",
    "import os\n",
    "import sys\n",
    "\n",
    "import pandas as pd\n",
    "from random import *\n",
    "from itertools import *\n",
    "from math import*\n",
    "import csv\n",
    "import copy\n",
    "import numpy as np\n",
    "import random\n",
    "\n",
    "\n",
    "import bw2data\n",
    "import bw2io\n",
    "from bw2data.parameters import *\n",
    "import brightway2 as bw\n",
    "\n",
    "\n",
    "import ray\n",
    "import multiprocessing\n",
    "\n",
    "\n",
    "from itertools import compress\n",
    "\n",
    "\n",
    "import functools\n",
    "\n"
   ]
  },
  {
   "cell_type": "markdown",
   "id": "twenty-apparel",
   "metadata": {},
   "source": [
    "## Loading brightway"
   ]
  },
  {
   "cell_type": "code",
   "execution_count": 15,
   "id": "marine-slave",
   "metadata": {},
   "outputs": [],
   "source": [
    "\n",
    "    \n",
    "bw.projects.set_current('Eco38_4') \n",
    "\n",
    "\n",
    "\n",
    "# Loading Ecoinvent\n",
    "Ecoinvent = bw.Database('ecoinvent 3.8 conseq')\n",
    "\n",
    "\n",
    "\n",
    "\n",
    "biosphere=bw.Database('biosphere3')\n",
    "\n",
    "\n"
   ]
  },
  {
   "cell_type": "code",
   "execution_count": 16,
   "id": "sudden-toddler",
   "metadata": {},
   "outputs": [],
   "source": [
    "# 5 methods\n",
    "list_meth =[('ReCiPe Midpoint (I)', 'climate change', 'GWP20'), \n",
    "            ('ReCiPe Midpoint (H)', 'human toxicity', 'HTPinf'),\n",
    "            ('ReCiPe Midpoint (H)', 'freshwater ecotoxicity', 'FETPinf'),\n",
    "            ('ReCiPe Midpoint (H)', 'terrestrial ecotoxicity', 'TETPinf')]\n",
    " \n"
   ]
  },
  {
   "cell_type": "code",
   "execution_count": 2,
   "id": "extreme-escape",
   "metadata": {},
   "outputs": [
    {
     "ename": "NameError",
     "evalue": "name 'Ecoinvent' is not defined",
     "output_type": "error",
     "traceback": [
      "\u001b[1;31m---------------------------------------------------------------------------\u001b[0m",
      "\u001b[1;31mNameError\u001b[0m                                 Traceback (most recent call last)",
      "\u001b[1;32m<ipython-input-2-9ab6f66d04d4>\u001b[0m in \u001b[0;36m<module>\u001b[1;34m\u001b[0m\n\u001b[1;32m----> 1\u001b[1;33m \u001b[0mlist_act_fu\u001b[0m \u001b[1;33m=\u001b[0m\u001b[1;33m[\u001b[0m\u001b[1;33m{\u001b[0m\u001b[0mEcoinvent\u001b[0m\u001b[1;33m.\u001b[0m\u001b[0mrandom\u001b[0m\u001b[1;33m(\u001b[0m\u001b[1;33m)\u001b[0m\u001b[1;33m:\u001b[0m\u001b[1;36m1\u001b[0m\u001b[1;33m}\u001b[0m \u001b[1;32mfor\u001b[0m \u001b[0mi\u001b[0m \u001b[1;32min\u001b[0m \u001b[0mrange\u001b[0m\u001b[1;33m(\u001b[0m\u001b[1;36m5\u001b[0m\u001b[1;33m)\u001b[0m\u001b[1;33m]\u001b[0m \u001b[1;31m# The activities you want to make MC iterations for\u001b[0m\u001b[1;33m\u001b[0m\u001b[1;33m\u001b[0m\u001b[0m\n\u001b[0m",
      "\u001b[1;32m<ipython-input-2-9ab6f66d04d4>\u001b[0m in \u001b[0;36m<listcomp>\u001b[1;34m(.0)\u001b[0m\n\u001b[1;32m----> 1\u001b[1;33m \u001b[0mlist_act_fu\u001b[0m \u001b[1;33m=\u001b[0m\u001b[1;33m[\u001b[0m\u001b[1;33m{\u001b[0m\u001b[0mEcoinvent\u001b[0m\u001b[1;33m.\u001b[0m\u001b[0mrandom\u001b[0m\u001b[1;33m(\u001b[0m\u001b[1;33m)\u001b[0m\u001b[1;33m:\u001b[0m\u001b[1;36m1\u001b[0m\u001b[1;33m}\u001b[0m \u001b[1;32mfor\u001b[0m \u001b[0mi\u001b[0m \u001b[1;32min\u001b[0m \u001b[0mrange\u001b[0m\u001b[1;33m(\u001b[0m\u001b[1;36m5\u001b[0m\u001b[1;33m)\u001b[0m\u001b[1;33m]\u001b[0m \u001b[1;31m# The activities you want to make MC iterations for\u001b[0m\u001b[1;33m\u001b[0m\u001b[1;33m\u001b[0m\u001b[0m\n\u001b[0m",
      "\u001b[1;31mNameError\u001b[0m: name 'Ecoinvent' is not defined"
     ]
    }
   ],
   "source": [
    "list_act_fu =[{Ecoinvent.random():1} for i in range(5)] # The activities you want to make MC iterations for"
   ]
  },
  {
   "cell_type": "code",
   "execution_count": 18,
   "id": "floppy-neighborhood",
   "metadata": {},
   "outputs": [
    {
     "data": {
      "text/plain": [
       "[{'market for electricity, medium voltage' (kilowatt hour, GT, None): 1},\n",
       " {'oil power plant construction, 500MW' (unit, RER, None): 1},\n",
       " {'treatment of high level radioactive waste for final repository' (cubic meter, CH, None): 1},\n",
       " {'sanitary landfill facility construction' (unit, CH, None): 1},\n",
       " {'market for waste paperboard' (kilogram, CY, None): 1}]"
      ]
     },
     "execution_count": 18,
     "metadata": {},
     "output_type": "execute_result"
    }
   ],
   "source": [
    "list_act_fu"
   ]
  },
  {
   "cell_type": "markdown",
   "id": "respiratory-puzzle",
   "metadata": {},
   "source": [
    "Collect the necessary characterization matrixes in a dictionnary "
   ]
  },
  {
   "cell_type": "code",
   "execution_count": 19,
   "id": "champion-fault",
   "metadata": {},
   "outputs": [],
   "source": [
    "\n",
    "\n",
    "# Create empty dictionnary to collect characterization matrixes\n",
    "C_matrixes ={}\n",
    "\n",
    "# Make a LCA. It's only to load a LCA object. We do not care about the result.\n",
    "Lca=bw.LCA({Ecoinvent.random():1},('ReCiPe Midpoint (I)', 'climate change', 'GWP20'))\n",
    "Lca.lci()\n",
    "Lca.lcia()\n",
    "\n",
    "# Use switch_method and collect the characterization matrix for every change\n",
    "for meth in list_meth:\n",
    "    Lca.switch_method(meth)\n",
    "    #print(meth,\"##############\")\n",
    "    #print(Lca.characterization_matrix)\n",
    "    C_matrixes[meth]=Lca.characterization_matrix\n"
   ]
  },
  {
   "cell_type": "markdown",
   "id": "elementary-harvest",
   "metadata": {},
   "source": [
    "Here we want to make 9 MC iterations in total, and we divide the work over 3 cores (number_chunks), 3 iterations each (size_divis).\n",
    "\n",
    "FYI the best ratios I found to make 235 000 on 64 cores iterations was :\n",
    "size_divis= 1000\n",
    "number_chunks = 235\n",
    "\n",
    "Try to stick to this ratio somehow for a good performance."
   ]
  },
  {
   "cell_type": "code",
   "execution_count": 20,
   "id": "lovely-philosophy",
   "metadata": {},
   "outputs": [],
   "source": [
    "size_divis= 3\n",
    "number_chunks = 3\n",
    "\n",
    "size= size_divis * number_chunks\n",
    "\n"
   ]
  },
  {
   "cell_type": "markdown",
   "id": "isolated-indonesia",
   "metadata": {},
   "source": [
    "This is the function that will be run in parallel on several cores. \n",
    "\n",
    "It needs the decorator \"@ray.remote \" just before the first line.\n",
    "\n"
   ]
  },
  {
   "cell_type": "code",
   "execution_count": 7,
   "id": "hundred-jenny",
   "metadata": {},
   "outputs": [
    {
     "ename": "NameError",
     "evalue": "name 'ray' is not defined",
     "output_type": "error",
     "traceback": [
      "\u001b[1;31m---------------------------------------------------------------------------\u001b[0m",
      "\u001b[1;31mNameError\u001b[0m                                 Traceback (most recent call last)",
      "\u001b[1;32m<ipython-input-7-ff071b5c5a0d>\u001b[0m in \u001b[0;36m<module>\u001b[1;34m\u001b[0m\n\u001b[1;32m----> 1\u001b[1;33m \u001b[1;33m@\u001b[0m\u001b[0mray\u001b[0m\u001b[1;33m.\u001b[0m\u001b[0mremote\u001b[0m   \u001b[1;31m# MAGIC decoration\u001b[0m\u001b[1;33m\u001b[0m\u001b[1;33m\u001b[0m\u001b[0m\n\u001b[0m\u001b[0;32m      2\u001b[0m \u001b[1;32mdef\u001b[0m \u001b[0mparallel_MC_backgound\u001b[0m\u001b[1;33m(\u001b[0m\u001b[0mconstant_inputs\u001b[0m\u001b[1;33m)\u001b[0m\u001b[1;33m:\u001b[0m\u001b[1;33m\u001b[0m\u001b[1;33m\u001b[0m\u001b[0m\n\u001b[0;32m      3\u001b[0m \u001b[1;33m\u001b[0m\u001b[0m\n\u001b[0;32m      4\u001b[0m     [list_act_fu,\n\u001b[0;32m      5\u001b[0m      \u001b[0mlist_meth\u001b[0m\u001b[1;33m,\u001b[0m\u001b[1;33m\u001b[0m\u001b[1;33m\u001b[0m\u001b[0m\n",
      "\u001b[1;31mNameError\u001b[0m: name 'ray' is not defined"
     ]
    }
   ],
   "source": [
    "@ray.remote   # MAGIC decoration\n",
    "def parallel_MC_backgound(constant_inputs):\n",
    "    \n",
    "    [list_act_fu,\n",
    "     list_meth,\n",
    "     C_matrixes,\n",
    "     size_divis] = constant_inputs\n",
    "    \n",
    "        \n",
    "    \n",
    "    \n",
    "    bw.projects.set_current('Eco38_4')  # This is ugly but we need to re-load brightway on each core. \n",
    "\n",
    "    \n",
    "    \n",
    "    # Loading Ecoinvent\n",
    "    Ecoinvent = bw.Database('ecoinvent 3.8 conseq') # Same\n",
    "\n",
    "\n",
    "\n",
    "\n",
    "    biosphere=bw.Database('biosphere3')\n",
    "\n",
    "\n",
    "    list_array_mc_sample=[np.array([[0]*len(list_act_fu) ]*size_divis,dtype=\"float32\") for meth in range(len(list_meth))]  # Initialize empty list for table\n",
    "\n",
    "    \n",
    "    mc=bw.MonteCarloLCA(list_act_fu[0],('ReCiPe Midpoint (I)', 'climate change', 'GWP20'))\n",
    "    \n",
    "    #print(\"done_initializing\")\n",
    "\n",
    "    for it in range(size_divis):  # This is excatly the same cdoe as in the non parallel Paired background MC script\n",
    "        \n",
    "        #print(\"iteration\",it)\n",
    "        next(mc)\n",
    "        #print(\"ok2\",it)\n",
    "    \n",
    "        for i in range(0,len(list_act_fu)):\n",
    "            \n",
    "            mc.redo_lcia(list_act_fu[i])  # redo with new FU\n",
    "\n",
    "            index_array_method=-1\n",
    "\n",
    "            #print(i)\n",
    "            for m in list_meth:\n",
    "\n",
    "                #print(\"ok3\",m)\n",
    "\n",
    "                index_array_method+=1\n",
    "\n",
    "\n",
    "\n",
    "                list_array_mc_sample[index_array_method][it,i]=(C_matrixes[m]*mc.inventory).sum()\n",
    "\n",
    "\n",
    "\n",
    "    # Just reordering the results\n",
    "    \n",
    "    list_array_total_mc_sorted =[[[0 for a in range(list_array_mc_sample[0].shape[1])] for meth in list_meth] for it in range(size_divis)]\n",
    "\n",
    "\n",
    "    for it in range(size_divis):\n",
    "        row_to_add = [meth[it] for meth in list_array_mc_sample]\n",
    "        #print(row_to_add)\n",
    "        #print(row_to_add[0])\n",
    "        #print(len(row_to_add[]))\n",
    "        #print(len(row_to_add))\n",
    "\n",
    "        list_array_total_mc_sorted[it] = row_to_add\n",
    "\n",
    "    return list_array_total_mc_sorted   \n",
    "    \n",
    "\n"
   ]
  },
  {
   "cell_type": "markdown",
   "id": "established-avatar",
   "metadata": {},
   "source": [
    "The next cells runs the MC iterations in parallel."
   ]
  },
  {
   "cell_type": "code",
   "execution_count": 50,
   "id": "threaded-interpretation",
   "metadata": {},
   "outputs": [
    {
     "name": "stdout",
     "output_type": "stream",
     "text": [
      "timetot_parallel 46.11112689971924\n"
     ]
    }
   ],
   "source": [
    "ray.shutdown() \n",
    "\n",
    "ray.init()\n",
    "\n",
    "\n",
    "\n",
    "constant_inputs = ray.put([list_act_fu,  # We need to feed ray with the inputs that are common to all iterations. It's a common space accross all core working together\n",
    "                           list_meth,\n",
    "                           C_matrixes,\n",
    "                           size_divis])\n",
    "time3=time()\n",
    "\n",
    "ray_results = ray.get([parallel_MC_backgound.remote(constant_inputs) for i in range(number_chunks )]) # This distibutes and launches the work. \n",
    "list_array_total_mc_sorted = functools.reduce(operator.iconcat, ray_results, []) # reorder results\n",
    "\n",
    "time4=time()\n",
    "\n",
    "print(\"timetot_parallel\",time4-time3)\n"
   ]
  },
  {
   "cell_type": "markdown",
   "id": "adolescent-circulation",
   "metadata": {},
   "source": [
    "Note that this works because every time a core starts doing MC iterations within brightway, it starts with a different seed. This is annoying in most cases but there it's useful as we know that the different cores are sampling different values and we can them recombine them in a total sample after all."
   ]
  },
  {
   "cell_type": "code",
   "execution_count": 58,
   "id": "alone-access",
   "metadata": {},
   "outputs": [
    {
     "data": {
      "text/plain": [
       "9"
      ]
     },
     "execution_count": 58,
     "metadata": {},
     "output_type": "execute_result"
    }
   ],
   "source": [
    "len(list_array_total_mc_sorted) # 9 iterations "
   ]
  },
  {
   "cell_type": "code",
   "execution_count": 59,
   "id": "automatic-contemporary",
   "metadata": {},
   "outputs": [
    {
     "data": {
      "text/plain": [
       "4"
      ]
     },
     "execution_count": 59,
     "metadata": {},
     "output_type": "execute_result"
    }
   ],
   "source": [
    "len(list_array_total_mc_sorted[0]) #4 Impact categories"
   ]
  },
  {
   "cell_type": "code",
   "execution_count": 60,
   "id": "limiting-distribution",
   "metadata": {},
   "outputs": [
    {
     "data": {
      "text/plain": [
       "5"
      ]
     },
     "execution_count": 60,
     "metadata": {},
     "output_type": "execute_result"
    }
   ],
   "source": [
    "len(list_array_total_mc_sorted[0][0]) #5 FU"
   ]
  },
  {
   "cell_type": "markdown",
   "id": "antique-method",
   "metadata": {},
   "source": [
    " The result is here presented as a list of MC iterations containing a list of impact categories containing a list of FUs. It's maybe not the most convenient way for your use. But you an play around to reorganise it as you want."
   ]
  },
  {
   "cell_type": "code",
   "execution_count": null,
   "id": "killing-aaron",
   "metadata": {},
   "outputs": [],
   "source": []
  }
 ],
 "metadata": {
  "kernelspec": {
   "display_name": "Python 3",
   "language": "python",
   "name": "python3"
  },
  "language_info": {
   "codemirror_mode": {
    "name": "ipython",
    "version": 3
   },
   "file_extension": ".py",
   "mimetype": "text/x-python",
   "name": "python",
   "nbconvert_exporter": "python",
   "pygments_lexer": "ipython3",
   "version": "3.8.6"
  }
 },
 "nbformat": 4,
 "nbformat_minor": 5
}
