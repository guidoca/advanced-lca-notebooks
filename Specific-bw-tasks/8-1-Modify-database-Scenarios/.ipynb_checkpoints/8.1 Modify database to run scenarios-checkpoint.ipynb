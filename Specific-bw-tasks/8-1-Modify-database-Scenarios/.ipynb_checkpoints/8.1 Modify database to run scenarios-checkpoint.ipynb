{
 "cells": [
  {
   "cell_type": "markdown",
   "metadata": {},
   "source": [
    "# 8.1 Modification of a database to run scenarios\n",
    "\n",
    "Here we modify the technology matrix without touching the files in the database, this is useful to e.g. modify bacgkround databases like ecoinvent to simulate scenarios and to sdo sensitivity analysis relatively fast"
   ]
  },
  {
   "cell_type": "markdown",
   "metadata": {},
   "source": [
    "1. Import BW2, biosphere3 and import ecoinvent database\n",
    "5. modify specific activities in the ecoinvent database (using the technology matrix coordinates)\n",
    "6. calculate results with the modified ecoinvent database"
   ]
  },
  {
   "cell_type": "markdown",
   "metadata": {},
   "source": [
    "**Set up**"
   ]
  },
  {
   "cell_type": "code",
   "execution_count": 1,
   "metadata": {},
   "outputs": [],
   "source": [
    "import random\n",
    "import pandas as pd # if you don't have pandas close the notebook and run \"conda install pandas\" in your virtual env\n",
    "import numpy as np\n",
    "\n",
    "# Options for pandas\n",
    "pd.options.display.max_columns = 50\n",
    "pd.options.display.max_rows = 50\n",
    "\n",
    "from scipy.sparse import csr_matrix\n",
    "\n",
    "import matplotlib.pyplot as plt\n",
    "import matplotlib as mpl\n"
   ]
  },
  {
   "cell_type": "code",
   "execution_count": 2,
   "metadata": {},
   "outputs": [],
   "source": [
    "import brightway2 as bw"
   ]
  },
  {
   "cell_type": "code",
   "execution_count": null,
   "metadata": {},
   "outputs": [],
   "source": [
    "sorted(bw.projects) # check what project you have \n",
    "# bw.projects.delete_project('advlca22', delete_dir=True) # if you want a fresh start"
   ]
  },
  {
   "cell_type": "code",
   "execution_count": 3,
   "metadata": {},
   "outputs": [],
   "source": [
    "# Just in case you want a fresh start\n",
    "# bw.databases.clear()\n",
    "# bw.methods.clear()"
   ]
  },
  {
   "cell_type": "code",
   "execution_count": 4,
   "metadata": {},
   "outputs": [
    {
     "data": {
      "text/plain": [
       "Databases dictionary with 9 object(s):\n",
       "\tSAtestdb\n",
       "\tbiosphere3\n",
       "\tecoinvent 3.6 conseq\n",
       "\texldb\n",
       "\tfg_db\n",
       "\tgsa_db\n",
       "\tstatic_db\n",
       "\ttestbiosphere\n",
       "\ttestdb"
      ]
     },
     "execution_count": 4,
     "metadata": {},
     "output_type": "execute_result"
    }
   ],
   "source": [
    "bw.projects.set_current('advlca21') # Still working in the same project\n",
    "bw.databases\n",
    "#bw.databases.clear() # For a fresh start (Risky command! clears all your existing databases)"
   ]
  },
  {
   "cell_type": "markdown",
   "metadata": {},
   "source": [
    "# Skip this if you already have biosphere and ecoinvent v3.6 imported"
   ]
  },
  {
   "cell_type": "code",
   "execution_count": null,
   "metadata": {
    "scrolled": false
   },
   "outputs": [],
   "source": [
    "# Import the biosphere3 database\n",
    "bw.bw2setup()  # This will take some time"
   ]
  },
  {
   "cell_type": "code",
   "execution_count": null,
   "metadata": {},
   "outputs": [],
   "source": [
    "# Import ecoinvent\n",
    "\n",
    "ei_vX_dir = \"your directory....\" # change vX with the version, and change the directory too\n",
    "\n",
    "if 'ecoinvent X.X.X conseq' in bw.databases: # change X with the version\n",
    "    print(\"Database has already been imported\")\n",
    "else:\n",
    "    ei_vX = bw.SingleOutputEcospold2Importer(ei_vX_dir, 'ecoinvent 3.X.X conseq', use_mp = False) # You can give it another name of course\n",
    "    ei_vX.apply_strategies()\n",
    "    ei_vX.statistics()\n",
    "\n",
    "ei_vX.drop_unlinked(True)\n",
    "ei_vX.write_database() # This will take some time."
   ]
  },
  {
   "cell_type": "code",
   "execution_count": null,
   "metadata": {},
   "outputs": [],
   "source": [
    "bw.databases # you should now see both \"biosphere3\" and \"ecoinvent X.X.X \""
   ]
  },
  {
   "cell_type": "markdown",
   "metadata": {},
   "source": [
    "## Start here if you have already imported the background database"
   ]
  },
  {
   "cell_type": "markdown",
   "metadata": {},
   "source": [
    "Create a simple foreground process that uses 1 kWh electricity in Belgium"
   ]
  },
  {
   "cell_type": "markdown",
   "metadata": {},
   "source": [
    "(Side note: how did I get this code? _a6ce6bd4ed5be000b09a35160a79b673_ \n",
    "\n",
    "I used this link https://www.md5hashgenerator.com/ and typed \"Belgian electricity mix\" in the text field, then copied the MD5 Hash. This is a way to create unique identifiers for activities)"
   ]
  },
  {
   "cell_type": "code",
   "execution_count": 5,
   "metadata": {},
   "outputs": [
    {
     "name": "stderr",
     "output_type": "stream",
     "text": [
      "Writing activities to SQLite3 database:\n",
      "0% [#] 100% | ETA: 00:00:00\n",
      "Total time elapsed: 00:00:00\n"
     ]
    },
    {
     "name": "stdout",
     "output_type": "stream",
     "text": [
      "Title: Writing activities to SQLite3 database:\n",
      "  Started: 04/12/2022 12:19:10\n",
      "  Finished: 04/12/2022 12:19:10\n",
      "  Total time elapsed: 00:00:00\n",
      "  CPU %: 86.30\n",
      "  Memory %: 1.04\n"
     ]
    }
   ],
   "source": [
    "fg_db = bw.Database('fg_db') # foreground database\n",
    "fg_db.write({\n",
    "    ('fg_db', 'a6ce6bd4ed5be000b09a35160a79b673'):{ # Note that a tuple is used to identify an activity univocally\n",
    "        'name':'Belgian el mix',\n",
    "        'unit': 'kilogram', \n",
    "        'exchanges': [{\n",
    "                'input': ('ecoinvent 3.6 conseq', '3e70629440a8640e688e952edb5c85c1'), # 'market for electricity, high voltage' (kilowatt hour, BE, None)\n",
    "                'amount': 1,\n",
    "                'unit': 'kilowatt hour',\n",
    "                'type': 'technosphere'\n",
    "            }]}})\n",
    "    "
   ]
  },
  {
   "cell_type": "code",
   "execution_count": null,
   "metadata": {},
   "outputs": [],
   "source": [
    "#you can use this to check the inputs of the belgian mix\n",
    "belgian_mix = bw.Database('ecoinvent 3.6 conseq').get('3e70629440a8640e688e952edb5c85c1') \n",
    "for exc in belgian_mix.exchanges():\n",
    "    print(exc['type'])\n",
    "    print(exc['input'][1])\n",
    "    print(exc.input)\n",
    "    print(exc['amount'])\n",
    "    print(\"-------\")"
   ]
  },
  {
   "cell_type": "markdown",
   "metadata": {},
   "source": [
    "# Modify the database by changing directly the technology matrix"
   ]
  },
  {
   "cell_type": "markdown",
   "metadata": {},
   "source": [
    "Find the products and activities that you need.\n",
    "\n",
    "In particular we want to change the shared of wind and gas in the belgian electircity mix"
   ]
  },
  {
   "cell_type": "markdown",
   "metadata": {},
   "source": [
    "Initialize the LCA using the FU (this could be the BAU scenario)"
   ]
  },
  {
   "cell_type": "code",
   "execution_count": 7,
   "metadata": {},
   "outputs": [],
   "source": [
    "LCA = bw.LCA({('fg_db', 'a6ce6bd4ed5be000b09a35160a79b673') : 1}, \n",
    "             ('IPCC 2013', 'climate change', 'GWP 100a'))\n",
    "LCA.lci()\n",
    "LCA.lcia()"
   ]
  },
  {
   "cell_type": "code",
   "execution_count": 8,
   "metadata": {},
   "outputs": [
    {
     "data": {
      "text/plain": [
       "0.26346699311273214"
      ]
     },
     "execution_count": 8,
     "metadata": {},
     "output_type": "execute_result"
    }
   ],
   "source": [
    "LCA.score"
   ]
  },
  {
   "cell_type": "markdown",
   "metadata": {},
   "source": [
    "Decide which activities and exchanges to modify. \n",
    "\n",
    "_(You can dedice yourself hot to structure this, below is only a suggestion)_\n",
    "\n",
    "I use here a list of **tuples** each tuple with this structure: (activity, exchange, new value) \n",
    "- first element is the column in tech matrix, \n",
    "- second is the row in the tech matrix, \n",
    "- third element of the tuple is the new value (scenario)\n",
    "\n",
    "So the first two elements are coordinates and the third is a value"
   ]
  },
  {
   "cell_type": "code",
   "execution_count": 9,
   "metadata": {},
   "outputs": [],
   "source": [
    "to_change = [(('ecoinvent 3.6 conseq', '3e70629440a8640e688e952edb5c85c1'), # Belgian el mix\n",
    "             ('ecoinvent 3.6 conseq', 'c10d22291e3ce9536c63a7965c33992e'), # wind input to the mix\n",
    "             0.5), # input increased to 50%\n",
    "            (('ecoinvent 3.6 conseq', '3e70629440a8640e688e952edb5c85c1'), # Belgian el mix\n",
    "             ('ecoinvent 3.6 conseq', '531101a9257fd38cb0888de7c445b5f1'), #  gas input to the mix\n",
    "             0.25), # input reduced to 25%\n",
    "             ((\"fg_db\", \"a6ce6bd4ed5be000b09a35160a79b673\"), # foreground activity\n",
    "              ('ecoinvent 3.6 conseq', '3e70629440a8640e688e952edb5c85c1'), # belgian el mix\n",
    "              1.1)] # input changed 1.1. only for demonstrative purposes\n",
    "\n",
    "# Belgian el mix == 'market for electricity, high voltage' (kilowatt hour, BE, None)\n",
    "# wind == 'electricity production, wind, 1-3MW turbine, offshore' (kilowatt hour, BE, None)\n",
    "# gas == 'electricity production, natural gas, combined cycle power plant' (kilowatt hour, BE, None)"
   ]
  },
  {
   "cell_type": "markdown",
   "metadata": {},
   "source": [
    "This is to show the coordinates (column number and row number) in the technology matrix and current values"
   ]
  },
  {
   "cell_type": "code",
   "execution_count": 10,
   "metadata": {},
   "outputs": [
    {
     "name": "stdout",
     "output_type": "stream",
     "text": [
      "4446 13645 -0.21768195927143097\n",
      "4446 64 -0.557342529296875\n",
      "16459 4446 -1.0\n"
     ]
    }
   ],
   "source": [
    "for i in to_change:\n",
    "    col = LCA.activity_dict[i[0]] # the new thing about this notebook is using activity_dict\n",
    "    row = LCA.activity_dict[i[1]]\n",
    "    print(col, row, LCA.technosphere_matrix[row,col]) # shows current values"
   ]
  },
  {
   "cell_type": "markdown",
   "metadata": {},
   "source": [
    "Using the coordinates of the activities and exchanges to be changed, **update the value**"
   ]
  },
  {
   "cell_type": "code",
   "execution_count": 11,
   "metadata": {},
   "outputs": [
    {
     "name": "stdout",
     "output_type": "stream",
     "text": [
      "4446 13645 -0.5\n",
      "4446 64 -0.25\n",
      "16459 4446 -1.1\n"
     ]
    }
   ],
   "source": [
    "for i in to_change:\n",
    "    col = LCA.activity_dict[i[0]] # find index of tech matrix for the activity\n",
    "    row = LCA.activity_dict[i[1]] # find index of tech matrix for the exchange\n",
    "    LCA.technosphere_matrix[row,col] = -i[2] # substitute the value, need to change the sign!\n",
    "    \n",
    "    print(col, row, LCA.technosphere_matrix[row,col])"
   ]
  },
  {
   "cell_type": "markdown",
   "metadata": {},
   "source": [
    "Now perform calculations using the modified tech matrix"
   ]
  },
  {
   "cell_type": "code",
   "execution_count": 12,
   "metadata": {},
   "outputs": [
    {
     "data": {
      "text/plain": [
       "0.14342082684503155"
      ]
     },
     "execution_count": 12,
     "metadata": {},
     "output_type": "execute_result"
    }
   ],
   "source": [
    "LCA.redo_lci() # uses the new tech matrix\n",
    "LCA.lcia()\n",
    "LCA.score/1.1 # because we have 1.1 times higher input of electricity"
   ]
  },
  {
   "cell_type": "markdown",
   "metadata": {},
   "source": [
    "Ths score is diffent as before and lower impact as expected (we have more wind and less gas)"
   ]
  },
  {
   "cell_type": "markdown",
   "metadata": {},
   "source": [
    "### Using data from files (useful to organize scenarios and prepare things on beforehand)"
   ]
  },
  {
   "cell_type": "markdown",
   "metadata": {},
   "source": [
    "Same but different, import the scenario from a separate file with the data, that you prepare on beforehand"
   ]
  },
  {
   "cell_type": "code",
   "execution_count": 13,
   "metadata": {},
   "outputs": [
    {
     "data": {
      "text/html": [
       "<div>\n",
       "<style scoped>\n",
       "    .dataframe tbody tr th:only-of-type {\n",
       "        vertical-align: middle;\n",
       "    }\n",
       "\n",
       "    .dataframe tbody tr th {\n",
       "        vertical-align: top;\n",
       "    }\n",
       "\n",
       "    .dataframe thead th {\n",
       "        text-align: right;\n",
       "    }\n",
       "</style>\n",
       "<table border=\"1\" class=\"dataframe\">\n",
       "  <thead>\n",
       "    <tr style=\"text-align: right;\">\n",
       "      <th></th>\n",
       "      <th>activity_database</th>\n",
       "      <th>activity_code</th>\n",
       "      <th>exchange_database</th>\n",
       "      <th>exchange_code</th>\n",
       "      <th>value</th>\n",
       "    </tr>\n",
       "  </thead>\n",
       "  <tbody>\n",
       "    <tr>\n",
       "      <th>0</th>\n",
       "      <td>ecoinvent 3.6 conseq</td>\n",
       "      <td>3e70629440a8640e688e952edb5c85c1</td>\n",
       "      <td>ecoinvent 3.6 conseq</td>\n",
       "      <td>c10d22291e3ce9536c63a7965c33992e</td>\n",
       "      <td>0.50</td>\n",
       "    </tr>\n",
       "    <tr>\n",
       "      <th>1</th>\n",
       "      <td>ecoinvent 3.6 conseq</td>\n",
       "      <td>3e70629440a8640e688e952edb5c85c1</td>\n",
       "      <td>ecoinvent 3.6 conseq</td>\n",
       "      <td>531101a9257fd38cb0888de7c445b5f1</td>\n",
       "      <td>0.25</td>\n",
       "    </tr>\n",
       "    <tr>\n",
       "      <th>2</th>\n",
       "      <td>fg_db</td>\n",
       "      <td>a6ce6bd4ed5be000b09a35160a79b673</td>\n",
       "      <td>ecoinvent 3.6 conseq</td>\n",
       "      <td>3e70629440a8640e688e952edb5c85c1</td>\n",
       "      <td>1.10</td>\n",
       "    </tr>\n",
       "  </tbody>\n",
       "</table>\n",
       "</div>"
      ],
      "text/plain": [
       "      activity_database                     activity_code  \\\n",
       "0  ecoinvent 3.6 conseq  3e70629440a8640e688e952edb5c85c1   \n",
       "1  ecoinvent 3.6 conseq  3e70629440a8640e688e952edb5c85c1   \n",
       "2                 fg_db  a6ce6bd4ed5be000b09a35160a79b673   \n",
       "\n",
       "      exchange_database                     exchange_code  value  \n",
       "0  ecoinvent 3.6 conseq  c10d22291e3ce9536c63a7965c33992e   0.50  \n",
       "1  ecoinvent 3.6 conseq  531101a9257fd38cb0888de7c445b5f1   0.25  \n",
       "2  ecoinvent 3.6 conseq  3e70629440a8640e688e952edb5c85c1   1.10  "
      ]
     },
     "execution_count": 13,
     "metadata": {},
     "output_type": "execute_result"
    }
   ],
   "source": [
    "scenario_data = pd.read_csv('scenario.csv', sep = ';') # import a csv unsing pandas, careful with formatting...\n",
    "scenario_data"
   ]
  },
  {
   "cell_type": "markdown",
   "metadata": {},
   "source": [
    "Convert the dataframe in a list of tuples"
   ]
  },
  {
   "cell_type": "code",
   "execution_count": 14,
   "metadata": {},
   "outputs": [],
   "source": [
    "to_change = []\n",
    "for i in range(len(scenario_data.index)):\n",
    "    change = ((scenario_data.iloc[i,0],scenario_data.iloc[i,1]),\n",
    "              (scenario_data.iloc[i,2],scenario_data.iloc[i,3]),\n",
    "              scenario_data.iloc[i,4])\n",
    "    to_change.append(change)"
   ]
  },
  {
   "cell_type": "code",
   "execution_count": 15,
   "metadata": {},
   "outputs": [
    {
     "data": {
      "text/plain": [
       "[(('ecoinvent 3.6 conseq', '3e70629440a8640e688e952edb5c85c1'),\n",
       "  ('ecoinvent 3.6 conseq', 'c10d22291e3ce9536c63a7965c33992e'),\n",
       "  0.5),\n",
       " (('ecoinvent 3.6 conseq', '3e70629440a8640e688e952edb5c85c1'),\n",
       "  ('ecoinvent 3.6 conseq', '531101a9257fd38cb0888de7c445b5f1'),\n",
       "  0.25),\n",
       " (('fg_db', 'a6ce6bd4ed5be000b09a35160a79b673'),\n",
       "  ('ecoinvent 3.6 conseq', '3e70629440a8640e688e952edb5c85c1'),\n",
       "  1.1)]"
      ]
     },
     "execution_count": 15,
     "metadata": {},
     "output_type": "execute_result"
    }
   ],
   "source": [
    "to_change"
   ]
  },
  {
   "cell_type": "code",
   "execution_count": 16,
   "metadata": {},
   "outputs": [],
   "source": [
    "for i in to_change:\n",
    "    col = LCA.activity_dict[i[0]] # find index of tech matrix for the activity\n",
    "    row = LCA.activity_dict[i[1]] # find index of tech matrix for the exchange\n",
    "    LCA.technosphere_matrix[row,col] = -i[2] # substitute the value\n",
    "    #print(LCA.technosphere_matrix[row,col])"
   ]
  },
  {
   "cell_type": "code",
   "execution_count": 17,
   "metadata": {
    "scrolled": true
   },
   "outputs": [
    {
     "data": {
      "text/plain": [
       "0.14342082684503155"
      ]
     },
     "execution_count": 17,
     "metadata": {},
     "output_type": "execute_result"
    }
   ],
   "source": [
    "LCA.redo_lci() # uses the new tech matrix\n",
    "LCA.lcia()\n",
    "LCA.score/1.1"
   ]
  },
  {
   "cell_type": "markdown",
   "metadata": {},
   "source": [
    "If you have multiple scenarios, you can import each file with a different name and then **iterate the calculation across the scenarios**"
   ]
  }
 ],
 "metadata": {
  "kernelspec": {
   "display_name": "Python 3",
   "language": "python",
   "name": "python3"
  },
  "language_info": {
   "codemirror_mode": {
    "name": "ipython",
    "version": 3
   },
   "file_extension": ".py",
   "mimetype": "text/x-python",
   "name": "python",
   "nbconvert_exporter": "python",
   "pygments_lexer": "ipython3",
   "version": "3.9.12"
  }
 },
 "nbformat": 4,
 "nbformat_minor": 2
}
