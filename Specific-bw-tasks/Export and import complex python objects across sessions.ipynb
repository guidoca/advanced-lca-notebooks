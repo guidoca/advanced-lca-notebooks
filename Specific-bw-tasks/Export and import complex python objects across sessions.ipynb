{
 "cells": [
  {
   "cell_type": "markdown",
   "id": "straight-project",
   "metadata": {},
   "source": [
    "### Export and import complex objects across session"
   ]
  },
  {
   "cell_type": "markdown",
   "id": "impaired-anaheim",
   "metadata": {},
   "source": [
    "Pierre Jouannais"
   ]
  },
  {
   "cell_type": "markdown",
   "id": "hybrid-massage",
   "metadata": {},
   "source": [
    "For everytime you need to transfer an object that can't be easily saved as a simple csv. For example, a dictionary of characterization matrixes, list of dataframes etc."
   ]
  },
  {
   "cell_type": "code",
   "execution_count": 12,
   "id": "educated-tragedy",
   "metadata": {},
   "outputs": [],
   "source": [
    "import numpy as np\n",
    "import pandas as pd\n",
    "import pickle\n",
    "import os"
   ]
  },
  {
   "cell_type": "code",
   "execution_count": 34,
   "id": "norwegian-government",
   "metadata": {},
   "outputs": [],
   "source": [
    "\n",
    "def export_pickle_3(var, name_var, namefolder):\n",
    "    '''Saves a pickle in the working directory'''\n",
    "\n",
    "    path_object = namefolder+\"/\"+name_var+\".pkl\"\n",
    "    with open(path_object, 'wb') as pickle_file:\n",
    "        pickle.dump(var, pickle_file, protocol=pickle.HIGHEST_PROTOCOL)\n",
    "\n",
    "\n",
    "\n",
    "def importpickle(path):\n",
    "    with open(path, 'rb') as pickle_load:\n",
    "        obj = pickle.load(pickle_load)\n",
    "    return obj    \n"
   ]
  },
  {
   "cell_type": "markdown",
   "id": "desperate-proof",
   "metadata": {},
   "source": [
    "Bonus, function to create an empty dictionnary"
   ]
  },
  {
   "cell_type": "code",
   "execution_count": 10,
   "id": "loved-advice",
   "metadata": {},
   "outputs": [],
   "source": [
    "\n",
    "def createFolder(directory):\n",
    "    '''Creates a folder/directory with the path given as input'''\n",
    "    try:\n",
    "        if not os.path.exists(directory):\n",
    "            os.makedirs(directory)\n",
    "    except OSError:\n",
    "        print('Error: Creating directory. ' + directory)\n"
   ]
  },
  {
   "cell_type": "markdown",
   "id": "nuclear-velvet",
   "metadata": {},
   "source": [
    "I create the directory before creating the pickles, but it can be included in the export_pickle_3 function if wanted"
   ]
  },
  {
   "cell_type": "code",
   "execution_count": 13,
   "id": "noble-bones",
   "metadata": {},
   "outputs": [],
   "source": [
    "createFolder(\"test_pickles\")"
   ]
  },
  {
   "cell_type": "code",
   "execution_count": 31,
   "id": "british-cruise",
   "metadata": {},
   "outputs": [],
   "source": [
    "complex_object = {\"a\":pd.DataFrame(np.array([[4,4],[7,3]])),\n",
    "                 \"b\":pd.DataFrame(np.array([[2,1],[8,3]]))}"
   ]
  },
  {
   "cell_type": "code",
   "execution_count": 32,
   "id": "foreign-bumper",
   "metadata": {},
   "outputs": [
    {
     "data": {
      "text/html": [
       "<div>\n",
       "<style scoped>\n",
       "    .dataframe tbody tr th:only-of-type {\n",
       "        vertical-align: middle;\n",
       "    }\n",
       "\n",
       "    .dataframe tbody tr th {\n",
       "        vertical-align: top;\n",
       "    }\n",
       "\n",
       "    .dataframe thead th {\n",
       "        text-align: right;\n",
       "    }\n",
       "</style>\n",
       "<table border=\"1\" class=\"dataframe\">\n",
       "  <thead>\n",
       "    <tr style=\"text-align: right;\">\n",
       "      <th></th>\n",
       "      <th>0</th>\n",
       "      <th>1</th>\n",
       "    </tr>\n",
       "  </thead>\n",
       "  <tbody>\n",
       "    <tr>\n",
       "      <th>0</th>\n",
       "      <td>4</td>\n",
       "      <td>4</td>\n",
       "    </tr>\n",
       "    <tr>\n",
       "      <th>1</th>\n",
       "      <td>7</td>\n",
       "      <td>3</td>\n",
       "    </tr>\n",
       "  </tbody>\n",
       "</table>\n",
       "</div>"
      ],
      "text/plain": [
       "   0  1\n",
       "0  4  4\n",
       "1  7  3"
      ]
     },
     "execution_count": 32,
     "metadata": {},
     "output_type": "execute_result"
    }
   ],
   "source": [
    "complex_object[\"a\"] "
   ]
  },
  {
   "cell_type": "markdown",
   "id": "eastern-print",
   "metadata": {},
   "source": [
    "Export"
   ]
  },
  {
   "cell_type": "code",
   "execution_count": 29,
   "id": "flexible-preparation",
   "metadata": {},
   "outputs": [],
   "source": [
    "name_file = \"complex_object\""
   ]
  },
  {
   "cell_type": "code",
   "execution_count": 30,
   "id": "massive-vector",
   "metadata": {},
   "outputs": [],
   "source": [
    "name_of_the_folder_in_the_working_directory = \"test_pickles\""
   ]
  },
  {
   "cell_type": "markdown",
   "id": "british-reservoir",
   "metadata": {},
   "source": [
    "Export"
   ]
  },
  {
   "cell_type": "code",
   "execution_count": 35,
   "id": "entitled-plant",
   "metadata": {},
   "outputs": [],
   "source": [
    "export_pickle_3(complex_object, name_file, name_of_the_folder_in_the_working_directory)\n"
   ]
  },
  {
   "cell_type": "markdown",
   "id": "julian-utilization",
   "metadata": {},
   "source": [
    "Import (usually in another session)"
   ]
  },
  {
   "cell_type": "code",
   "execution_count": 36,
   "id": "secure-islam",
   "metadata": {},
   "outputs": [],
   "source": [
    "imported_object =  importpickle(\"test_pickles/complex_object.pkl\")\n"
   ]
  },
  {
   "cell_type": "code",
   "execution_count": 1,
   "id": "introductory-abraham",
   "metadata": {},
   "outputs": [
    {
     "ename": "NameError",
     "evalue": "name 'imported_object' is not defined",
     "output_type": "error",
     "traceback": [
      "\u001b[1;31m---------------------------------------------------------------------------\u001b[0m",
      "\u001b[1;31mNameError\u001b[0m                                 Traceback (most recent call last)",
      "\u001b[1;32m<ipython-input-1-934f0f919e18>\u001b[0m in \u001b[0;36m<module>\u001b[1;34m\u001b[0m\n\u001b[1;32m----> 1\u001b[1;33m \u001b[0mimported_object\u001b[0m\u001b[1;33m[\u001b[0m\u001b[1;34m\"a\"\u001b[0m\u001b[1;33m]\u001b[0m  \u001b[1;31m# It conserved the structure.\u001b[0m\u001b[1;33m\u001b[0m\u001b[1;33m\u001b[0m\u001b[0m\n\u001b[0m",
      "\u001b[1;31mNameError\u001b[0m: name 'imported_object' is not defined"
     ]
    }
   ],
   "source": [
    "imported_object[\"a\"]  # It conserved the structure."
   ]
  },
  {
   "cell_type": "code",
   "execution_count": null,
   "id": "comfortable-piece",
   "metadata": {},
   "outputs": [],
   "source": []
  },
  {
   "cell_type": "code",
   "execution_count": null,
   "id": "russian-advocacy",
   "metadata": {},
   "outputs": [],
   "source": []
  }
 ],
 "metadata": {
  "kernelspec": {
   "display_name": "Python 3",
   "language": "python",
   "name": "python3"
  },
  "language_info": {
   "codemirror_mode": {
    "name": "ipython",
    "version": 3
   },
   "file_extension": ".py",
   "mimetype": "text/x-python",
   "name": "python",
   "nbconvert_exporter": "python",
   "pygments_lexer": "ipython3",
   "version": "3.8.6"
  }
 },
 "nbformat": 4,
 "nbformat_minor": 5
}
