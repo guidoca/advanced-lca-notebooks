{
 "cells": [
  {
   "cell_type": "markdown",
   "id": "unlimited-prince",
   "metadata": {},
   "source": [
    "### Performing Paired Montecarlo Iterations for different functional units and different methods "
   ]
  },
  {
   "cell_type": "markdown",
   "id": "considered-lying",
   "metadata": {},
   "source": [
    "Pierre Jouannais 2023"
   ]
  },
  {
   "cell_type": "markdown",
   "id": "dated-transformation",
   "metadata": {},
   "source": [
    "That's the only way I have found to keep everything paired accross the iterations."
   ]
  },
  {
   "cell_type": "code",
   "execution_count": 20,
   "id": "downtown-canal",
   "metadata": {},
   "outputs": [],
   "source": [
    "import bw2data\n",
    "import bw2io\n",
    "from bw2data.parameters import *\n",
    "import brightway2 as bw\n",
    "import time\n",
    "import numpy as np\n",
    "import pandas as pd"
   ]
  },
  {
   "cell_type": "code",
   "execution_count": 7,
   "id": "infinite-ultimate",
   "metadata": {},
   "outputs": [],
   "source": [
    "\n",
    "# Load whatever project in which you have a version of ecoinvent\n",
    "\n",
    "bw.projects.set_current('AH_38_naturalgas_2_0711') \n",
    "\n",
    "\n",
    "\n",
    "# Loading Ecoinvent\n",
    "Ecoinvent = bw.Database('ecoinvent 3.8 conseq')\n"
   ]
  },
  {
   "cell_type": "code",
   "execution_count": 8,
   "id": "adolescent-platform",
   "metadata": {},
   "outputs": [],
   "source": [
    "# Choose the background activities (here random)\n",
    "\n",
    "act1=Ecoinvent.random()\n",
    "act2=Ecoinvent.random()\n",
    "act3=Ecoinvent.random()\n"
   ]
  },
  {
   "cell_type": "code",
   "execution_count": 39,
   "id": "affiliated-invasion",
   "metadata": {},
   "outputs": [],
   "source": [
    "\n",
    "# 3 background activities in a list \n",
    "list_FU=[{act1:1},{act2:1},{act3:1}]\n",
    "\n",
    "# 5 methods\n",
    "list_meth =[('ReCiPe Midpoint (I)', 'climate change', 'GWP20'), \n",
    "            ('ReCiPe Midpoint (H)', 'human toxicity', 'HTPinf'),\n",
    "            ('ReCiPe Midpoint (H)', 'freshwater ecotoxicity', 'FETPinf'),\n",
    "            ('ReCiPe Midpoint (H)', 'terrestrial ecotoxicity', 'TETPinf'),\n",
    "            ('ReCiPe Midpoint (H)', 'terrestrial ecotoxicity', 'TETPinf')] # We use the same twice to check that the code works\n",
    " \n"
   ]
  },
  {
   "cell_type": "markdown",
   "id": "ready-empty",
   "metadata": {},
   "source": [
    " 1) Collect the necessary characterization matrixes in a dictionnary "
   ]
  },
  {
   "cell_type": "code",
   "execution_count": 40,
   "id": "successful-arbor",
   "metadata": {},
   "outputs": [],
   "source": [
    "\n",
    "    \n",
    "\n",
    "# Create empty dictionnary to collect characterization matrixes\n",
    "C_matrixes ={}\n",
    "\n",
    "# Make a LCA. It's only to load a LCA object. We do not care about the result.\n",
    "Lca=bw.LCA(list_FU[1],('ReCiPe Midpoint (I)', 'climate change', 'GWP20'))\n",
    "Lca.lci()\n",
    "Lca.lcia()\n",
    "\n",
    "# Use switch_method and collect the characterization matrix for every change\n",
    "for meth in list_meth:\n",
    "    Lca.switch_method(meth)\n",
    "    #print(meth,\"##############\")\n",
    "    #print(Lca.characterization_matrix)\n",
    "    C_matrixes[meth]=Lca.characterization_matrix\n",
    "\n"
   ]
  },
  {
   "cell_type": "markdown",
   "id": "arabic-parking",
   "metadata": {},
   "source": [
    "2 ) Calculate \n"
   ]
  },
  {
   "cell_type": "code",
   "execution_count": 41,
   "id": "ideal-trunk",
   "metadata": {},
   "outputs": [
    {
     "name": "stdout",
     "output_type": "stream",
     "text": [
      "ok3 ('ReCiPe Midpoint (I)', 'climate change', 'GWP20')\n",
      "ok3 ('ReCiPe Midpoint (H)', 'human toxicity', 'HTPinf')\n",
      "ok3 ('ReCiPe Midpoint (H)', 'freshwater ecotoxicity', 'FETPinf')\n",
      "ok3 ('ReCiPe Midpoint (H)', 'terrestrial ecotoxicity', 'TETPinf')\n",
      "ok3 ('ReCiPe Midpoint (H)', 'terrestrial ecotoxicity', 'TETPinf')\n",
      "ok3 ('ReCiPe Midpoint (I)', 'climate change', 'GWP20')\n",
      "ok3 ('ReCiPe Midpoint (H)', 'human toxicity', 'HTPinf')\n",
      "ok3 ('ReCiPe Midpoint (H)', 'freshwater ecotoxicity', 'FETPinf')\n",
      "ok3 ('ReCiPe Midpoint (H)', 'terrestrial ecotoxicity', 'TETPinf')\n",
      "ok3 ('ReCiPe Midpoint (H)', 'terrestrial ecotoxicity', 'TETPinf')\n",
      "ok3 ('ReCiPe Midpoint (I)', 'climate change', 'GWP20')\n",
      "ok3 ('ReCiPe Midpoint (H)', 'human toxicity', 'HTPinf')\n",
      "ok3 ('ReCiPe Midpoint (H)', 'freshwater ecotoxicity', 'FETPinf')\n",
      "ok3 ('ReCiPe Midpoint (H)', 'terrestrial ecotoxicity', 'TETPinf')\n",
      "ok3 ('ReCiPe Midpoint (H)', 'terrestrial ecotoxicity', 'TETPinf')\n",
      "ok3 ('ReCiPe Midpoint (I)', 'climate change', 'GWP20')\n",
      "ok3 ('ReCiPe Midpoint (H)', 'human toxicity', 'HTPinf')\n",
      "ok3 ('ReCiPe Midpoint (H)', 'freshwater ecotoxicity', 'FETPinf')\n",
      "ok3 ('ReCiPe Midpoint (H)', 'terrestrial ecotoxicity', 'TETPinf')\n",
      "ok3 ('ReCiPe Midpoint (H)', 'terrestrial ecotoxicity', 'TETPinf')\n",
      "ok3 ('ReCiPe Midpoint (I)', 'climate change', 'GWP20')\n",
      "ok3 ('ReCiPe Midpoint (H)', 'human toxicity', 'HTPinf')\n",
      "ok3 ('ReCiPe Midpoint (H)', 'freshwater ecotoxicity', 'FETPinf')\n",
      "ok3 ('ReCiPe Midpoint (H)', 'terrestrial ecotoxicity', 'TETPinf')\n",
      "ok3 ('ReCiPe Midpoint (H)', 'terrestrial ecotoxicity', 'TETPinf')\n",
      "ok3 ('ReCiPe Midpoint (I)', 'climate change', 'GWP20')\n",
      "ok3 ('ReCiPe Midpoint (H)', 'human toxicity', 'HTPinf')\n",
      "ok3 ('ReCiPe Midpoint (H)', 'freshwater ecotoxicity', 'FETPinf')\n",
      "ok3 ('ReCiPe Midpoint (H)', 'terrestrial ecotoxicity', 'TETPinf')\n",
      "ok3 ('ReCiPe Midpoint (H)', 'terrestrial ecotoxicity', 'TETPinf')\n",
      "ok3 ('ReCiPe Midpoint (I)', 'climate change', 'GWP20')\n",
      "ok3 ('ReCiPe Midpoint (H)', 'human toxicity', 'HTPinf')\n",
      "ok3 ('ReCiPe Midpoint (H)', 'freshwater ecotoxicity', 'FETPinf')\n",
      "ok3 ('ReCiPe Midpoint (H)', 'terrestrial ecotoxicity', 'TETPinf')\n",
      "ok3 ('ReCiPe Midpoint (H)', 'terrestrial ecotoxicity', 'TETPinf')\n",
      "ok3 ('ReCiPe Midpoint (I)', 'climate change', 'GWP20')\n",
      "ok3 ('ReCiPe Midpoint (H)', 'human toxicity', 'HTPinf')\n",
      "ok3 ('ReCiPe Midpoint (H)', 'freshwater ecotoxicity', 'FETPinf')\n",
      "ok3 ('ReCiPe Midpoint (H)', 'terrestrial ecotoxicity', 'TETPinf')\n",
      "ok3 ('ReCiPe Midpoint (H)', 'terrestrial ecotoxicity', 'TETPinf')\n",
      "ok3 ('ReCiPe Midpoint (I)', 'climate change', 'GWP20')\n",
      "ok3 ('ReCiPe Midpoint (H)', 'human toxicity', 'HTPinf')\n",
      "ok3 ('ReCiPe Midpoint (H)', 'freshwater ecotoxicity', 'FETPinf')\n",
      "ok3 ('ReCiPe Midpoint (H)', 'terrestrial ecotoxicity', 'TETPinf')\n",
      "ok3 ('ReCiPe Midpoint (H)', 'terrestrial ecotoxicity', 'TETPinf')\n",
      "ok3 ('ReCiPe Midpoint (I)', 'climate change', 'GWP20')\n",
      "ok3 ('ReCiPe Midpoint (H)', 'human toxicity', 'HTPinf')\n",
      "ok3 ('ReCiPe Midpoint (H)', 'freshwater ecotoxicity', 'FETPinf')\n",
      "ok3 ('ReCiPe Midpoint (H)', 'terrestrial ecotoxicity', 'TETPinf')\n",
      "ok3 ('ReCiPe Midpoint (H)', 'terrestrial ecotoxicity', 'TETPinf')\n",
      "ok3 ('ReCiPe Midpoint (I)', 'climate change', 'GWP20')\n",
      "ok3 ('ReCiPe Midpoint (H)', 'human toxicity', 'HTPinf')\n",
      "ok3 ('ReCiPe Midpoint (H)', 'freshwater ecotoxicity', 'FETPinf')\n",
      "ok3 ('ReCiPe Midpoint (H)', 'terrestrial ecotoxicity', 'TETPinf')\n",
      "ok3 ('ReCiPe Midpoint (H)', 'terrestrial ecotoxicity', 'TETPinf')\n",
      "ok3 ('ReCiPe Midpoint (I)', 'climate change', 'GWP20')\n",
      "ok3 ('ReCiPe Midpoint (H)', 'human toxicity', 'HTPinf')\n",
      "ok3 ('ReCiPe Midpoint (H)', 'freshwater ecotoxicity', 'FETPinf')\n",
      "ok3 ('ReCiPe Midpoint (H)', 'terrestrial ecotoxicity', 'TETPinf')\n",
      "ok3 ('ReCiPe Midpoint (H)', 'terrestrial ecotoxicity', 'TETPinf')\n",
      "ok3 ('ReCiPe Midpoint (I)', 'climate change', 'GWP20')\n",
      "ok3 ('ReCiPe Midpoint (H)', 'human toxicity', 'HTPinf')\n",
      "ok3 ('ReCiPe Midpoint (H)', 'freshwater ecotoxicity', 'FETPinf')\n",
      "ok3 ('ReCiPe Midpoint (H)', 'terrestrial ecotoxicity', 'TETPinf')\n",
      "ok3 ('ReCiPe Midpoint (H)', 'terrestrial ecotoxicity', 'TETPinf')\n",
      "ok3 ('ReCiPe Midpoint (I)', 'climate change', 'GWP20')\n",
      "ok3 ('ReCiPe Midpoint (H)', 'human toxicity', 'HTPinf')\n",
      "ok3 ('ReCiPe Midpoint (H)', 'freshwater ecotoxicity', 'FETPinf')\n",
      "ok3 ('ReCiPe Midpoint (H)', 'terrestrial ecotoxicity', 'TETPinf')\n",
      "ok3 ('ReCiPe Midpoint (H)', 'terrestrial ecotoxicity', 'TETPinf')\n",
      "ok3 ('ReCiPe Midpoint (I)', 'climate change', 'GWP20')\n",
      "ok3 ('ReCiPe Midpoint (H)', 'human toxicity', 'HTPinf')\n",
      "ok3 ('ReCiPe Midpoint (H)', 'freshwater ecotoxicity', 'FETPinf')\n",
      "ok3 ('ReCiPe Midpoint (H)', 'terrestrial ecotoxicity', 'TETPinf')\n",
      "ok3 ('ReCiPe Midpoint (H)', 'terrestrial ecotoxicity', 'TETPinf')\n"
     ]
    }
   ],
   "source": [
    "\n",
    "\n",
    "time1=time.time()  \n",
    "\n",
    "# 5 Montecarlo iterations\n",
    "mciteration = 5\n",
    "\n",
    "# Initalize the list of results ( does not have to be this structure)\n",
    "\n",
    "listarray_mc_sample = [np.array([[0]*len(list_FU)  ]*mciteration,dtype=\"float32\") for meth in range(len(list_meth))]\n",
    "\n",
    "# Create Montecarlo object\n",
    "mc=bw.MonteCarloLCA(list_FU[2],('ReCiPe Midpoint (I)', 'climate change', 'GWP20'))\n",
    "\n",
    "for it in range(mciteration):\n",
    "    \n",
    "    #print(\"ok1\",it)\n",
    "    next(mc)\n",
    "    #print(\"ok2\",it)\n",
    "\n",
    "\n",
    "    for i in range(0,len(list_FU)):\n",
    "       \n",
    "        mc.redo_lcia(list_FU[i])  # redo with new FU\n",
    "        \n",
    "        index_array_method=-1\n",
    "\n",
    "        for m in list_meth:\n",
    "        \n",
    "            print(\"ok3\",m)\n",
    "\n",
    "            index_array_method+=1\n",
    "        \n",
    "            \n",
    "            listarray_mc_sample[index_array_method][it,i]=(C_matrixes[m]*mc.inventory).sum() # This calculates the LCIA\n",
    "            \n",
    "\n",
    "time2=time.time()\n",
    "            \n",
    "tot_time = time2-time1 "
   ]
  },
  {
   "cell_type": "markdown",
   "id": "comparative-thailand",
   "metadata": {},
   "source": [
    "I just put the results into a dictionnary"
   ]
  },
  {
   "cell_type": "code",
   "execution_count": 46,
   "id": "resident-headline",
   "metadata": {},
   "outputs": [],
   "source": [
    "dict_dataframes = {str(i) + \"_\" + list_meth[i][1] :pd.DataFrame(listarray_mc_sample[i]) for i in range(len(list_meth))}"
   ]
  },
  {
   "cell_type": "code",
   "execution_count": 47,
   "id": "connected-fortune",
   "metadata": {},
   "outputs": [
    {
     "data": {
      "text/plain": [
       "{'0_climate change':            0             1         2\n",
       " 0  16.562298  0.000000e+00 -0.395672\n",
       " 1  15.450603 -6.042763e-07 -0.460029\n",
       " 2  15.891187 -5.047495e-08 -0.330496\n",
       " 3  26.291393 -2.161668e-07 -0.340411\n",
       " 4  18.694324 -2.672071e-07 -0.341901,\n",
       " '1_human toxicity':            0             1         2\n",
       " 0   5.332920  0.000000e+00 -0.488250\n",
       " 1  11.189725  4.759254e-07 -1.157514\n",
       " 2   7.202059  2.960252e-06 -0.488480\n",
       " 3   9.587682  5.205783e-07 -0.731883\n",
       " 4   5.628643  7.762278e-07 -0.829702,\n",
       " '2_freshwater ecotoxicity':           0             1         2\n",
       " 0  0.405248  0.000000e+00 -0.091129\n",
       " 1  0.310291  3.302534e-07 -0.250278\n",
       " 2  0.570379  2.073357e-07 -0.082415\n",
       " 3  0.635209  1.990173e-07 -0.152199\n",
       " 4  0.358460  2.711457e-08 -0.146770,\n",
       " '3_terrestrial ecotoxicity':           0             1         2\n",
       " 0  0.146423  0.000000e+00 -0.000016\n",
       " 1  0.019504 -1.125576e-08 -0.000007\n",
       " 2  0.034271  3.531594e-09 -0.000009\n",
       " 3  0.062775 -4.611116e-09 -0.000007\n",
       " 4  0.036978 -1.088558e-08 -0.000004,\n",
       " '4_terrestrial ecotoxicity':           0             1         2\n",
       " 0  0.146423  0.000000e+00 -0.000016\n",
       " 1  0.019504 -1.125576e-08 -0.000007\n",
       " 2  0.034271  3.531594e-09 -0.000009\n",
       " 3  0.062775 -4.611116e-09 -0.000007\n",
       " 4  0.036978 -1.088558e-08 -0.000004}"
      ]
     },
     "execution_count": 47,
     "metadata": {},
     "output_type": "execute_result"
    }
   ],
   "source": [
    "dict_dataframes"
   ]
  },
  {
   "cell_type": "code",
   "execution_count": 53,
   "id": "thirty-logistics",
   "metadata": {},
   "outputs": [
    {
     "data": {
      "text/html": [
       "<div>\n",
       "<style scoped>\n",
       "    .dataframe tbody tr th:only-of-type {\n",
       "        vertical-align: middle;\n",
       "    }\n",
       "\n",
       "    .dataframe tbody tr th {\n",
       "        vertical-align: top;\n",
       "    }\n",
       "\n",
       "    .dataframe thead th {\n",
       "        text-align: right;\n",
       "    }\n",
       "</style>\n",
       "<table border=\"1\" class=\"dataframe\">\n",
       "  <thead>\n",
       "    <tr style=\"text-align: right;\">\n",
       "      <th></th>\n",
       "      <th>0</th>\n",
       "      <th>1</th>\n",
       "      <th>2</th>\n",
       "    </tr>\n",
       "  </thead>\n",
       "  <tbody>\n",
       "    <tr>\n",
       "      <th>0</th>\n",
       "      <td>16.562298</td>\n",
       "      <td>0.000000e+00</td>\n",
       "      <td>-0.395672</td>\n",
       "    </tr>\n",
       "    <tr>\n",
       "      <th>1</th>\n",
       "      <td>15.450603</td>\n",
       "      <td>-6.042763e-07</td>\n",
       "      <td>-0.460029</td>\n",
       "    </tr>\n",
       "    <tr>\n",
       "      <th>2</th>\n",
       "      <td>15.891187</td>\n",
       "      <td>-5.047495e-08</td>\n",
       "      <td>-0.330496</td>\n",
       "    </tr>\n",
       "    <tr>\n",
       "      <th>3</th>\n",
       "      <td>26.291393</td>\n",
       "      <td>-2.161668e-07</td>\n",
       "      <td>-0.340411</td>\n",
       "    </tr>\n",
       "    <tr>\n",
       "      <th>4</th>\n",
       "      <td>18.694324</td>\n",
       "      <td>-2.672071e-07</td>\n",
       "      <td>-0.341901</td>\n",
       "    </tr>\n",
       "  </tbody>\n",
       "</table>\n",
       "</div>"
      ],
      "text/plain": [
       "           0             1         2\n",
       "0  16.562298  0.000000e+00 -0.395672\n",
       "1  15.450603 -6.042763e-07 -0.460029\n",
       "2  15.891187 -5.047495e-08 -0.330496\n",
       "3  26.291393 -2.161668e-07 -0.340411\n",
       "4  18.694324 -2.672071e-07 -0.341901"
      ]
     },
     "execution_count": 53,
     "metadata": {},
     "output_type": "execute_result"
    }
   ],
   "source": [
    "dict_dataframes['0_climate change']"
   ]
  },
  {
   "cell_type": "markdown",
   "id": "steady-meter",
   "metadata": {},
   "source": [
    "Check if the iterations give the same results for the two same methods,  to check that all iterations are paired."
   ]
  },
  {
   "cell_type": "code",
   "execution_count": 50,
   "id": "comparable-citizenship",
   "metadata": {},
   "outputs": [
    {
     "data": {
      "text/html": [
       "<div>\n",
       "<style scoped>\n",
       "    .dataframe tbody tr th:only-of-type {\n",
       "        vertical-align: middle;\n",
       "    }\n",
       "\n",
       "    .dataframe tbody tr th {\n",
       "        vertical-align: top;\n",
       "    }\n",
       "\n",
       "    .dataframe thead th {\n",
       "        text-align: right;\n",
       "    }\n",
       "</style>\n",
       "<table border=\"1\" class=\"dataframe\">\n",
       "  <thead>\n",
       "    <tr style=\"text-align: right;\">\n",
       "      <th></th>\n",
       "      <th>0</th>\n",
       "      <th>1</th>\n",
       "      <th>2</th>\n",
       "    </tr>\n",
       "  </thead>\n",
       "  <tbody>\n",
       "    <tr>\n",
       "      <th>0</th>\n",
       "      <td>0.146423</td>\n",
       "      <td>0.000000e+00</td>\n",
       "      <td>-0.000016</td>\n",
       "    </tr>\n",
       "    <tr>\n",
       "      <th>1</th>\n",
       "      <td>0.019504</td>\n",
       "      <td>-1.125576e-08</td>\n",
       "      <td>-0.000007</td>\n",
       "    </tr>\n",
       "    <tr>\n",
       "      <th>2</th>\n",
       "      <td>0.034271</td>\n",
       "      <td>3.531594e-09</td>\n",
       "      <td>-0.000009</td>\n",
       "    </tr>\n",
       "    <tr>\n",
       "      <th>3</th>\n",
       "      <td>0.062775</td>\n",
       "      <td>-4.611116e-09</td>\n",
       "      <td>-0.000007</td>\n",
       "    </tr>\n",
       "    <tr>\n",
       "      <th>4</th>\n",
       "      <td>0.036978</td>\n",
       "      <td>-1.088558e-08</td>\n",
       "      <td>-0.000004</td>\n",
       "    </tr>\n",
       "  </tbody>\n",
       "</table>\n",
       "</div>"
      ],
      "text/plain": [
       "          0             1         2\n",
       "0  0.146423  0.000000e+00 -0.000016\n",
       "1  0.019504 -1.125576e-08 -0.000007\n",
       "2  0.034271  3.531594e-09 -0.000009\n",
       "3  0.062775 -4.611116e-09 -0.000007\n",
       "4  0.036978 -1.088558e-08 -0.000004"
      ]
     },
     "execution_count": 50,
     "metadata": {},
     "output_type": "execute_result"
    }
   ],
   "source": [
    "dict_dataframes['3_terrestrial ecotoxicity']"
   ]
  },
  {
   "cell_type": "code",
   "execution_count": 51,
   "id": "sought-mambo",
   "metadata": {},
   "outputs": [
    {
     "data": {
      "text/html": [
       "<div>\n",
       "<style scoped>\n",
       "    .dataframe tbody tr th:only-of-type {\n",
       "        vertical-align: middle;\n",
       "    }\n",
       "\n",
       "    .dataframe tbody tr th {\n",
       "        vertical-align: top;\n",
       "    }\n",
       "\n",
       "    .dataframe thead th {\n",
       "        text-align: right;\n",
       "    }\n",
       "</style>\n",
       "<table border=\"1\" class=\"dataframe\">\n",
       "  <thead>\n",
       "    <tr style=\"text-align: right;\">\n",
       "      <th></th>\n",
       "      <th>0</th>\n",
       "      <th>1</th>\n",
       "      <th>2</th>\n",
       "    </tr>\n",
       "  </thead>\n",
       "  <tbody>\n",
       "    <tr>\n",
       "      <th>0</th>\n",
       "      <td>0.146423</td>\n",
       "      <td>0.000000e+00</td>\n",
       "      <td>-0.000016</td>\n",
       "    </tr>\n",
       "    <tr>\n",
       "      <th>1</th>\n",
       "      <td>0.019504</td>\n",
       "      <td>-1.125576e-08</td>\n",
       "      <td>-0.000007</td>\n",
       "    </tr>\n",
       "    <tr>\n",
       "      <th>2</th>\n",
       "      <td>0.034271</td>\n",
       "      <td>3.531594e-09</td>\n",
       "      <td>-0.000009</td>\n",
       "    </tr>\n",
       "    <tr>\n",
       "      <th>3</th>\n",
       "      <td>0.062775</td>\n",
       "      <td>-4.611116e-09</td>\n",
       "      <td>-0.000007</td>\n",
       "    </tr>\n",
       "    <tr>\n",
       "      <th>4</th>\n",
       "      <td>0.036978</td>\n",
       "      <td>-1.088558e-08</td>\n",
       "      <td>-0.000004</td>\n",
       "    </tr>\n",
       "  </tbody>\n",
       "</table>\n",
       "</div>"
      ],
      "text/plain": [
       "          0             1         2\n",
       "0  0.146423  0.000000e+00 -0.000016\n",
       "1  0.019504 -1.125576e-08 -0.000007\n",
       "2  0.034271  3.531594e-09 -0.000009\n",
       "3  0.062775 -4.611116e-09 -0.000007\n",
       "4  0.036978 -1.088558e-08 -0.000004"
      ]
     },
     "execution_count": 51,
     "metadata": {},
     "output_type": "execute_result"
    }
   ],
   "source": [
    "dict_dataframes['4_terrestrial ecotoxicity']  "
   ]
  },
  {
   "cell_type": "markdown",
   "id": "animal-wrong",
   "metadata": {},
   "source": [
    "Ok"
   ]
  },
  {
   "cell_type": "code",
   "execution_count": null,
   "id": "fancy-mainstream",
   "metadata": {},
   "outputs": [],
   "source": []
  }
 ],
 "metadata": {
  "kernelspec": {
   "display_name": "Python 3",
   "language": "python",
   "name": "python3"
  },
  "language_info": {
   "codemirror_mode": {
    "name": "ipython",
    "version": 3
   },
   "file_extension": ".py",
   "mimetype": "text/x-python",
   "name": "python",
   "nbconvert_exporter": "python",
   "pygments_lexer": "ipython3",
   "version": "3.8.6"
  }
 },
 "nbformat": 4,
 "nbformat_minor": 5
}
