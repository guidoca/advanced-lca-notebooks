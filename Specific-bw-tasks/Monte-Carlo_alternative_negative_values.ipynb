{
 "cells": [
  {
   "cell_type": "markdown",
   "metadata": {},
   "source": [
    "# Run Monte Carlo Simulation in Brightway"
   ]
  },
  {
   "cell_type": "markdown",
   "metadata": {},
   "source": [
    "Now we are ready to start doing more intense simulations. In particular Brightway2 is great to perform fast error propagation with Monte Carlo simulation. \n",
    "\n",
    "This script shows how to add uncertainties to your home-made product system and run a Monte Carlo simulation. \n",
    "\n",
    "To better understand this script, I recommend reading read the paper by Limpert et al. (2001), that is a 'classic' and explains the log-normal distribution.\n",
    "\n",
    "_Limpert, E., Stahel, W. A., & Abbt, M. (2001). Log-normal distributions across the sciences: Keys and clues. Bioscience, 51(5), 341-352. [https://doi.org/10.1641/0006-3568(2001)051[0341:LNDATS]2.0.CO;2](https://academic.oup.com/bioscience/article/51/5/341/243981)_"
   ]
  },
  {
   "cell_type": "code",
   "execution_count": 1,
   "metadata": {},
   "outputs": [],
   "source": [
    "import brightway2 as bw\n",
    "import pandas as pd\n",
    "import numpy as np\n",
    "import matplotlib.pyplot as plt"
   ]
  },
  {
   "cell_type": "code",
   "execution_count": 2,
   "metadata": {},
   "outputs": [],
   "source": [
    "bw.projects.set_current('advlca20')"
   ]
  },
  {
   "cell_type": "code",
   "execution_count": 3,
   "metadata": {},
   "outputs": [
    {
     "data": {
      "text/plain": [
       "Databases dictionary with 3 object(s):\n",
       "\tbiosphere3\n",
       "\tecoinvent 3.6 conseq\n",
       "\texldb"
      ]
     },
     "execution_count": 3,
     "metadata": {},
     "output_type": "execute_result"
    }
   ],
   "source": [
    "bw.databases"
   ]
  },
  {
   "cell_type": "markdown",
   "metadata": {},
   "source": [
    "A short recap from yesterday, let's create a database and run LCA calcualtions"
   ]
  },
  {
   "cell_type": "code",
   "execution_count": 30,
   "metadata": {},
   "outputs": [
    {
     "name": "stderr",
     "output_type": "stream",
     "text": [
      "Writing activities to SQLite3 database:\n",
      "0% [###] 100% | ETA: 00:00:00\n",
      "Total time elapsed: 00:00:00\n"
     ]
    },
    {
     "name": "stdout",
     "output_type": "stream",
     "text": [
      "Title: Writing activities to SQLite3 database:\n",
      "  Started: 05/13/2020 09:23:14\n",
      "  Finished: 05/13/2020 09:23:14\n",
      "  Total time elapsed: 00:00:00\n",
      "  CPU %: 52.90\n",
      "  Memory %: 1.06\n",
      "80.0\n"
     ]
    }
   ],
   "source": [
    "t_db = bw.Database('testdb')\n",
    "\n",
    "t_db.write({  # A simplified version, only CO2 as emission\n",
    "    ('testdb', 'Electricity production'): {\n",
    "        'name': 'Electricity production',\n",
    "        'unit': 'kWh',\n",
    "        'exchanges': [{\n",
    "                'input': ('testdb', 'Fuel production'),\n",
    "                'amount': -2,\n",
    "                'unit': 'kg',\n",
    "                'type': 'technosphere'\n",
    "            }, {\n",
    "                'input': ('testdb', 'Carbon dioxide'),\n",
    "                'amount': 1,\n",
    "                'unit': 'kg',\n",
    "                'type': 'biosphere'\n",
    "            }, {\n",
    "                'input': ('testdb', 'Electricity production'),\n",
    "                'amount': 10,\n",
    "                'unit': 'kWh',\n",
    "                'type': 'production'\n",
    "            }]\n",
    "        },\n",
    "    ('testdb', 'Fuel production'): {\n",
    "        'name': 'Fuel production',\n",
    "        'unit': 'kg',\n",
    "        'exchanges': [{\n",
    "                'input': ('testdb', 'Carbon dioxide'),\n",
    "                'amount': 10,\n",
    "                'unit': 'kg',\n",
    "                'type': 'biosphere'\n",
    "            }, {\n",
    "                'input': ('testdb', 'Fuel production'),\n",
    "                'amount': 100,\n",
    "                'unit': 'kg',\n",
    "                'type': 'production'\n",
    "            }]\n",
    "    },\n",
    "    ('testdb', 'Carbon dioxide'): {'name': 'Carbon dioxide', 'unit': 'kg', 'type': 'biosphere'}\n",
    "    })\n",
    "\n",
    "\n",
    "myLCIAdata = [[('testdb', 'Carbon dioxide'), 1.0]]\n",
    "method_key = ('simplemethod', 'imaginaryendpoint', 'imaginarymidpoint')\n",
    "my_method = bw.Method(method_key)\n",
    "my_method.validate(myLCIAdata)\n",
    "my_method.register()\n",
    "my_method.write(myLCIAdata)\n",
    "my_method.load()\n",
    "\n",
    "functional_unit = {t_db.get('Electricity production'): 1000}\n",
    "lca = bw.LCA(functional_unit, method_key)  # LCA calculations with method\n",
    "lca.lci()\n",
    "lca.lcia()\n",
    "\n",
    "print(lca.score) # Will be different from Script 1."
   ]
  },
  {
   "cell_type": "markdown",
   "metadata": {},
   "source": [
    "###  Exercise / Homework\n",
    "Can you obtain the same result by removing the exchanges from the database created yesterday? \n",
    "Hint: you can do this using the .Delete() method applied to an exchange."
   ]
  },
  {
   "cell_type": "markdown",
   "metadata": {},
   "source": [
    "# Now add uncertainty \n",
    "\n",
    "See a tutorial [here](http://nbviewer.jupyter.org/urls/bitbucket.org/cmutel/brightway2/raw/default/notebooks/Activities%20and%20exchanges.ipynb)\n",
    "\n",
    "**Note**: uncertainties are always added to EXCHANGES (not to activities...)\n",
    "\n",
    "So I'll get one  exchange from one activity"
   ]
  },
  {
   "cell_type": "code",
   "execution_count": 31,
   "metadata": {},
   "outputs": [
    {
     "data": {
      "text/plain": [
       "Exchange: 1 kg 'Carbon dioxide' (kg, None, None) to 'Electricity production' (kWh, None, None)>"
      ]
     },
     "execution_count": 31,
     "metadata": {},
     "output_type": "execute_result"
    }
   ],
   "source": [
    "el = t_db.get('Electricity production')  \n",
    "co2_exc = list(el.exchanges())[1]   # the first exchange\n",
    "co2_exc"
   ]
  },
  {
   "cell_type": "code",
   "execution_count": 6,
   "metadata": {},
   "outputs": [],
   "source": [
    "# Lognormal distribution first\n",
    "from stats_arrays import LognormalUncertainty\n",
    "import numpy as np\n",
    "co2_exc['uncertainty type'] = LognormalUncertainty.id # this is an integer (not a float)\n",
    "co2_exc['loc'], co2_exc['scale'] = np.log(co2_exc['amount']), np.log(1.01) \n",
    "'''The lognorm dist is defined here two parameters: location and scale \n",
    "i.e. by the log of the geometric mean and by the geometric standard dev'''\n",
    "co2_exc.save() # important"
   ]
  },
  {
   "cell_type": "code",
   "execution_count": 32,
   "metadata": {},
   "outputs": [
    {
     "data": {
      "text/plain": [
       "Exchange: -2 kg 'Fuel production' (kg, None, None) to 'Electricity production' (kWh, None, None)>"
      ]
     },
     "execution_count": 32,
     "metadata": {},
     "output_type": "execute_result"
    }
   ],
   "source": [
    "el = t_db.get('Electricity production')  \n",
    "fuel_exc = list(el.exchanges())[0]   # the first exchange\n",
    "fuel_exc"
   ]
  },
  {
   "cell_type": "code",
   "execution_count": 35,
   "metadata": {},
   "outputs": [],
   "source": [
    "# Lognormal distribution first\n",
    "from stats_arrays import LognormalUncertainty\n",
    "import numpy as np\n",
    "fuel_exc['uncertainty type'] = LognormalUncertainty.id # this is an integer (not a float)\n",
    "fuel_exc['loc'], fuel_exc['scale'] = np.log(-fuel_exc['amount']), np.log(1.01)\n",
    "fuel_exc['negative'] = True\n",
    "'''The lognorm dist is defined here two parameters: location and scale \n",
    "i.e. by the log of the geometric mean and by the geometric standard dev'''\n",
    "fuel_exc.save() # important"
   ]
  },
  {
   "cell_type": "code",
   "execution_count": 36,
   "metadata": {},
   "outputs": [
    {
     "data": {
      "text/plain": [
       "{'uncertainty type': 2,\n",
       " 'loc': 0.6931471805599453,\n",
       " 'scale': 0.009950330853168092,\n",
       " 'negative': True}"
      ]
     },
     "execution_count": 36,
     "metadata": {},
     "output_type": "execute_result"
    }
   ],
   "source": [
    "fuel_exc.uncertainty  #"
   ]
  },
  {
   "cell_type": "code",
   "execution_count": 7,
   "metadata": {},
   "outputs": [
    {
     "data": {
      "text/plain": [
       "{'uncertainty type': 2, 'loc': 0.0, 'scale': 0.009950330853168092}"
      ]
     },
     "execution_count": 7,
     "metadata": {},
     "output_type": "execute_result"
    }
   ],
   "source": [
    "co2_exc.uncertainty  # check that info is stored"
   ]
  },
  {
   "cell_type": "code",
   "execution_count": 9,
   "metadata": {},
   "outputs": [
    {
     "data": {
      "text/plain": [
       "{'input': ('testdb', 'Carbon dioxide'),\n",
       " 'amount': 1,\n",
       " 'unit': 'kg',\n",
       " 'type': 'biosphere',\n",
       " 'output': ('testdb', 'Electricity production'),\n",
       " 'uncertainty type': 2,\n",
       " 'loc': 0.0,\n",
       " 'scale': 0.009950330853168092}"
      ]
     },
     "execution_count": 9,
     "metadata": {},
     "output_type": "execute_result"
    }
   ],
   "source": [
    "co2_exc.as_dict()  # Now uncertainty is included"
   ]
  },
  {
   "cell_type": "code",
   "execution_count": 10,
   "metadata": {},
   "outputs": [
    {
     "data": {
      "text/plain": [
       "array([1.01669788, 1.00258929, 1.01547726, 1.01335121, 1.0067775 ,\n",
       "       0.9934499 , 1.00743176, 0.98535487, 1.01358149, 0.99510442])"
      ]
     },
     "execution_count": 10,
     "metadata": {},
     "output_type": "execute_result"
    }
   ],
   "source": [
    "co2_exc.random_sample(n=10)  # nice"
   ]
  },
  {
   "cell_type": "code",
   "execution_count": 11,
   "metadata": {},
   "outputs": [
    {
     "data": {
      "text/plain": [
       "(array([  8.,  45., 132., 209., 218., 211., 122.,  42.,  12.,   1.]),\n",
       " array([0.97246155, 0.97862313, 0.9847847 , 0.99094627, 0.99710785,\n",
       "        1.00326942, 1.009431  , 1.01559257, 1.02175415, 1.02791572,\n",
       "        1.0340773 ]),\n",
       " <a list of 10 Patch objects>)"
      ]
     },
     "execution_count": 11,
     "metadata": {},
     "output_type": "execute_result"
    },
    {
     "data": {
      "image/png": "[encoded data removed]",
      "text/plain": [
       "<Figure size 432x288 with 1 Axes>"
      ]
     },
     "metadata": {
      "needs_background": "light"
     },
     "output_type": "display_data"
    }
   ],
   "source": [
    "# if you want to see this\n",
    "%matplotlib inline\n",
    "plt.hist(co2_exc.random_sample(n=1000))"
   ]
  },
  {
   "cell_type": "code",
   "execution_count": null,
   "metadata": {},
   "outputs": [],
   "source": [
    "# this in case you want to try with normal dist\n",
    "#from stats_arrays import NormalUncertainty\n",
    "\n",
    "#co2_exc['uncertainty type'] = NormalUncertainty.id\n",
    "#co2_exc['loc'], co2_exc['scale'] = 1, 0.01\n",
    "#co2_exc.save()\n",
    "#co2_exc.uncertainty  # check that\n",
    "#co2_exc.as_dict()  # OK"
   ]
  },
  {
   "cell_type": "markdown",
   "metadata": {},
   "source": [
    "#  Now MC simulation\n",
    "\n",
    "Sources here: [example](http://stackoverflow.com/questions/38532146/obtaining-distribution-of-results-from-lcia), [another example](https://brightwaylca.org/examples/getting-started.html), and [source code](https://bitbucket.org/cmutel/brightway2-calc/src/662740694a8c70074105b5dca45b58651adb5eb5/bw2calc/monte_carlo.py?at=default&fileviewer=file-view-default)"
   ]
  },
  {
   "cell_type": "code",
   "execution_count": 38,
   "metadata": {},
   "outputs": [
    {
     "data": {
      "text/plain": [
       "{'uncertainty type': 2,\n",
       " 'loc': 0.6931471805599453,\n",
       " 'scale': 0.009950330853168092,\n",
       " 'negative': True}"
      ]
     },
     "execution_count": 38,
     "metadata": {},
     "output_type": "execute_result"
    }
   ],
   "source": [
    "# Check again that uncertainty info is stored\n",
    "list(el.exchanges())[0].uncertainty"
   ]
  },
  {
   "cell_type": "code",
   "execution_count": 39,
   "metadata": {},
   "outputs": [],
   "source": [
    "# This is the montecarlo simulation\n",
    "mc = bw.MonteCarloLCA({el: 1000}, method_key)  # Monte Carlo class\n",
    "mc_results = [next(mc) for x in range(500)] \n",
    "\n",
    "# two things here:\n",
    "# next() is an iterator, a peculiar python construct, check it online\n",
    "# using a fuction within [ ] usig a for loop is called a \"list comprehension\". The result is a list"
   ]
  },
  {
   "cell_type": "code",
   "execution_count": 40,
   "metadata": {},
   "outputs": [
    {
     "data": {
      "text/plain": [
       "[79.914267145696,\n",
       " 79.97592263897928,\n",
       " 80.36779713583076,\n",
       " 80.09121663396796,\n",
       " 79.76437942611284,\n",
       " 79.93295828508619,\n",
       " 79.69221519959859,\n",
       " 79.98630198808179,\n",
       " 79.78605038768242,\n",
       " 79.92068947415129,\n",
       " 80.32840179154257,\n",
       " 79.7225817519097,\n",
       " 79.872700638986,\n",
       " 79.6091800468338,\n",
       " 79.87854552804387,\n",
       " 80.03341989287665,\n",
       " 79.97034876642147,\n",
       " 80.05122645829331,\n",
       " 80.14144915691807,\n",
       " 80.20003905009403,\n",
       " 79.9709732795663,\n",
       " 79.878578992429,\n",
       " 79.96456512839006,\n",
       " 79.90306176357761,\n",
       " 80.13678452849307,\n",
       " 80.18518998342728,\n",
       " 79.84476153816576,\n",
       " 79.86853603666222,\n",
       " 80.18481749568738,\n",
       " 79.49027999485543,\n",
       " 80.12883533759049,\n",
       " 79.77153085409768,\n",
       " 80.14426684202503,\n",
       " 80.19295521298844,\n",
       " 79.82195989507107,\n",
       " 79.8761401933721,\n",
       " 79.954685158865,\n",
       " 79.86730536650511,\n",
       " 79.66247420742602,\n",
       " 80.34231919713253,\n",
       " 79.93219908338716,\n",
       " 79.84169185566512,\n",
       " 79.89616655192552,\n",
       " 79.914267145696,\n",
       " 80.1935159520589,\n",
       " 79.70254978566771,\n",
       " 80.0912581849343,\n",
       " 79.66309418937854,\n",
       " 79.87891468518956,\n",
       " 80.16039753909325,\n",
       " 79.59058284745726,\n",
       " 80.15985294042738,\n",
       " 79.71272566333444,\n",
       " 80.11837523706998,\n",
       " 80.00115728851318,\n",
       " 79.93467028724011,\n",
       " 79.94506816950434,\n",
       " 79.58841587278367,\n",
       " 80.24496112757821,\n",
       " 79.9497372007263,\n",
       " 80.11063822743083,\n",
       " 79.85987838241502,\n",
       " 80.2217180208558,\n",
       " 80.147564169939,\n",
       " 79.91268251765169,\n",
       " 79.99653201751212,\n",
       " 79.68939430044664,\n",
       " 79.92656054743628,\n",
       " 80.10074199634997,\n",
       " 80.07575884669714,\n",
       " 80.2363024294553,\n",
       " 80.35383629231762,\n",
       " 79.93041025078215,\n",
       " 79.56085612596524,\n",
       " 80.17110690068333,\n",
       " 80.3033701897029,\n",
       " 79.79873566348154,\n",
       " 80.38528157701889,\n",
       " 80.32550114226173,\n",
       " 79.74892630083173,\n",
       " 80.16982727793527,\n",
       " 79.55241460306775,\n",
       " 80.1301627557595,\n",
       " 80.27172979118122,\n",
       " 80.03675628418223,\n",
       " 80.32366586027258,\n",
       " 80.04260331177142,\n",
       " 79.94482590373327,\n",
       " 80.18423853981753,\n",
       " 80.14759686899072,\n",
       " 80.03037352226818,\n",
       " 80.20008629194623,\n",
       " 80.3157742970357,\n",
       " 79.80216297299334,\n",
       " 80.12264707013591,\n",
       " 79.72795730176075,\n",
       " 79.93363207974333,\n",
       " 79.95675992215999,\n",
       " 79.79707119703282,\n",
       " 79.70697861431688,\n",
       " 80.01364889739247,\n",
       " 79.84218897535307,\n",
       " 80.0046734826488,\n",
       " 80.05272692319906,\n",
       " 80.05781915343395,\n",
       " 79.59830687537763,\n",
       " 79.95119760844295,\n",
       " 80.124601495604,\n",
       " 79.74234100703487,\n",
       " 80.08053389998133,\n",
       " 79.99161836038034,\n",
       " 80.11098110447094,\n",
       " 79.68976358062946,\n",
       " 80.31775482477812,\n",
       " 80.08535978102992,\n",
       " 80.07109220580088,\n",
       " 80.2329536478694,\n",
       " 80.00090088682397,\n",
       " 79.95615942971112,\n",
       " 79.8070643840169,\n",
       " 80.04726439144665,\n",
       " 80.20513940529257,\n",
       " 79.66399782013326,\n",
       " 80.14214430656867,\n",
       " 80.41726263593898,\n",
       " 80.08053452997191,\n",
       " 80.03816714364844,\n",
       " 80.1685214893104,\n",
       " 79.59684940699884,\n",
       " 79.8885494467153,\n",
       " 79.74124818548978,\n",
       " 79.55703930276066,\n",
       " 79.94773728526476,\n",
       " 79.94083667862563,\n",
       " 79.8720449043302,\n",
       " 80.21773248063568,\n",
       " 80.04229872346218,\n",
       " 79.65983659233933,\n",
       " 80.11030665547763,\n",
       " 80.04987536565959,\n",
       " 79.72086246614009,\n",
       " 79.78647672912368,\n",
       " 80.04825923029905,\n",
       " 79.94622720130096,\n",
       " 79.93188441704231,\n",
       " 79.99002892428095,\n",
       " 80.24046924727959,\n",
       " 79.86563033447132,\n",
       " 79.87786308949657,\n",
       " 79.9528441324577,\n",
       " 79.97848525404635,\n",
       " 79.93364832950482,\n",
       " 80.08371186501608,\n",
       " 80.11311009278921,\n",
       " 79.82506951312133,\n",
       " 79.9772764208563,\n",
       " 79.61369039621499,\n",
       " 80.22805364549143,\n",
       " 79.86769081007962,\n",
       " 80.1827145442692,\n",
       " 79.9774558948368,\n",
       " 79.97014069621528,\n",
       " 79.88619108406445,\n",
       " 80.23156645433284,\n",
       " 79.82703173557573,\n",
       " 80.32699521610506,\n",
       " 80.03486586200256,\n",
       " 79.92251047213217,\n",
       " 79.89280417588807,\n",
       " 79.82987503756152,\n",
       " 80.41605550868718,\n",
       " 80.04398017314765,\n",
       " 79.82020221357305,\n",
       " 80.06329214377504,\n",
       " 79.9059118671409,\n",
       " 79.99705303955093,\n",
       " 79.79494608231323,\n",
       " 79.67347836127345,\n",
       " 80.09315288911277,\n",
       " 79.79882430091423,\n",
       " 80.05996244681533,\n",
       " 80.24191218466972,\n",
       " 80.13450924345688,\n",
       " 79.96826043930636,\n",
       " 80.06948621188779,\n",
       " 79.86549643277127,\n",
       " 80.03640579202207,\n",
       " 80.11421458469522,\n",
       " 80.12560217000805,\n",
       " 79.7098362096171,\n",
       " 79.94235454072802,\n",
       " 79.90939333031673,\n",
       " 80.3464613962635,\n",
       " 79.6314014238649,\n",
       " 80.09539690133553,\n",
       " 79.67299950044512,\n",
       " 79.89784384846591,\n",
       " 80.11592663957957,\n",
       " 80.13572538565256,\n",
       " 80.27475070308914,\n",
       " 80.29493998762872,\n",
       " 79.77895671145004,\n",
       " 80.14111513867113,\n",
       " 79.8830479016232,\n",
       " 80.18353369204185,\n",
       " 80.28552678267582,\n",
       " 80.35688349063909,\n",
       " 80.14874164047103,\n",
       " 80.11675941717766,\n",
       " 79.96944650817032,\n",
       " 79.82615159372111,\n",
       " 79.74823510575617,\n",
       " 80.17255916094508,\n",
       " 79.98177141418059,\n",
       " 80.39238219011654,\n",
       " 80.10980225793244,\n",
       " 80.24265059504901,\n",
       " 79.8804151028164,\n",
       " 79.85564697182869,\n",
       " 80.14936811117197,\n",
       " 79.8432300978963,\n",
       " 80.35741899133697,\n",
       " 80.11725021642663,\n",
       " 80.20318825739741,\n",
       " 79.75271326150717,\n",
       " 80.02986373421601,\n",
       " 79.87490724375547,\n",
       " 79.81911264291664,\n",
       " 79.96452627396825,\n",
       " 79.78797269027028,\n",
       " 79.98158247848515,\n",
       " 80.06179827660078,\n",
       " 79.99621027013399,\n",
       " 79.90087999719871,\n",
       " 80.16519942315384,\n",
       " 79.92363069722614,\n",
       " 79.892110284107,\n",
       " 79.94563613507039,\n",
       " 79.80527927722176,\n",
       " 79.98103869654858,\n",
       " 79.54383549107554,\n",
       " 79.91530684932788,\n",
       " 80.43506847864069,\n",
       " 79.87726871162602,\n",
       " 80.05764789629231,\n",
       " 79.85627108357279,\n",
       " 80.0250233112857,\n",
       " 80.2871370913119,\n",
       " 80.01305670943289,\n",
       " 79.81358474072886,\n",
       " 79.93464464565047,\n",
       " 80.08350865726078,\n",
       " 79.58272098607068,\n",
       " 80.16104908437767,\n",
       " 79.71214444297766,\n",
       " 80.20681106541318,\n",
       " 80.14427537984017,\n",
       " 79.98101157473423,\n",
       " 79.82450465828813,\n",
       " 79.91875550038961,\n",
       " 79.96199499686833,\n",
       " 80.05602960543672,\n",
       " 80.22503782737127,\n",
       " 79.84483624405775,\n",
       " 79.80539095073135,\n",
       " 79.96771297181255,\n",
       " 80.16345876697137,\n",
       " 80.00303141356595,\n",
       " 80.0766774869551,\n",
       " 80.10906487049424,\n",
       " 80.21314303083147,\n",
       " 80.09075551148356,\n",
       " 79.69996431834821,\n",
       " 79.8564310089041,\n",
       " 80.041282701222,\n",
       " 80.12179021784922,\n",
       " 80.30827658206198,\n",
       " 80.02668478106273,\n",
       " 79.97782017220015,\n",
       " 80.24758675453373,\n",
       " 80.03431917386602,\n",
       " 79.96386115291274,\n",
       " 79.8433581242775,\n",
       " 79.60317989108171,\n",
       " 79.78241469622449,\n",
       " 80.07253905931356,\n",
       " 80.07375624695949,\n",
       " 80.27565428307689,\n",
       " 80.08497695755283,\n",
       " 80.31281378289677,\n",
       " 79.92785553808744,\n",
       " 79.76195854632442,\n",
       " 79.78551102625593,\n",
       " 79.5965040196324,\n",
       " 79.97563129838736,\n",
       " 79.87399677788724,\n",
       " 79.67983999738948,\n",
       " 79.81568669190185,\n",
       " 79.7540798195682,\n",
       " 79.99674594736393,\n",
       " 79.9805057790328,\n",
       " 79.98653509525236,\n",
       " 80.20749755933778,\n",
       " 80.05438339943827,\n",
       " 80.0026354260927,\n",
       " 79.91733181855822,\n",
       " 80.05558759354625,\n",
       " 79.84935538798311,\n",
       " 79.93468911817874,\n",
       " 79.78470403575801,\n",
       " 79.90148023247261,\n",
       " 80.07590530775153,\n",
       " 80.06548726495122,\n",
       " 79.66822419053315,\n",
       " 79.88395300573843,\n",
       " 80.27580357885037,\n",
       " 79.8553241268628,\n",
       " 80.05484101523027,\n",
       " 79.68881335729782,\n",
       " 79.84591884583841,\n",
       " 79.84132485280183,\n",
       " 79.78384388664144,\n",
       " 80.35480625605727,\n",
       " 79.74719268168573,\n",
       " 80.33439632662089,\n",
       " 80.00739619203031,\n",
       " 79.74373257785165,\n",
       " 79.87529646845584,\n",
       " 80.06503508188398,\n",
       " 80.23937360892563,\n",
       " 80.10869658179026,\n",
       " 80.27259074420273,\n",
       " 80.0875183389688,\n",
       " 79.78643919512895,\n",
       " 80.17007559102439,\n",
       " 79.94253869701484,\n",
       " 79.79335019533968,\n",
       " 80.55052474962037,\n",
       " 80.09099096549676,\n",
       " 80.23956771494386,\n",
       " 79.71826452864785,\n",
       " 80.1319509850122,\n",
       " 79.78279661589762,\n",
       " 79.85064145212101,\n",
       " 79.93036776341407,\n",
       " 79.7417798461469,\n",
       " 80.39990948535734,\n",
       " 79.7563883497057,\n",
       " 79.81236833660022,\n",
       " 80.0901850775162,\n",
       " 80.14218932173314,\n",
       " 79.87918604406984,\n",
       " 80.31504943824326,\n",
       " 80.03800431230746,\n",
       " 80.02228891575041,\n",
       " 79.75697784710081,\n",
       " 79.92877711776238,\n",
       " 80.19715169835091,\n",
       " 79.96557396080534,\n",
       " 80.2550264020834,\n",
       " 80.13925855220467,\n",
       " 80.15671588867733,\n",
       " 80.07011217122566,\n",
       " 79.97142793998793,\n",
       " 80.11588294663238,\n",
       " 79.95271839099955,\n",
       " 79.83994371414312,\n",
       " 79.87869528065987,\n",
       " 79.75093226171472,\n",
       " 80.2224558424705,\n",
       " 79.95969229872587,\n",
       " 80.0448389570994,\n",
       " 80.0915137320351,\n",
       " 80.11534081865474,\n",
       " 80.06620932667889,\n",
       " 80.33538892741731,\n",
       " 80.20184329727041,\n",
       " 80.04222958019204,\n",
       " 79.94775671339809,\n",
       " 80.35309961182935,\n",
       " 80.09699099040209,\n",
       " 80.06572698499826,\n",
       " 79.89205013680649,\n",
       " 80.00462320529175,\n",
       " 79.88147103737157,\n",
       " 80.23764089686796,\n",
       " 79.92592304808738,\n",
       " 80.17365207449214,\n",
       " 80.16566470674654,\n",
       " 79.78951639809132,\n",
       " 80.1035080905387,\n",
       " 79.64313802058943,\n",
       " 80.16612828531836,\n",
       " 80.1943877448156,\n",
       " 79.6195167084765,\n",
       " 79.94460542257947,\n",
       " 80.17503366752618,\n",
       " 80.33763660064508,\n",
       " 80.06843494315538,\n",
       " 80.05391144257334,\n",
       " 80.0734297433826,\n",
       " 80.05729887302545,\n",
       " 80.14977884000251,\n",
       " 80.23065579462009,\n",
       " 80.36551347463521,\n",
       " 80.09360275898267,\n",
       " 79.95632064911614,\n",
       " 80.08542748468777,\n",
       " 80.28176799994021,\n",
       " 80.09389623792316,\n",
       " 80.29272234494027,\n",
       " 79.97653977712383,\n",
       " 79.45711909705841,\n",
       " 80.0760919305948,\n",
       " 79.8801981311433,\n",
       " 80.06269117618233,\n",
       " 79.95555013525154,\n",
       " 79.83280577180813,\n",
       " 80.03582308533021,\n",
       " 79.83460177212159,\n",
       " 79.83065469103886,\n",
       " 79.97915312650134,\n",
       " 79.97005544961533,\n",
       " 80.00805058499432,\n",
       " 79.914267145696,\n",
       " 79.8842443422934,\n",
       " 79.76890122962124,\n",
       " 80.34886902436068,\n",
       " 80.45791664441792,\n",
       " 80.01327283658222,\n",
       " 80.41053969646795,\n",
       " 80.09000744090397,\n",
       " 79.96156842754047,\n",
       " 79.84780810621663,\n",
       " 80.24745006094896,\n",
       " 80.24587318374702,\n",
       " 80.21749826812508,\n",
       " 80.08007903280068,\n",
       " 80.24129429463379,\n",
       " 79.81859680621861,\n",
       " 79.914267145696,\n",
       " 79.83380153641411,\n",
       " 79.95038170988323,\n",
       " 80.21379864848333,\n",
       " 80.24052226151578,\n",
       " 79.99941536202958,\n",
       " 80.01408272604654,\n",
       " 80.28411769418781,\n",
       " 79.93506186749762,\n",
       " 79.75671114057542,\n",
       " 80.04946774627155,\n",
       " 79.93863435010574,\n",
       " 80.13513482602033,\n",
       " 79.91256803998579,\n",
       " 79.93810069602631,\n",
       " 80.09822930106604,\n",
       " 80.0275435082898,\n",
       " 80.05460881123156,\n",
       " 80.03607696745881,\n",
       " 79.98307387643285,\n",
       " 79.85478657014015,\n",
       " 79.90844103710349,\n",
       " 79.71736692038652,\n",
       " 79.88641785923437,\n",
       " 79.79480709322902,\n",
       " 79.88442298623468,\n",
       " 80.17291577936045,\n",
       " 79.92646482513742,\n",
       " 79.87560142128486,\n",
       " 79.84921854266179,\n",
       " 79.9061525432004,\n",
       " 79.79006601868144,\n",
       " 79.8666984503366,\n",
       " 79.97242675510464,\n",
       " 79.89139374802569,\n",
       " 80.02429538508845,\n",
       " 80.2111561358382,\n",
       " 80.07588588788994,\n",
       " 79.98300204162207,\n",
       " 80.30560386532626,\n",
       " 79.95514613064182,\n",
       " 80.27373048780476,\n",
       " 79.93931172921262,\n",
       " 79.96274112778002,\n",
       " 79.90567802853073,\n",
       " 80.16307066331254,\n",
       " 80.0111135153535,\n",
       " 79.84495561819439,\n",
       " 79.85388385292872,\n",
       " 79.9664548632698,\n",
       " 79.67758670595902,\n",
       " 80.05490818405914,\n",
       " 80.24042993278238,\n",
       " 79.95113342043723,\n",
       " 80.00588034574588,\n",
       " 79.98057711730793,\n",
       " 79.42281970423005,\n",
       " 79.91904504004486,\n",
       " 79.7748254352792,\n",
       " 79.98070237900353]"
      ]
     },
     "execution_count": 40,
     "metadata": {},
     "output_type": "execute_result"
    }
   ],
   "source": [
    "mc_results"
   ]
  },
  {
   "cell_type": "code",
   "execution_count": 41,
   "metadata": {},
   "outputs": [
    {
     "data": {
      "text/plain": [
       "Text(0.5, 0, 'lca.score')"
      ]
     },
     "execution_count": 41,
     "metadata": {},
     "output_type": "execute_result"
    },
    {
     "data": {
      "image/png": "[encoded data removed]",
      "text/plain": [
       "<Figure size 432x288 with 1 Axes>"
      ]
     },
     "metadata": {
      "needs_background": "light"
     },
     "output_type": "display_data"
    }
   ],
   "source": [
    "# Look at the MC results\n",
    "plt.hist(mc_results, density=True)  # From matplotlib package. Use bins = int(500/15) to increase number of bars\n",
    "plt.ylabel(\"Probability\")\n",
    "plt.xlabel('lca.score')"
   ]
  },
  {
   "cell_type": "code",
   "execution_count": 18,
   "metadata": {},
   "outputs": [
    {
     "name": "stdout",
     "output_type": "stream",
     "text": [
      "119.981739495381\n",
      "120.01153647873556\n",
      "120.0\n"
     ]
    }
   ],
   "source": [
    "print(np.mean(mc_results)) # from numpy package\n",
    "print(np.median(mc_results)) # from numpy package\n",
    "print(lca.score)"
   ]
  },
  {
   "cell_type": "code",
   "execution_count": null,
   "metadata": {},
   "outputs": [],
   "source": [
    "119.97348875573454\n",
    "119.94137661466638\n",
    "120.0"
   ]
  },
  {
   "cell_type": "code",
   "execution_count": 19,
   "metadata": {},
   "outputs": [
    {
     "data": {
      "text/html": [
       "<div>\n",
       "<style scoped>\n",
       "    .dataframe tbody tr th:only-of-type {\n",
       "        vertical-align: middle;\n",
       "    }\n",
       "\n",
       "    .dataframe tbody tr th {\n",
       "        vertical-align: top;\n",
       "    }\n",
       "\n",
       "    .dataframe thead th {\n",
       "        text-align: right;\n",
       "    }\n",
       "</style>\n",
       "<table border=\"1\" class=\"dataframe\">\n",
       "  <thead>\n",
       "    <tr style=\"text-align: right;\">\n",
       "      <th></th>\n",
       "      <th>0</th>\n",
       "    </tr>\n",
       "  </thead>\n",
       "  <tbody>\n",
       "    <tr>\n",
       "      <th>count</th>\n",
       "      <td>500.000000</td>\n",
       "    </tr>\n",
       "    <tr>\n",
       "      <th>mean</th>\n",
       "      <td>119.981739</td>\n",
       "    </tr>\n",
       "    <tr>\n",
       "      <th>std</th>\n",
       "      <td>0.984836</td>\n",
       "    </tr>\n",
       "    <tr>\n",
       "      <th>min</th>\n",
       "      <td>116.890800</td>\n",
       "    </tr>\n",
       "    <tr>\n",
       "      <th>25%</th>\n",
       "      <td>119.254874</td>\n",
       "    </tr>\n",
       "    <tr>\n",
       "      <th>50%</th>\n",
       "      <td>120.011536</td>\n",
       "    </tr>\n",
       "    <tr>\n",
       "      <th>75%</th>\n",
       "      <td>120.632145</td>\n",
       "    </tr>\n",
       "    <tr>\n",
       "      <th>max</th>\n",
       "      <td>123.039791</td>\n",
       "    </tr>\n",
       "  </tbody>\n",
       "</table>\n",
       "</div>"
      ],
      "text/plain": [
       "                0\n",
       "count  500.000000\n",
       "mean   119.981739\n",
       "std      0.984836\n",
       "min    116.890800\n",
       "25%    119.254874\n",
       "50%    120.011536\n",
       "75%    120.632145\n",
       "max    123.039791"
      ]
     },
     "execution_count": 19,
     "metadata": {},
     "output_type": "execute_result"
    }
   ],
   "source": [
    "pd.DataFrame(mc_results).describe()  # from pandas package"
   ]
  },
  {
   "cell_type": "code",
   "execution_count": 21,
   "metadata": {},
   "outputs": [
    {
     "data": {
      "text/plain": [
       "Text(0.5, 0, 'lca.score')"
      ]
     },
     "execution_count": 21,
     "metadata": {},
     "output_type": "execute_result"
    },
    {
     "data": {
      "image/png": "[encoded data removed]",
      "text/plain": [
       "<Figure size 432x288 with 1 Axes>"
      ]
     },
     "metadata": {
      "needs_background": "light"
     },
     "output_type": "display_data"
    }
   ],
   "source": [
    "# Do this again and compare results\n",
    "mc2 = bw.MonteCarloLCA({el: 1000}, method_key)  # Monte Carlo class\n",
    "mc2_results = [next(mc2) for x in range(500)]\n",
    "\n",
    "plt.hist(mc2_results, density=True)\n",
    "plt.ylabel(\"Probability\")\n",
    "plt.xlabel('lca.score')"
   ]
  },
  {
   "cell_type": "code",
   "execution_count": 22,
   "metadata": {},
   "outputs": [
    {
     "name": "stdout",
     "output_type": "stream",
     "text": [
      "119.98632565271778\n",
      "119.97522480392288\n",
      "120.0\n"
     ]
    }
   ],
   "source": [
    "print(np.mean(mc2_results))\n",
    "print(np.median(mc2_results))\n",
    "print(lca.score)"
   ]
  },
  {
   "cell_type": "code",
   "execution_count": 23,
   "metadata": {},
   "outputs": [
    {
     "data": {
      "text/plain": [
       "<matplotlib.collections.PathCollection at 0x1a1f283090>"
      ]
     },
     "execution_count": 23,
     "metadata": {},
     "output_type": "execute_result"
    },
    {
     "data": {
      "image/png": "[encoded data removed]",
      "text/plain": [
       "<Figure size 432x288 with 1 Axes>"
      ]
     },
     "metadata": {
      "needs_background": "light"
     },
     "output_type": "display_data"
    }
   ],
   "source": [
    "plt.scatter(mc_results, mc2_results) # Correct. Do you understand why?"
   ]
  },
  {
   "cell_type": "code",
   "execution_count": 28,
   "metadata": {},
   "outputs": [
    {
     "name": "stdout",
     "output_type": "stream",
     "text": [
      "119.38748809682872\n",
      "120.91535990460696\n",
      "119.6273192820819\n",
      "121.59594396601001\n",
      "120.70296681240013\n",
      "118.5156119729618\n",
      "121.42675983021363\n",
      "118.52751694488592\n",
      "120.51577627618589\n"
     ]
    }
   ],
   "source": [
    "# Another way to do it\n",
    "iterations = 1000\n",
    "scores = np.zeros([1, iterations])  # 1-dimensional array filled with zeros\n",
    "for iteration in range(iterations):\n",
    "    next(mc)\n",
    "    scores[0, iteration] = mc.score\n",
    "for i in range(1, 10):\n",
    "    print(scores[0][i])  # need the zero because one-dimensional array"
   ]
  },
  {
   "cell_type": "code",
   "execution_count": 29,
   "metadata": {},
   "outputs": [
    {
     "name": "stdout",
     "output_type": "stream",
     "text": [
      "121.34017161078404\n",
      "121.79957781060483\n",
      "121.33311744126456\n",
      "119.67120654174335\n",
      "119.64105243360642\n",
      "118.83009890799428\n",
      "117.77741355204722\n",
      "121.05198195078754\n",
      "119.80444083850837\n"
     ]
    },
    {
     "data": {
      "text/plain": [
       "True"
      ]
     },
     "execution_count": 29,
     "metadata": {},
     "output_type": "execute_result"
    }
   ],
   "source": [
    "# Another way, get a list instead of an array\n",
    "iterations = 1000\n",
    "scores = []\n",
    "for iteration in range(iterations):\n",
    "    next(mc)\n",
    "    scores.append(mc.score)\n",
    "for i in range(1, 10):\n",
    "    print(scores[i])\n",
    "type(scores) == type(mc_results)  # same type of results as in the first case"
   ]
  },
  {
   "cell_type": "code",
   "execution_count": null,
   "metadata": {},
   "outputs": [],
   "source": []
  }
 ],
 "metadata": {
  "kernelspec": {
   "display_name": "Python 3",
   "language": "python",
   "name": "python3"
  },
  "language_info": {
   "codemirror_mode": {
    "name": "ipython",
    "version": 3
   },
   "file_extension": ".py",
   "mimetype": "text/x-python",
   "name": "python",
   "nbconvert_exporter": "python",
   "pygments_lexer": "ipython3",
   "version": "3.7.7"
  }
 },
 "nbformat": 4,
 "nbformat_minor": 2
}
