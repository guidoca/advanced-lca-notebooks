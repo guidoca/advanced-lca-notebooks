{
 "cells": [
  {
   "cell_type": "markdown",
   "id": "attractive-territory",
   "metadata": {},
   "source": [
    "# Stochastic contribution analysis for a parameterized foreground system"
   ]
  },
  {
   "cell_type": "markdown",
   "id": "approximate-climb",
   "metadata": {},
   "source": [
    "Pierre Jouannais"
   ]
  },
  {
   "cell_type": "markdown",
   "id": "published-mechanics",
   "metadata": {},
   "source": [
    "If you are studying the uncertain contribution in a foreground system for which you have a model that can simulate the inventory based on different parameters (process simulation etc.)."
   ]
  },
  {
   "cell_type": "code",
   "execution_count": 1,
   "id": "technological-violation",
   "metadata": {},
   "outputs": [],
   "source": [
    "import bw2data\n",
    "import bw2io\n",
    "from bw2data.parameters import *\n",
    "import brightway2 as bw\n",
    "import time\n",
    "import numpy as np\n",
    "import pandas as pd\n"
   ]
  },
  {
   "cell_type": "markdown",
   "id": "minor-change",
   "metadata": {},
   "source": [
    "I have used Salib to create my sample of parameters, but it can be done without.\n",
    "Sensitivity analysis can be done at the same time very easily."
   ]
  },
  {
   "cell_type": "code",
   "execution_count": 137,
   "id": "alike-country",
   "metadata": {},
   "outputs": [],
   "source": [
    "\n",
    "from SALib.sample import saltelli\n",
    "from SALib.sample import fast_sampler\n",
    "from SALib.analyze import sobol\n",
    "from SALib.analyze import fast\n",
    "import SALib"
   ]
  },
  {
   "cell_type": "markdown",
   "id": "thorough-sigma",
   "metadata": {},
   "source": [
    "## Loading databases"
   ]
  },
  {
   "cell_type": "code",
   "execution_count": 9,
   "id": "overall-thought",
   "metadata": {},
   "outputs": [],
   "source": [
    "bw.projects.set_current('Eco38_4') "
   ]
  },
  {
   "cell_type": "code",
   "execution_count": 98,
   "id": "employed-strip",
   "metadata": {},
   "outputs": [],
   "source": [
    "\n",
    "# Loading Ecoinvent\n",
    "Ecoinvent = bw.Database('ecoinvent 3.8 conseq')\n",
    "biosph = bw.Database('biosphere3')\n"
   ]
  },
  {
   "cell_type": "markdown",
   "id": "enormous-integer",
   "metadata": {},
   "source": [
    "Here I am making a dummy foreground product system for the example."
   ]
  },
  {
   "cell_type": "code",
   "execution_count": 138,
   "id": "standing-andrews",
   "metadata": {},
   "outputs": [],
   "source": [
    "act1=Ecoinvent.random()\n",
    "act2=Ecoinvent.random()\n",
    "act3=Ecoinvent.random()"
   ]
  },
  {
   "cell_type": "markdown",
   "id": "ultimate-volleyball",
   "metadata": {},
   "source": [
    "We don't care about the amounts in the initial foreground as we will modify them according to our own model."
   ]
  },
  {
   "cell_type": "code",
   "execution_count": 93,
   "id": "polish-provincial",
   "metadata": {},
   "outputs": [
    {
     "name": "stderr",
     "output_type": "stream",
     "text": [
      "Writing activities to SQLite3 database:\n",
      "0% [####] 100% | ETA: 00:00:00\n",
      "Total time elapsed: 00:00:00\n"
     ]
    },
    {
     "name": "stdout",
     "output_type": "stream",
     "text": [
      "Title: Writing activities to SQLite3 database:\n",
      "  Started: 02/07/2023 16:56:49\n",
      "  Finished: 02/07/2023 16:56:49\n",
      "  Total time elapsed: 00:00:00\n",
      "  CPU %: 0.00\n",
      "  Memory %: 0.66\n"
     ]
    }
   ],
   "source": [
    "db_contrib_Magic = bw.Database('db_contrib_Magic')\n",
    "db_contrib_Magic.write({  \n",
    "    ('db_contrib_Magic', 'magic_prod_for_sa'): {\n",
    "        'name': 'Magic Prod',\n",
    "        'unit': 'Magic Unit',\n",
    "        'exchanges': [{                  \n",
    "            'input': ('db_contrib_Magic', 'First activity'),   \n",
    "            'amount': 0.2, \n",
    "            'type': 'technosphere'},  \n",
    "        { \n",
    "            'input': ('db_contrib_Magic', 'Second activity'), \n",
    "            'amount': 0.2,  \n",
    "            'type': 'technosphere'},    \n",
    " \n",
    "        { \n",
    "            'input':  ('db_contrib_Magic', 'Third activity'), \n",
    "            'amount': -0.0000002, \n",
    "            'type': 'technosphere'},  \n",
    "\n",
    "        {\n",
    "            'input': ('db_contrib_Magic', 'magic_prod_for_sa'),\n",
    "            'amount': 1.0, \n",
    "            'type': 'production'}]\n",
    "    },\n",
    "    ('db_contrib_Magic', 'First activity'): {\n",
    "        'name': 'First activity',\n",
    "        'unit': 'Strange Unit',\n",
    "        'exchanges': [{\n",
    "            'input': act1,  \n",
    "            'amount': 1,\n",
    "            'type': 'technosphere'},  \n",
    "            {'input': ('db_contrib_Magic', 'First activity'),\n",
    "            'amount': 1.0, \n",
    "            'type': 'production'}]},\n",
    "    \n",
    "    ('db_contrib_Magic', 'Second activity'): {\n",
    "        'name': 'Second activity',\n",
    "        'unit': 'Strange Unit',\n",
    "        'exchanges': [{\n",
    "            'input': act2,  \n",
    "            'amount': 1, \n",
    "            'type': 'technosphere'},  \n",
    "   \n",
    "        {\n",
    "            'input': ('db_contrib_Magic', 'Second activity'),\n",
    "            'amount': 1.0,\n",
    "            'type': 'production'}]},\n",
    "    \n",
    "    ('db_contrib_Magic', 'Third activity'): {\n",
    "        'name': 'Third activity',\n",
    "        'unit': 'Strange Unit',\n",
    "        'exchanges': [{\n",
    "            'input': act3, \n",
    "            'amount': 1, \n",
    "            'type': 'technosphere'},  \n",
    "   \n",
    "        {\n",
    "            'input': ('db_contrib_Magic','Third activity'),\n",
    "            'amount': 1.0, \n",
    "            'type': 'production'}]}})"
   ]
  },
  {
   "cell_type": "code",
   "execution_count": 139,
   "id": "hundred-arena",
   "metadata": {},
   "outputs": [
    {
     "name": "stdout",
     "output_type": "stream",
     "text": [
      "'Magic Prod' (Magic Unit, None, None)\n",
      "'Third activity' (Strange Unit, None, None)\n",
      "'First activity' (Strange Unit, None, None)\n",
      "'Second activity' (Strange Unit, None, None)\n"
     ]
    }
   ],
   "source": [
    "for act in db_contrib_Magic:\n",
    "    print(act)"
   ]
  },
  {
   "cell_type": "markdown",
   "id": "valued-teacher",
   "metadata": {},
   "source": [
    " We collect the main activity for which we want to assess the contribution of the different inputs."
   ]
  },
  {
   "cell_type": "code",
   "execution_count": 140,
   "id": "simplified-latest",
   "metadata": {},
   "outputs": [],
   "source": [
    "for act in db_contrib_Magic:\n",
    "    \n",
    "    if act['name'] == 'Magic Prod':\n",
    "        \n",
    "        Mainprod = db_contrib_Magic.get(act['code'])   \n"
   ]
  },
  {
   "cell_type": "markdown",
   "id": "fixed-netscape",
   "metadata": {},
   "source": [
    "We collect the input activities to our main process and save it as a list of functional units for LCA.\n",
    "\n",
    "***Important : You first need to \"Flatten\" your product system. We are assessing the contribution of the activites in THE FIRST LAYER of the product system = the direct inputs to the main activity. There are no emissions associated to the main activity and there are no exchanges between the activities of the first layer.***"
   ]
  },
  {
   "cell_type": "code",
   "execution_count": 143,
   "id": "retired-defendant",
   "metadata": {},
   "outputs": [],
   "source": [
    "list_foreground_technosphere_inputs_FU = []\n",
    "\n",
    "list_foreground_technosphere_inputs_names = []\n",
    "\n",
    "for exc in list(Mainprod.exchanges()):\n",
    "\n",
    "        if exc['type']!='production': # We just want the inputs to the main process\n",
    "            \n",
    "            exchange1 = db_contrib_Magic.get(exc['input'][1])   \n",
    "            \n",
    "            name_exchange = exchange1['name']  \n",
    "            \n",
    "            list_foreground_technosphere_inputs_names.append(name_exchange)\n",
    "        \n",
    "            list_foreground_technosphere_inputs_FU.append({exchange1 : 1})\n",
    "    "
   ]
  },
  {
   "cell_type": "code",
   "execution_count": 145,
   "id": "nominated-summer",
   "metadata": {},
   "outputs": [],
   "source": [
    "# Choose methods\n",
    "\n",
    "methods_selected = ([\n",
    "     ('ReCiPe Midpoint (H) V1.13', 'terrestrial ecotoxicity', 'TETPinf'),\n",
    "     ('ReCiPe Midpoint (H) V1.13', 'climate change', 'GWP100'),\n",
    "     ('ReCiPe Midpoint (H) V1.13', 'freshwater eutrophication', 'FEP'),\n",
    "     ('ReCiPe Midpoint (H) V1.13', 'water depletion', 'WDP')])\n",
    "\n"
   ]
  },
  {
   "cell_type": "markdown",
   "id": "alone-tooth",
   "metadata": {},
   "source": [
    "Calculate impact for each 1 unit of each input and for each method and save it in a dictionnary"
   ]
  },
  {
   "cell_type": "code",
   "execution_count": 147,
   "id": "statistical-supervision",
   "metadata": {},
   "outputs": [],
   "source": [
    "my_calculation_setup = {'inv': list_foreground_technosphere_inputs_FU, 'ia': methods_selected}\n",
    "\n",
    "bw.calculation_setups['technosphere_inputs'] = my_calculation_setup\n",
    "\n",
    "\n",
    "\n",
    "# Calculating the impacts for all chosen methods\n",
    "\n",
    "mlca_techno = bw.MultiLCA('technosphere_inputs')  \n",
    "\n",
    "res = mlca_techno.results\n",
    "\n",
    "dict_mono_technosphere_lcas = { name : results for (name, results) in zip(list_foreground_technosphere_inputs_names,res) }\n",
    "\n",
    "\n",
    "\n",
    "\n"
   ]
  },
  {
   "cell_type": "code",
   "execution_count": 148,
   "id": "focal-topic",
   "metadata": {},
   "outputs": [
    {
     "data": {
      "text/plain": [
       "{'First activity': array([0., 0., 0., 0.]),\n",
       " 'Second activity': array([8.71268255e-06, 6.42452351e-02, 2.49108858e-05, 2.11567743e-04]),\n",
       " 'Third activity': array([6.82400124e-01, 5.07709581e+03, 1.16517033e+00, 5.79338685e+00])}"
      ]
     },
     "execution_count": 148,
     "metadata": {},
     "output_type": "execute_result"
    }
   ],
   "source": [
    "dict_mono_technosphere_lcas"
   ]
  },
  {
   "cell_type": "code",
   "execution_count": 149,
   "id": "unique-probe",
   "metadata": {},
   "outputs": [],
   "source": [
    "\n",
    "# Each flow has the same name as the corresponding activity in the original database\n",
    "\n",
    "names_act = ['First activity','Second activity','Third activity']\n",
    "\n",
    "\n",
    "# Assigning each process to a a broader category for contribution analysis if needed\n",
    "\n",
    "# Names of categories\n",
    "\n",
    "categories_contribution = ['Thermoregulation','Cleaning']\n",
    "\n",
    "\n",
    "# List of processes to assign to categories (same order)\n",
    "\n",
    "processes_in_categories = [['First activity', 'Second activity'],  # First and second acitivites belong to \"Thermoregulation\"\n",
    "                           ['Third activity']] # Third Activity is alone in \"Cleaning\"\n",
    "\n",
    "\n",
    "\n",
    "\n"
   ]
  },
  {
   "cell_type": "markdown",
   "id": "drawn-illustration",
   "metadata": {},
   "source": [
    "There are 2 uncertain parameters in our model and we assume normal distributions for them"
   ]
  },
  {
   "cell_type": "code",
   "execution_count": 152,
   "id": "faced-amazon",
   "metadata": {},
   "outputs": [],
   "source": [
    "names_param = [\"param1\",\"param2\"] \n",
    "bounds = [[5,0.2],[3,0.8]]\n",
    "dists=[\"norm\",\"norm\"]\n",
    "size=30"
   ]
  },
  {
   "cell_type": "markdown",
   "id": "cordless-outdoors",
   "metadata": {},
   "source": [
    "We generate the stochastic sample with Salib but it's not necessary"
   ]
  },
  {
   "cell_type": "code",
   "execution_count": 156,
   "id": "latter-marks",
   "metadata": {},
   "outputs": [],
   "source": [
    "problem = {'num_vars': len(names_param),  # number of variables\n",
    "           'names': names_param,  \n",
    "           'bounds': bounds,\n",
    "           'dists': dists}"
   ]
  },
  {
   "cell_type": "markdown",
   "id": "competent-paris",
   "metadata": {},
   "source": [
    "30 Montecarlo iterations"
   ]
  },
  {
   "cell_type": "code",
   "execution_count": 155,
   "id": "boxed-spirit",
   "metadata": {},
   "outputs": [],
   "source": [
    "sample = SALib.sample.saltelli.sample(problem,\n",
    "                                          size,\n",
    "                                          calc_second_order=False)"
   ]
  },
  {
   "cell_type": "code",
   "execution_count": 109,
   "id": "searching-narrow",
   "metadata": {
    "collapsed": true,
    "jupyter": {
     "outputs_hidden": true
    }
   },
   "outputs": [
    {
     "data": {
      "text/plain": [
       "array([[4.84537659, 1.95943582],\n",
       "       [5.0093053 , 1.95943582],\n",
       "       [4.84537659, 3.36692128],\n",
       "       [5.0093053 , 3.36692128],\n",
       "       [5.11640588, 3.1958097 ],\n",
       "       [4.58308826, 3.1958097 ],\n",
       "       [5.11640588, 2.25776663],\n",
       "       [4.58308826, 2.25776663],\n",
       "       [5.37535801, 2.6845598 ],\n",
       "       [5.14681907, 2.6845598 ],\n",
       "       [5.37535801, 4.16164958],\n",
       "       [5.14681907, 4.16164958],\n",
       "       [4.98480855, 3.81783714],\n",
       "       [4.87656199, 3.81783714],\n",
       "       [4.98480855, 2.8522923 ],\n",
       "       [4.87656199, 2.8522923 ],\n",
       "       [4.92008053, 2.94316142],\n",
       "       [4.78710315, 2.94316142],\n",
       "       [4.92008053, 2.58451878],\n",
       "       [4.78710315, 2.58451878],\n",
       "       [5.20281504, 4.52485908],\n",
       "       [5.07359534, 4.52485908],\n",
       "       [5.20281504, 3.67833334],\n",
       "       [5.07359534, 3.67833334],\n",
       "       [5.04794412, 2.3867738 ],\n",
       "       [4.94598677, 2.3867738 ],\n",
       "       [5.04794412, 1.69756506],\n",
       "       [4.94598677, 1.69756506],\n",
       "       [4.73756027, 3.47027089],\n",
       "       [5.24913125, 3.47027089],\n",
       "       [4.73756027, 3.10408297],\n",
       "       [5.24913125, 3.10408297],\n",
       "       [4.69475443, 2.29894883],\n",
       "       [4.67064993, 2.29894883],\n",
       "       [4.69475443, 2.91563686],\n",
       "       [4.67064993, 2.91563686],\n",
       "       [5.03195791, 3.39765494],\n",
       "       [5.02503358, 3.39765494],\n",
       "       [5.03195791, 4.38241718],\n",
       "       [5.02503358, 4.38241718],\n",
       "       [5.17815612, 2.88009609],\n",
       "       [4.89500753, 2.88009609],\n",
       "       [5.17815612, 2.3493175 ],\n",
       "       [4.89500753, 2.3493175 ],\n",
       "       [4.90279604, 4.24671268],\n",
       "       [5.16818476, 4.24671268],\n",
       "       [4.90279604, 3.43805928],\n",
       "       [5.16818476, 3.43805928],\n",
       "       [4.96903344, 2.6155859 ],\n",
       "       [5.09064392, 2.6155859 ],\n",
       "       [4.96903344, 3.16767539],\n",
       "       [5.09064392, 3.16767539],\n",
       "       [5.30842199, 3.71846742],\n",
       "       [4.81293055, 3.71846742],\n",
       "       [5.30842199, 1.8919036 ],\n",
       "       [4.81293055, 1.8919036 ],\n",
       "       [5.09830735, 1.79142265],\n",
       "       [5.28763062, 1.79142265],\n",
       "       [5.09830735, 3.77289562],\n",
       "       [5.28763062, 3.77289562],\n",
       "       [4.82329516, 3.13180014],\n",
       "       [4.96207663, 3.13180014],\n",
       "       [4.82329516, 2.6547018 ],\n",
       "       [4.96207663, 2.6547018 ],\n",
       "       [4.77087634, 2.75126183],\n",
       "       [5.44708145, 2.75126183],\n",
       "       [4.77087634, 1.36530238],\n",
       "       [5.44708145, 1.36530238],\n",
       "       [5.06424316, 3.93175965],\n",
       "       [4.99363444, 3.93175965],\n",
       "       [5.06424316, 3.0411425 ],\n",
       "       [4.99363444, 3.0411425 ],\n",
       "       [5.23102127, 2.0910142 ],\n",
       "       [5.12701159, 2.0910142 ],\n",
       "       [5.23102127, 2.51097769],\n",
       "       [5.12701159, 2.51097769],\n",
       "       [4.93678699, 3.26110003],\n",
       "       [4.85700011, 3.26110003],\n",
       "       [4.93678699, 3.5924162 ],\n",
       "       [4.85700011, 3.5924162 ],\n",
       "       [4.86571604, 0.7955609 ],\n",
       "       [4.92953896, 0.7955609 ],\n",
       "       [4.86571604, 4.00509043],\n",
       "       [4.92953896, 4.00509043],\n",
       "       [5.13551321, 3.00587496],\n",
       "       [5.21814649, 3.00587496],\n",
       "       [5.13551321, 2.7880064 ],\n",
       "       [5.21814649, 2.7880064 ],\n",
       "       [5.00048958, 2.46776093],\n",
       "       [4.75712752, 2.46776093],\n",
       "       [5.00048958, 3.29857636],\n",
       "       [4.75712752, 3.29857636],\n",
       "       [4.38054618, 3.5469904 ],\n",
       "       [5.05706618, 3.5469904 ],\n",
       "       [4.38054618, 2.15528301],\n",
       "       [5.05706618, 2.15528301],\n",
       "       [4.40499585, 2.74817704],\n",
       "       [4.97373237, 2.74817704],\n",
       "       [4.40499585, 2.97355809],\n",
       "       [4.97373237, 2.97355809],\n",
       "       [5.00073437, 3.92599574],\n",
       "       [5.32469099, 3.92599574],\n",
       "       [5.00073437, 4.7766084 ],\n",
       "       [5.32469099, 4.7766084 ],\n",
       "       [5.13582132, 2.08539013],\n",
       "       [4.83006572, 2.08539013],\n",
       "       [5.13582132, 2.42673538],\n",
       "       [4.83006572, 2.42673538],\n",
       "       [4.86602256, 3.25800383],\n",
       "       [5.10359028, 3.25800383],\n",
       "       [4.86602256, 3.50684901],\n",
       "       [5.10359028, 3.50684901],\n",
       "       [4.93704426, 0.61998342],\n",
       "       [5.18518222, 0.61998342],\n",
       "       [4.93704426, 3.22724509],\n",
       "       [5.18518222, 3.22724509],\n",
       "       [5.23149894, 3.00293746],\n",
       "       [4.90799766, 3.00293746],\n",
       "       [5.23149894, 2.02646013],\n",
       "       [4.90799766, 2.02646013]])"
      ]
     },
     "execution_count": 109,
     "metadata": {},
     "output_type": "execute_result"
    }
   ],
   "source": [
    "sample"
   ]
  },
  {
   "cell_type": "markdown",
   "id": "confirmed-stevens",
   "metadata": {},
   "source": [
    "The foreground inventory (amounts of first, second and third activities) is calculated based on a model of some type (Process simulation, aspen, anything)"
   ]
  },
  {
   "cell_type": "code",
   "execution_count": 157,
   "id": "answering-prayer",
   "metadata": {},
   "outputs": [],
   "source": [
    "def dummy_model_calculate_inputs(param1,param2):\n",
    "    \n",
    "    input1 = param1*2000/(1+param2)  # Just dummy relationships between parameters and amounts of inputs\n",
    "    input2 = param2/param1*2\n",
    "    input3 = input2/input1\n",
    "    \n",
    "    return([input1,input2,input3])"
   ]
  },
  {
   "cell_type": "markdown",
   "id": "extensive-discussion",
   "metadata": {},
   "source": [
    "## Calculate everything"
   ]
  },
  {
   "cell_type": "markdown",
   "id": "criminal-probe",
   "metadata": {},
   "source": [
    "Initialize the lists and tables that will collect the results."
   ]
  },
  {
   "cell_type": "code",
   "execution_count": 124,
   "id": "early-sacrifice",
   "metadata": {},
   "outputs": [],
   "source": [
    "results_table = np.empty((0,\n",
    "                          len(names_param)+len(names_act) + len(methods_selected)),\n",
    "                         dtype=float)\n",
    "\n",
    "\n",
    "# list of tables whih will contain the conribution of each process category to each impact category\n",
    "\n",
    "# There are the same. I will just calculate contributions in two different ways\n",
    "list_tables_contribution = [np.zeros((len(sample),\n",
    "                                      len(categories_contribution)),\n",
    "                                     dtype=float) for i in range(len(methods_selected))]  \n",
    "\n",
    "list_tables_contribution_abs = [np.zeros((len(sample),\n",
    "                                      len(categories_contribution)),\n",
    "                                     dtype=float) for i in range(len(methods_selected))]  "
   ]
  },
  {
   "cell_type": "code",
   "execution_count": 125,
   "id": "supreme-direction",
   "metadata": {},
   "outputs": [],
   "source": [
    "count = -1 # an index to put the results in the right position\n",
    "\n",
    "for rowparam in sample: # We browse the stochastic sample of parameters.\n",
    "    \n",
    "    # rowparam is a set of parameters\n",
    "    count += 1\n",
    "    \n",
    "    LCI_collected = calculate_inputs(rowparam[0],rowparam[1]) # Collect output of the model which calculates the LCI\n",
    "    \n",
    "    LCIdict_collected = {a: i for a,i in zip(names_act,LCI_collected)} # Put it in a dictionnary with the names of the activities as keys\n",
    "\n",
    "    dict_mono_technosphere_impacts = dict_mono_technosphere_lcas.copy() # I just want to keep the structure so I make a copy\n",
    "    \n",
    "    for i in dict_mono_technosphere_lcas: # Impact associated with an input = amount of this input * impact for 1 unit of this input \n",
    "            \n",
    "        dict_mono_technosphere_impacts[i]=[LCIdict_collected[i]*a for a in dict_mono_technosphere_lcas[i]] # Done for all the methods at the same time\n",
    "    \n",
    "    \n",
    "    # Calculating total impact by summing\n",
    "        \n",
    "    list_LCA_res =[]  # Will contain total impact for the main activity, for all the methods \n",
    "\n",
    "    for meth_index in range(len(methods_selected)):\n",
    "\n",
    "        sum_impact = sum([dict_mono_technosphere_impacts[flow][meth_index] for flow in dict_mono_technosphere_impacts ])\n",
    "\n",
    "\n",
    "        list_LCA_res.append(sum_impact)\n",
    "  \n",
    "\n",
    "    # The row I will add to the final result\n",
    "    row_to_add = list(rowparam) + LCI_collected  + list_LCA_res \n",
    "\n",
    "    # Adding this new row\n",
    "\n",
    "    results_table = np.vstack((results_table, row_to_add))  \n",
    "\n",
    "    names_methods_adjusted = [a[-1] for a in methods_selected]\n",
    "\n",
    "    names_for_df = names_param+names_act + names_methods_adjusted\n",
    "\n",
    "    results_table_df = pd.DataFrame(results_table, columns=names_for_df)\n",
    "\n",
    "\n",
    "    # Contribution per process category\n",
    "    for process in dict_mono_technosphere_impacts :\n",
    "\n",
    "        # browsing the categories\n",
    "        for index_content_categ in range(len(processes_in_categories)):\n",
    "\n",
    "\n",
    "            # if this process belongs to category\n",
    "            if process in processes_in_categories[index_content_categ]:\n",
    "\n",
    "                # Then we add this value to the corresponding colum in the  list_tables_contribution\n",
    "                for meth_index in range(len(methods_selected)): #we do this for all methods \n",
    "\n",
    "                    list_tables_contribution[meth_index][count, index_content_categ] = (\n",
    "                        list_tables_contribution[meth_index][count, index_content_categ] \n",
    "                        + dict_mono_technosphere_impacts[process][meth_index])\n"
   ]
  },
  {
   "cell_type": "markdown",
   "id": "iraqi-monitor",
   "metadata": {},
   "source": [
    "results_table_df contains the parameters values, the corresponding amounts of inputs, and the total impact for the activity"
   ]
  },
  {
   "cell_type": "code",
   "execution_count": 126,
   "id": "acute-highlight",
   "metadata": {},
   "outputs": [
    {
     "data": {
      "text/html": [
       "<div>\n",
       "<style scoped>\n",
       "    .dataframe tbody tr th:only-of-type {\n",
       "        vertical-align: middle;\n",
       "    }\n",
       "\n",
       "    .dataframe tbody tr th {\n",
       "        vertical-align: top;\n",
       "    }\n",
       "\n",
       "    .dataframe thead th {\n",
       "        text-align: right;\n",
       "    }\n",
       "</style>\n",
       "<table border=\"1\" class=\"dataframe\">\n",
       "  <thead>\n",
       "    <tr style=\"text-align: right;\">\n",
       "      <th></th>\n",
       "      <th>param1</th>\n",
       "      <th>param2</th>\n",
       "      <th>First activity</th>\n",
       "      <th>Second activity</th>\n",
       "      <th>Third activity</th>\n",
       "      <th>TETPinf</th>\n",
       "      <th>GWP100</th>\n",
       "      <th>FEP</th>\n",
       "      <th>WDP</th>\n",
       "    </tr>\n",
       "  </thead>\n",
       "  <tbody>\n",
       "    <tr>\n",
       "      <th>0</th>\n",
       "      <td>4.845377</td>\n",
       "      <td>1.959436</td>\n",
       "      <td>3274.527229</td>\n",
       "      <td>0.808786</td>\n",
       "      <td>0.000247</td>\n",
       "      <td>0.000176</td>\n",
       "      <td>1.305968</td>\n",
       "      <td>0.000308</td>\n",
       "      <td>0.001602</td>\n",
       "    </tr>\n",
       "    <tr>\n",
       "      <th>1</th>\n",
       "      <td>5.009305</td>\n",
       "      <td>1.959436</td>\n",
       "      <td>3385.310981</td>\n",
       "      <td>0.782318</td>\n",
       "      <td>0.000231</td>\n",
       "      <td>0.000165</td>\n",
       "      <td>1.223537</td>\n",
       "      <td>0.000289</td>\n",
       "      <td>0.001504</td>\n",
       "    </tr>\n",
       "    <tr>\n",
       "      <th>2</th>\n",
       "      <td>4.845377</td>\n",
       "      <td>3.366921</td>\n",
       "      <td>2219.127061</td>\n",
       "      <td>1.389746</td>\n",
       "      <td>0.000626</td>\n",
       "      <td>0.000439</td>\n",
       "      <td>3.268856</td>\n",
       "      <td>0.000764</td>\n",
       "      <td>0.003922</td>\n",
       "    </tr>\n",
       "    <tr>\n",
       "      <th>3</th>\n",
       "      <td>5.009305</td>\n",
       "      <td>3.366921</td>\n",
       "      <td>2294.204532</td>\n",
       "      <td>1.344267</td>\n",
       "      <td>0.000586</td>\n",
       "      <td>0.000412</td>\n",
       "      <td>3.061237</td>\n",
       "      <td>0.000716</td>\n",
       "      <td>0.003679</td>\n",
       "    </tr>\n",
       "    <tr>\n",
       "      <th>4</th>\n",
       "      <td>5.116406</td>\n",
       "      <td>3.195810</td>\n",
       "      <td>2438.816939</td>\n",
       "      <td>1.249240</td>\n",
       "      <td>0.000512</td>\n",
       "      <td>0.000360</td>\n",
       "      <td>2.680909</td>\n",
       "      <td>0.000628</td>\n",
       "      <td>0.003232</td>\n",
       "    </tr>\n",
       "    <tr>\n",
       "      <th>...</th>\n",
       "      <td>...</td>\n",
       "      <td>...</td>\n",
       "      <td>...</td>\n",
       "      <td>...</td>\n",
       "      <td>...</td>\n",
       "      <td>...</td>\n",
       "      <td>...</td>\n",
       "      <td>...</td>\n",
       "      <td>...</td>\n",
       "    </tr>\n",
       "    <tr>\n",
       "      <th>115</th>\n",
       "      <td>5.185182</td>\n",
       "      <td>3.227245</td>\n",
       "      <td>2453.220529</td>\n",
       "      <td>1.244795</td>\n",
       "      <td>0.000507</td>\n",
       "      <td>0.000357</td>\n",
       "      <td>2.656155</td>\n",
       "      <td>0.000622</td>\n",
       "      <td>0.003203</td>\n",
       "    </tr>\n",
       "    <tr>\n",
       "      <th>116</th>\n",
       "      <td>5.231499</td>\n",
       "      <td>3.002937</td>\n",
       "      <td>2613.829961</td>\n",
       "      <td>1.148022</td>\n",
       "      <td>0.000439</td>\n",
       "      <td>0.000310</td>\n",
       "      <td>2.303669</td>\n",
       "      <td>0.000540</td>\n",
       "      <td>0.002787</td>\n",
       "    </tr>\n",
       "    <tr>\n",
       "      <th>117</th>\n",
       "      <td>4.907998</td>\n",
       "      <td>3.002937</td>\n",
       "      <td>2452.198019</td>\n",
       "      <td>1.223691</td>\n",
       "      <td>0.000499</td>\n",
       "      <td>0.000351</td>\n",
       "      <td>2.612180</td>\n",
       "      <td>0.000612</td>\n",
       "      <td>0.003150</td>\n",
       "    </tr>\n",
       "    <tr>\n",
       "      <th>118</th>\n",
       "      <td>5.231499</td>\n",
       "      <td>2.026460</td>\n",
       "      <td>3457.173542</td>\n",
       "      <td>0.774715</td>\n",
       "      <td>0.000224</td>\n",
       "      <td>0.000160</td>\n",
       "      <td>1.187494</td>\n",
       "      <td>0.000280</td>\n",
       "      <td>0.001462</td>\n",
       "    </tr>\n",
       "    <tr>\n",
       "      <th>119</th>\n",
       "      <td>4.907998</td>\n",
       "      <td>2.026460</td>\n",
       "      <td>3243.391589</td>\n",
       "      <td>0.825779</td>\n",
       "      <td>0.000255</td>\n",
       "      <td>0.000181</td>\n",
       "      <td>1.345699</td>\n",
       "      <td>0.000317</td>\n",
       "      <td>0.001650</td>\n",
       "    </tr>\n",
       "  </tbody>\n",
       "</table>\n",
       "<p>120 rows × 9 columns</p>\n",
       "</div>"
      ],
      "text/plain": [
       "       param1    param2  First activity  Second activity  Third activity  \\\n",
       "0    4.845377  1.959436     3274.527229         0.808786        0.000247   \n",
       "1    5.009305  1.959436     3385.310981         0.782318        0.000231   \n",
       "2    4.845377  3.366921     2219.127061         1.389746        0.000626   \n",
       "3    5.009305  3.366921     2294.204532         1.344267        0.000586   \n",
       "4    5.116406  3.195810     2438.816939         1.249240        0.000512   \n",
       "..        ...       ...             ...              ...             ...   \n",
       "115  5.185182  3.227245     2453.220529         1.244795        0.000507   \n",
       "116  5.231499  3.002937     2613.829961         1.148022        0.000439   \n",
       "117  4.907998  3.002937     2452.198019         1.223691        0.000499   \n",
       "118  5.231499  2.026460     3457.173542         0.774715        0.000224   \n",
       "119  4.907998  2.026460     3243.391589         0.825779        0.000255   \n",
       "\n",
       "      TETPinf    GWP100       FEP       WDP  \n",
       "0    0.000176  1.305968  0.000308  0.001602  \n",
       "1    0.000165  1.223537  0.000289  0.001504  \n",
       "2    0.000439  3.268856  0.000764  0.003922  \n",
       "3    0.000412  3.061237  0.000716  0.003679  \n",
       "4    0.000360  2.680909  0.000628  0.003232  \n",
       "..        ...       ...       ...       ...  \n",
       "115  0.000357  2.656155  0.000622  0.003203  \n",
       "116  0.000310  2.303669  0.000540  0.002787  \n",
       "117  0.000351  2.612180  0.000612  0.003150  \n",
       "118  0.000160  1.187494  0.000280  0.001462  \n",
       "119  0.000181  1.345699  0.000317  0.001650  \n",
       "\n",
       "[120 rows x 9 columns]"
      ]
     },
     "execution_count": 126,
     "metadata": {},
     "output_type": "execute_result"
    }
   ],
   "source": [
    "results_table_df"
   ]
  },
  {
   "cell_type": "markdown",
   "id": "based-guidance",
   "metadata": {},
   "source": [
    "Now we calculate the contributions based "
   ]
  },
  {
   "cell_type": "code",
   "execution_count": 159,
   "id": "secure-closure",
   "metadata": {},
   "outputs": [],
   "source": [
    "\n",
    "#Calulating contribution sum\n",
    "for index_method in range(len(methods_selected)):\n",
    "\n",
    "    for index_row in range(len(sample)):\n",
    "\n",
    "        sumrow = np.sum(list_tables_contribution[index_method][index_row])\n",
    "\n",
    "        sumrow_abs = sum([abs(a) for a in list_tables_contribution[index_method][index_row,:]]) # Here I calculate the contribution based on the absolute values because I think it makes more sense when you can have postitive and negative numbers \n",
    "\n",
    "        for index_col in range(len(categories_contribution)):\n",
    "\n",
    "            list_tables_contribution_abs[index_method][index_row][index_col] =(\n",
    "                list_tables_contribution[index_method][index_row][index_col]\n",
    "                *100/sumrow_abs)\n",
    "\n",
    "            list_tables_contribution[index_method][index_row][index_col] =(\n",
    "                list_tables_contribution[index_method][index_row][index_col]\n",
    "                *100/sumrow)\n",
    "\n",
    "\n",
    "\n",
    "#  Conversion to Dataframes\n",
    "list_tables_contribution_df = [pd.DataFrame(\n",
    "    table, columns=categories_contribution) for table in list_tables_contribution]\n",
    "\n",
    "list_tables_contribution_abs_df=[pd.DataFrame(\n",
    "    table, columns=categories_contribution) for table in list_tables_contribution_abs]\n",
    "\n"
   ]
  },
  {
   "cell_type": "code",
   "execution_count": 2,
   "id": "understood-hebrew",
   "metadata": {},
   "outputs": [
    {
     "ename": "NameError",
     "evalue": "name 'list_tables_contribution_abs_df' is not defined",
     "output_type": "error",
     "traceback": [
      "\u001b[1;31m---------------------------------------------------------------------------\u001b[0m",
      "\u001b[1;31mNameError\u001b[0m                                 Traceback (most recent call last)",
      "\u001b[1;32m<ipython-input-2-ef4d1bc95f64>\u001b[0m in \u001b[0;36m<module>\u001b[1;34m\u001b[0m\n\u001b[1;32m----> 1\u001b[1;33m \u001b[0mlist_tables_contribution_abs_df\u001b[0m \u001b[1;31m# A list of tables of contributions for all MC iterations. 1 table per impact category.\u001b[0m\u001b[1;33m\u001b[0m\u001b[1;33m\u001b[0m\u001b[0m\n\u001b[0m",
      "\u001b[1;31mNameError\u001b[0m: name 'list_tables_contribution_abs_df' is not defined"
     ]
    }
   ],
   "source": [
    "list_tables_contribution_abs_df # A list of tables of contributions for all MC iterations. 1 table per impact category."
   ]
  },
  {
   "cell_type": "code",
   "execution_count": 131,
   "id": "sticky-appendix",
   "metadata": {},
   "outputs": [
    {
     "data": {
      "text/html": [
       "<div>\n",
       "<style scoped>\n",
       "    .dataframe tbody tr th:only-of-type {\n",
       "        vertical-align: middle;\n",
       "    }\n",
       "\n",
       "    .dataframe tbody tr th {\n",
       "        vertical-align: top;\n",
       "    }\n",
       "\n",
       "    .dataframe thead th {\n",
       "        text-align: right;\n",
       "    }\n",
       "</style>\n",
       "<table border=\"1\" class=\"dataframe\">\n",
       "  <thead>\n",
       "    <tr style=\"text-align: right;\">\n",
       "      <th></th>\n",
       "      <th>Thermoregulation</th>\n",
       "      <th>Cleaning</th>\n",
       "    </tr>\n",
       "  </thead>\n",
       "  <tbody>\n",
       "    <tr>\n",
       "      <th>0</th>\n",
       "      <td>4.013041</td>\n",
       "      <td>95.986959</td>\n",
       "    </tr>\n",
       "    <tr>\n",
       "      <th>1</th>\n",
       "      <td>4.143185</td>\n",
       "      <td>95.856815</td>\n",
       "    </tr>\n",
       "    <tr>\n",
       "      <th>2</th>\n",
       "      <td>2.755251</td>\n",
       "      <td>97.244749</td>\n",
       "    </tr>\n",
       "    <tr>\n",
       "      <th>3</th>\n",
       "      <td>2.845814</td>\n",
       "      <td>97.154186</td>\n",
       "    </tr>\n",
       "    <tr>\n",
       "      <th>4</th>\n",
       "      <td>3.019779</td>\n",
       "      <td>96.980221</td>\n",
       "    </tr>\n",
       "    <tr>\n",
       "      <th>...</th>\n",
       "      <td>...</td>\n",
       "      <td>...</td>\n",
       "    </tr>\n",
       "    <tr>\n",
       "      <th>115</th>\n",
       "      <td>3.037072</td>\n",
       "      <td>96.962928</td>\n",
       "    </tr>\n",
       "    <tr>\n",
       "      <th>116</th>\n",
       "      <td>3.229484</td>\n",
       "      <td>96.770516</td>\n",
       "    </tr>\n",
       "    <tr>\n",
       "      <th>117</th>\n",
       "      <td>3.035845</td>\n",
       "      <td>96.964155</td>\n",
       "    </tr>\n",
       "    <tr>\n",
       "      <th>118</th>\n",
       "      <td>4.227418</td>\n",
       "      <td>95.772582</td>\n",
       "    </tr>\n",
       "    <tr>\n",
       "      <th>119</th>\n",
       "      <td>3.976401</td>\n",
       "      <td>96.023599</td>\n",
       "    </tr>\n",
       "  </tbody>\n",
       "</table>\n",
       "<p>120 rows × 2 columns</p>\n",
       "</div>"
      ],
      "text/plain": [
       "     Thermoregulation   Cleaning\n",
       "0            4.013041  95.986959\n",
       "1            4.143185  95.856815\n",
       "2            2.755251  97.244749\n",
       "3            2.845814  97.154186\n",
       "4            3.019779  96.980221\n",
       "..                ...        ...\n",
       "115          3.037072  96.962928\n",
       "116          3.229484  96.770516\n",
       "117          3.035845  96.964155\n",
       "118          4.227418  95.772582\n",
       "119          3.976401  96.023599\n",
       "\n",
       "[120 rows x 2 columns]"
      ]
     },
     "execution_count": 131,
     "metadata": {},
     "output_type": "execute_result"
    }
   ],
   "source": [
    "list_tables_contribution_abs_df[0]"
   ]
  },
  {
   "cell_type": "code",
   "execution_count": 1,
   "id": "concerned-validation",
   "metadata": {},
   "outputs": [
    {
     "ename": "NameError",
     "evalue": "name 'list_tables_contribution_abs_df' is not defined",
     "output_type": "error",
     "traceback": [
      "\u001b[1;31m---------------------------------------------------------------------------\u001b[0m",
      "\u001b[1;31mNameError\u001b[0m                                 Traceback (most recent call last)",
      "\u001b[1;32m<ipython-input-1-c47c9256af60>\u001b[0m in \u001b[0;36m<module>\u001b[1;34m\u001b[0m\n\u001b[1;32m----> 1\u001b[1;33m \u001b[0mlist_tables_contribution_abs_df\u001b[0m\u001b[1;33m[\u001b[0m\u001b[1;36m3\u001b[0m\u001b[1;33m]\u001b[0m\u001b[1;33m.\u001b[0m\u001b[0mplot\u001b[0m\u001b[1;33m.\u001b[0m\u001b[0mkde\u001b[0m\u001b[1;33m(\u001b[0m\u001b[1;33m)\u001b[0m  \u001b[1;31m# in % Feel free to plot something better than this.\u001b[0m\u001b[1;33m\u001b[0m\u001b[1;33m\u001b[0m\u001b[0m\n\u001b[0m",
      "\u001b[1;31mNameError\u001b[0m: name 'list_tables_contribution_abs_df' is not defined"
     ]
    }
   ],
   "source": [
    "list_tables_contribution_abs_df[3].plot.kde()  # The fourth impact category. Feel free to plot something better than this."
   ]
  },
  {
   "cell_type": "code",
   "execution_count": null,
   "id": "alpine-organic",
   "metadata": {},
   "outputs": [],
   "source": []
  }
 ],
 "metadata": {
  "kernelspec": {
   "display_name": "Python 3",
   "language": "python",
   "name": "python3"
  },
  "language_info": {
   "codemirror_mode": {
    "name": "ipython",
    "version": 3
   },
   "file_extension": ".py",
   "mimetype": "text/x-python",
   "name": "python",
   "nbconvert_exporter": "python",
   "pygments_lexer": "ipython3",
   "version": "3.8.6"
  }
 },
 "nbformat": 4,
 "nbformat_minor": 5
}
