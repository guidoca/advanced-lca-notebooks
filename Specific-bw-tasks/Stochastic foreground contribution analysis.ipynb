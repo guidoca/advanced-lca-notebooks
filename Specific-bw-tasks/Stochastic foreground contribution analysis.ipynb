{
 "cells": [
  {
   "cell_type": "markdown",
   "id": "attractive-territory",
   "metadata": {},
   "source": [
    "# Stochastic contribution analysis for a parameterized foreground system"
   ]
  },
  {
   "cell_type": "markdown",
   "id": "approximate-climb",
   "metadata": {},
   "source": [
    "Pierre Jouannais"
   ]
  },
  {
   "cell_type": "markdown",
   "id": "published-mechanics",
   "metadata": {},
   "source": [
    "If you are studying the uncertain contribution in a foreground system for which you have a model that can simulate the inventory based on different parameters (process simulation etc.)."
   ]
  },
  {
   "cell_type": "code",
   "execution_count": 7,
   "id": "technological-violation",
   "metadata": {},
   "outputs": [],
   "source": [
    "import bw2data\n",
    "import bw2io\n",
    "from bw2data.parameters import *\n",
    "import brightway2 as bw\n",
    "import time\n",
    "import numpy as np\n",
    "import pandas as pd"
   ]
  },
  {
   "cell_type": "markdown",
   "id": "minor-change",
   "metadata": {},
   "source": [
    "I have used Salib to create my sample of parameters, but it can be done without.\n",
    "Sensitivity analysis can be done at the same time very easily."
   ]
  },
  {
   "cell_type": "code",
   "execution_count": 2,
   "id": "alike-country",
   "metadata": {},
   "outputs": [],
   "source": [
    "\n",
    "from SALib.sample import saltelli\n",
    "from SALib.sample import fast_sampler\n",
    "from SALib.analyze import sobol\n",
    "from SALib.analyze import fast\n",
    "import SALib"
   ]
  },
  {
   "cell_type": "markdown",
   "id": "thorough-sigma",
   "metadata": {},
   "source": [
    "## Loading databases"
   ]
  },
  {
   "cell_type": "code",
   "execution_count": 38,
   "id": "overall-thought",
   "metadata": {},
   "outputs": [],
   "source": [
    "bw.projects.set_current('chem_paper') "
   ]
  },
  {
   "cell_type": "code",
   "execution_count": 39,
   "id": "employed-strip",
   "metadata": {},
   "outputs": [],
   "source": [
    "\n",
    "# Loading Ecoinvent\n",
    "Ecoinvent = bw.Database('ecoinvent 3.7 conseq')\n",
    "biosph = bw.Database('biosphere3')\n"
   ]
  },
  {
   "cell_type": "markdown",
   "id": "enormous-integer",
   "metadata": {},
   "source": [
    "Here I am making a dummy foreground product system for the example."
   ]
  },
  {
   "cell_type": "code",
   "execution_count": 40,
   "id": "standing-andrews",
   "metadata": {},
   "outputs": [],
   "source": [
    "act1=Ecoinvent.random()\n",
    "act2=Ecoinvent.random()\n",
    "act3=Ecoinvent.random()"
   ]
  },
  {
   "cell_type": "markdown",
   "id": "ultimate-volleyball",
   "metadata": {},
   "source": [
    "We don't care about the amounts in the initial foreground as we will modify them according to our own model."
   ]
  },
  {
   "cell_type": "code",
   "execution_count": 41,
   "id": "polish-provincial",
   "metadata": {},
   "outputs": [
    {
     "name": "stderr",
     "output_type": "stream",
     "text": [
      "Writing activities to SQLite3 database:\n",
      "0% [####] 100% | ETA: 00:00:00\n",
      "Total time elapsed: 00:00:00\n"
     ]
    },
    {
     "name": "stdout",
     "output_type": "stream",
     "text": [
      "Title: Writing activities to SQLite3 database:\n",
      "  Started: 02/10/2023 10:06:48\n",
      "  Finished: 02/10/2023 10:06:48\n",
      "  Total time elapsed: 00:00:00\n",
      "  CPU %: 208.30\n",
      "  Memory %: 1.94\n"
     ]
    }
   ],
   "source": [
    "db_contrib_Magic = bw.Database('db_contrib_Magic')\n",
    "db_contrib_Magic.write({  \n",
    "    ('db_contrib_Magic', 'magic_prod_for_sa'): {\n",
    "        'name': 'Magic Prod',\n",
    "        'unit': 'Magic Unit',\n",
    "        'exchanges': [{                  \n",
    "            'input': ('db_contrib_Magic', 'First activity'),   \n",
    "            'amount': 0.2, \n",
    "            'type': 'technosphere'},  \n",
    "        { \n",
    "            'input': ('db_contrib_Magic', 'Second activity'), \n",
    "            'amount': 0.2,  \n",
    "            'type': 'technosphere'},    \n",
    " \n",
    "        { \n",
    "            'input':  ('db_contrib_Magic', 'Third activity'), \n",
    "            'amount': -0.0000002, \n",
    "            'type': 'technosphere'},  \n",
    "\n",
    "        {\n",
    "            'input': ('db_contrib_Magic', 'magic_prod_for_sa'),\n",
    "            'amount': 1.0, \n",
    "            'type': 'production'}]\n",
    "    },\n",
    "    ('db_contrib_Magic', 'First activity'): {\n",
    "        'name': 'First activity',\n",
    "        'unit': 'Strange Unit',\n",
    "        'exchanges': [{\n",
    "            'input': act1,  \n",
    "            'amount': 1,\n",
    "            'type': 'technosphere'},  \n",
    "            {'input': ('db_contrib_Magic', 'First activity'),\n",
    "            'amount': 1.0, \n",
    "            'type': 'production'}]},\n",
    "    \n",
    "    ('db_contrib_Magic', 'Second activity'): {\n",
    "        'name': 'Second activity',\n",
    "        'unit': 'Strange Unit',\n",
    "        'exchanges': [{\n",
    "            'input': act2,  \n",
    "            'amount': 1, \n",
    "            'type': 'technosphere'},  \n",
    "   \n",
    "        {\n",
    "            'input': ('db_contrib_Magic', 'Second activity'),\n",
    "            'amount': 1.0,\n",
    "            'type': 'production'}]},\n",
    "    \n",
    "    ('db_contrib_Magic', 'Third activity'): {\n",
    "        'name': 'Third activity',\n",
    "        'unit': 'Strange Unit',\n",
    "        'exchanges': [{\n",
    "            'input': act3, \n",
    "            'amount': 1, \n",
    "            'type': 'technosphere'},  \n",
    "   \n",
    "        {\n",
    "            'input': ('db_contrib_Magic','Third activity'),\n",
    "            'amount': 1.0, \n",
    "            'type': 'production'}]}})"
   ]
  },
  {
   "cell_type": "code",
   "execution_count": 42,
   "id": "hundred-arena",
   "metadata": {},
   "outputs": [
    {
     "name": "stdout",
     "output_type": "stream",
     "text": [
      "'First activity' (Strange Unit, None, None)\n",
      "'Third activity' (Strange Unit, None, None)\n",
      "'Second activity' (Strange Unit, None, None)\n",
      "'Magic Prod' (Magic Unit, None, None)\n"
     ]
    }
   ],
   "source": [
    "for act in db_contrib_Magic:\n",
    "    print(act)"
   ]
  },
  {
   "cell_type": "markdown",
   "id": "valued-teacher",
   "metadata": {},
   "source": [
    " We collect the main activity for which we want to assess the contribution of the different inputs."
   ]
  },
  {
   "cell_type": "code",
   "execution_count": 43,
   "id": "simplified-latest",
   "metadata": {},
   "outputs": [],
   "source": [
    "for act in db_contrib_Magic:\n",
    "    \n",
    "    if act['name'] == 'Magic Prod':\n",
    "        \n",
    "        Mainprod = db_contrib_Magic.get(act['code'])   \n"
   ]
  },
  {
   "cell_type": "markdown",
   "id": "fixed-netscape",
   "metadata": {},
   "source": [
    "We collect the input activities to our main process and save it as a list of functional units for LCA.\n",
    "\n",
    "***Important : You first need to \"Flatten\" your product system. We are assessing the contribution of the activites in THE FIRST LAYER of the product system = the direct inputs to the main activity. There are no emissions associated to the main activity and there are no exchanges between the activities of the first layer.***"
   ]
  },
  {
   "cell_type": "code",
   "execution_count": 44,
   "id": "retired-defendant",
   "metadata": {},
   "outputs": [],
   "source": [
    "list_foreground_technosphere_inputs_FU = []\n",
    "\n",
    "list_foreground_technosphere_inputs_names = []\n",
    "\n",
    "for exc in list(Mainprod.exchanges()):\n",
    "\n",
    "        if exc['type']!='production': # We just want the inputs to the main process\n",
    "            \n",
    "            exchange1 = db_contrib_Magic.get(exc['input'][1])   \n",
    "            \n",
    "            name_exchange = exchange1['name']  \n",
    "            \n",
    "            list_foreground_technosphere_inputs_names.append(name_exchange)\n",
    "        \n",
    "            list_foreground_technosphere_inputs_FU.append({exchange1 : 1})\n",
    "    "
   ]
  },
  {
   "cell_type": "code",
   "execution_count": 45,
   "id": "nominated-summer",
   "metadata": {},
   "outputs": [],
   "source": [
    "# Choose methods\n",
    "\n",
    "methods_selected = ([\n",
    "     ('ReCiPe Midpoint (H) V1.13', 'terrestrial ecotoxicity', 'TETPinf'),\n",
    "     ('ReCiPe Midpoint (H) V1.13', 'climate change', 'GWP100'),\n",
    "     ('ReCiPe Midpoint (H) V1.13', 'freshwater eutrophication', 'FEP'),\n",
    "     ('ReCiPe Midpoint (H) V1.13', 'water depletion', 'WDP')])\n",
    "\n"
   ]
  },
  {
   "cell_type": "markdown",
   "id": "alone-tooth",
   "metadata": {},
   "source": [
    "Calculate impact for each 1 unit of each input and for each method and save it in a dictionnary"
   ]
  },
  {
   "cell_type": "code",
   "execution_count": 46,
   "id": "statistical-supervision",
   "metadata": {},
   "outputs": [],
   "source": [
    "my_calculation_setup = {'inv': list_foreground_technosphere_inputs_FU, 'ia': methods_selected}\n",
    "\n",
    "bw.calculation_setups['technosphere_inputs'] = my_calculation_setup\n",
    "\n",
    "\n",
    "\n",
    "# Calculating the impacts for all chosen methods\n",
    "\n",
    "mlca_techno = bw.MultiLCA('technosphere_inputs')  \n",
    "\n",
    "res = mlca_techno.results\n",
    "\n",
    "dict_mono_technosphere_lcas = { name : results for (name, results) in zip(list_foreground_technosphere_inputs_names,res) }\n",
    "\n",
    "\n",
    "\n",
    "\n"
   ]
  },
  {
   "cell_type": "code",
   "execution_count": 47,
   "id": "focal-topic",
   "metadata": {},
   "outputs": [
    {
     "data": {
      "text/plain": [
       "{'First activity': array([8.53916559e-09, 1.76783142e-04, 1.49268103e-07, 1.81058516e-06]),\n",
       " 'Second activity': array([1.38193732e-01, 1.36160103e+03, 6.75945070e-01, 7.74055306e+00]),\n",
       " 'Third activity': array([1.52917978e-02, 7.49274521e-01, 2.72630380e-04, 5.07151895e-02])}"
      ]
     },
     "execution_count": 47,
     "metadata": {},
     "output_type": "execute_result"
    }
   ],
   "source": [
    "dict_mono_technosphere_lcas"
   ]
  },
  {
   "cell_type": "code",
   "execution_count": 48,
   "id": "unique-probe",
   "metadata": {},
   "outputs": [],
   "source": [
    "\n",
    "# Each flow has the same name as the corresponding activity in the original database\n",
    "\n",
    "names_act = ['First activity','Second activity','Third activity']\n",
    "\n",
    "\n",
    "# Assigning each process to a a broader category for contribution analysis if needed\n",
    "\n",
    "# Names of categories\n",
    "\n",
    "categories_contribution = ['Thermoregulation','Cleaning']\n",
    "\n",
    "\n",
    "# List of processes to assign to categories (same order)\n",
    "\n",
    "processes_in_categories = [['First activity', 'Second activity'],  # First and second acitivites belong to \"Thermoregulation\"\n",
    "                           ['Third activity']] # Third Activity is alone in \"Cleaning\"\n",
    "\n",
    "\n",
    "\n",
    "\n"
   ]
  },
  {
   "cell_type": "markdown",
   "id": "drawn-illustration",
   "metadata": {},
   "source": [
    "There are 2 uncertain parameters in our model and we assume normal distributions for them"
   ]
  },
  {
   "cell_type": "code",
   "execution_count": 49,
   "id": "faced-amazon",
   "metadata": {},
   "outputs": [],
   "source": [
    "names_param = [\"param1\",\"param2\"] \n",
    "bounds = [[5,0.2],[3,0.8]]\n",
    "dists=[\"norm\",\"norm\"]\n",
    "size=30"
   ]
  },
  {
   "cell_type": "markdown",
   "id": "cordless-outdoors",
   "metadata": {},
   "source": [
    "We generate the stochastic sample with Salib but it's not necessary"
   ]
  },
  {
   "cell_type": "code",
   "execution_count": 50,
   "id": "latter-marks",
   "metadata": {},
   "outputs": [],
   "source": [
    "problem = {'num_vars': len(names_param),  # number of variables\n",
    "           'names': names_param,  \n",
    "           'bounds': bounds,\n",
    "           'dists': dists}"
   ]
  },
  {
   "cell_type": "markdown",
   "id": "competent-paris",
   "metadata": {},
   "source": [
    "30 Montecarlo iterations"
   ]
  },
  {
   "cell_type": "code",
   "execution_count": 51,
   "id": "boxed-spirit",
   "metadata": {},
   "outputs": [
    {
     "name": "stderr",
     "output_type": "stream",
     "text": [
      "C:\\Users\\YJ50DK\\Miniconda3\\envs\\bw2\\lib\\site-packages\\SALib\\sample\\saltelli.py:94: UserWarning: \n",
      "        Convergence properties of the Sobol' sequence is only valid if\n",
      "        `N` (30) is equal to `2^n`.\n",
      "        \n",
      "  warnings.warn(msg)\n"
     ]
    }
   ],
   "source": [
    "sample = SALib.sample.saltelli.sample(problem,\n",
    "                                          size,\n",
    "                                          calc_second_order=False)"
   ]
  },
  {
   "cell_type": "code",
   "execution_count": 52,
   "id": "searching-narrow",
   "metadata": {
    "jupyter": {
     "outputs_hidden": true
    }
   },
   "outputs": [
    {
     "data": {
      "text/plain": [
       "array([[4.66481206, 2.49912079],\n",
       "       [5.10668194, 2.49912079],\n",
       "       [4.66481206, 3.0942159 ],\n",
       "       [5.10668194, 3.0942159 ],\n",
       "       [5.02355397, 3.57961151],\n",
       "       [4.83389782, 3.57961151],\n",
       "       [5.02355397, 1.65924822],\n",
       "       [4.83389782, 1.65924822],\n",
       "       [5.16610218, 1.27690024],\n",
       "       [5.33518794, 1.27690024],\n",
       "       [5.16610218, 3.6644087 ],\n",
       "       [5.33518794, 3.6644087 ],\n",
       "       [4.89331806, 3.03134087],\n",
       "       [4.97644603, 3.03134087],\n",
       "       [4.89331806, 2.57327224],\n",
       "       [4.97644603, 2.57327224],\n",
       "       [4.96058018, 2.13798755],\n",
       "       [4.71644057, 2.13798755],\n",
       "       [4.96058018, 2.84232073],\n",
       "       [4.71644057, 2.84232073],\n",
       "       [5.28355943, 3.28810391],\n",
       "       [5.03941982, 3.28810391],\n",
       "       [5.28355943, 4.13423771],\n",
       "       [5.03941982, 4.13423771],\n",
       "       [5.0890193 , 2.77784765],\n",
       "       [4.9109807 , 2.77784765],\n",
       "       [5.0890193 , 2.24257459],\n",
       "       [4.9109807 , 2.24257459],\n",
       "       [4.81064365, 3.98388701],\n",
       "       [5.18935635, 3.98388701],\n",
       "       [4.81064365, 3.35607722],\n",
       "       [5.18935635, 3.35607722],\n",
       "       [4.85509712, 1.86576229],\n",
       "       [4.8747802 , 1.86576229],\n",
       "       [4.85509712, 4.72309976],\n",
       "       [4.8747802 , 4.72309976],\n",
       "       [5.1252198 , 3.15767927],\n",
       "       [5.14490288, 3.15767927],\n",
       "       [5.1252198 , 2.96865913],\n",
       "       [5.14490288, 2.96865913],\n",
       "       [5.43077494, 2.64392278],\n",
       "       [4.56922506, 2.64392278],\n",
       "       [5.43077494, 3.50087921],\n",
       "       [4.56922506, 3.50087921],\n",
       "       [4.99216478, 3.75742541],\n",
       "       [5.00783522, 3.75742541],\n",
       "       [4.99216478, 2.42038849],\n",
       "       [5.00783522, 2.42038849],\n",
       "       [4.92797402, 2.9057841 ],\n",
       "       [5.24597175, 2.9057841 ],\n",
       "       [4.92797402, 2.01611299],\n",
       "       [5.24597175, 2.01611299],\n",
       "       [5.21550311, 4.34075178],\n",
       "       [4.94446191, 4.34075178],\n",
       "       [5.21550311, 3.22215235],\n",
       "       [4.94446191, 3.22215235],\n",
       "       [5.05553809, 2.3355913 ],\n",
       "       [5.07202598, 2.3355913 ],\n",
       "       [5.05553809, 2.71189609],\n",
       "       [5.07202598, 2.71189609],\n",
       "       [4.75402825, 3.42672776],\n",
       "       [4.78449689, 3.42672776],\n",
       "       [4.75402825, 3.86201245],\n",
       "       [4.78449689, 3.86201245],\n",
       "       [4.71644057, 2.42038849],\n",
       "       [5.16610218, 2.42038849],\n",
       "       [4.71644057, 2.13798755],\n",
       "       [5.16610218, 2.13798755],\n",
       "       [5.03941982, 3.50087921],\n",
       "       [4.89331806, 3.50087921],\n",
       "       [5.03941982, 3.28810391],\n",
       "       [4.89331806, 3.28810391],\n",
       "       [5.18935635, 2.96865913],\n",
       "       [5.02355397, 2.96865913],\n",
       "       [5.18935635, 2.77784765],\n",
       "       [5.02355397, 2.77784765],\n",
       "       [4.9109807 , 4.72309976],\n",
       "       [4.66481206, 4.72309976],\n",
       "       [4.9109807 , 3.98388701],\n",
       "       [4.66481206, 3.98388701],\n",
       "       [4.97644603, 2.71189609],\n",
       "       [4.96058018, 2.71189609],\n",
       "       [4.97644603, 3.57961151],\n",
       "       [4.96058018, 3.57961151],\n",
       "       [5.33518794, 3.86201245],\n",
       "       [5.28355943, 3.86201245],\n",
       "       [5.33518794, 2.49912079],\n",
       "       [5.28355943, 2.49912079],\n",
       "       [5.10668194, 2.01611299],\n",
       "       [4.81064365, 2.01611299],\n",
       "       [5.10668194, 3.03134087],\n",
       "       [4.81064365, 3.03134087],\n",
       "       [4.83389782, 3.22215235],\n",
       "       [5.0890193 , 3.22215235],\n",
       "       [4.83389782, 1.27690024],\n",
       "       [5.0890193 , 1.27690024],\n",
       "       [4.78449689, 2.84232073],\n",
       "       [4.85509712, 2.84232073],\n",
       "       [4.78449689, 2.64392278],\n",
       "       [4.85509712, 2.64392278],\n",
       "       [5.07202598, 4.13423771],\n",
       "       [5.1252198 , 4.13423771],\n",
       "       [5.07202598, 3.75742541],\n",
       "       [5.1252198 , 3.75742541],\n",
       "       [5.24597175, 2.24257459],\n",
       "       [4.99216478, 2.24257459],\n",
       "       [5.24597175, 1.86576229],\n",
       "       [4.99216478, 1.86576229],\n",
       "       [4.94446191, 3.35607722],\n",
       "       [5.43077494, 3.35607722],\n",
       "       [4.94446191, 3.15767927],\n",
       "       [5.43077494, 3.15767927],\n",
       "       [4.8747802 , 1.65924822],\n",
       "       [5.05553809, 1.65924822],\n",
       "       [4.8747802 , 3.42672776],\n",
       "       [5.05553809, 3.42672776],\n",
       "       [5.14490288, 3.0942159 ],\n",
       "       [4.75402825, 3.0942159 ],\n",
       "       [5.14490288, 2.3355913 ],\n",
       "       [4.75402825, 2.3355913 ]])"
      ]
     },
     "execution_count": 52,
     "metadata": {},
     "output_type": "execute_result"
    }
   ],
   "source": [
    "sample"
   ]
  },
  {
   "cell_type": "markdown",
   "id": "confirmed-stevens",
   "metadata": {},
   "source": [
    "The foreground inventory (amounts of first, second and third activities) is calculated based on a model of some type (Process simulation, aspen, anything)\n",
    "\n",
    "\n",
    "The function calculate_inputs stands as a dummy model to simulate an LCI"
   ]
  },
  {
   "cell_type": "code",
   "execution_count": 69,
   "id": "answering-prayer",
   "metadata": {},
   "outputs": [],
   "source": [
    "def calculate_inputs(param1,param2): \n",
    "    \n",
    "    input1 = param1*2000/(1+param2)  # Just dummy relationships between parameters and amounts of inputs\n",
    "    input2 = param2/param1*2\n",
    "    input3 = 3000*input2/input1\n",
    "    \n",
    "    return([input1,input2,input3])"
   ]
  },
  {
   "cell_type": "markdown",
   "id": "extensive-discussion",
   "metadata": {},
   "source": [
    "## Calculate everything"
   ]
  },
  {
   "cell_type": "markdown",
   "id": "criminal-probe",
   "metadata": {},
   "source": [
    "Initialize the lists and tables that will collect the results."
   ]
  },
  {
   "cell_type": "code",
   "execution_count": 70,
   "id": "early-sacrifice",
   "metadata": {},
   "outputs": [],
   "source": [
    "results_table = np.empty((0,\n",
    "                          len(names_param)+len(names_act) + len(methods_selected)),\n",
    "                         dtype=float)\n",
    "\n",
    "\n",
    "# list of tables whih will contain the conribution of each process category to each impact category\n",
    "\n",
    "# There are the same. I will just calculate contributions in two different ways\n",
    "list_tables_contribution = [np.zeros((len(sample),\n",
    "                                      len(categories_contribution)),\n",
    "                                     dtype=float) for i in range(len(methods_selected))]  \n",
    "\n",
    "list_tables_contribution_abs = [np.zeros((len(sample),\n",
    "                                      len(categories_contribution)),\n",
    "                                     dtype=float) for i in range(len(methods_selected))]  "
   ]
  },
  {
   "cell_type": "code",
   "execution_count": 71,
   "id": "supreme-direction",
   "metadata": {},
   "outputs": [],
   "source": [
    "count = -1 # an index to put the results in the right position\n",
    "\n",
    "for rowparam in sample: # We browse the stochastic sample of parameters.\n",
    "    \n",
    "    # rowparam is a set of parameters\n",
    "    count += 1\n",
    "    \n",
    "    LCI_collected = calculate_inputs(rowparam[0],rowparam[1]) # Collect output of the model which calculates the LCI\n",
    "    \n",
    "    LCIdict_collected = {a: i for a,i in zip(names_act,LCI_collected)} # Put it in a dictionnary with the names of the activities as keys\n",
    "\n",
    "    dict_mono_technosphere_impacts = dict_mono_technosphere_lcas.copy() # I just want to keep the structure so I make a copy\n",
    "    \n",
    "    for i in dict_mono_technosphere_lcas: # Impact associated with an input = amount of this input * impact for 1 unit of this input \n",
    "            \n",
    "        dict_mono_technosphere_impacts[i]=[LCIdict_collected[i]*a for a in dict_mono_technosphere_lcas[i]] # Done for all the methods at the same time\n",
    "    \n",
    "    \n",
    "    # Calculating total impact by summing\n",
    "        \n",
    "    list_LCA_res =[]  # Will contain total impact for the main activity, for all the methods \n",
    "\n",
    "    for meth_index in range(len(methods_selected)):\n",
    "\n",
    "        sum_impact = sum([dict_mono_technosphere_impacts[flow][meth_index] for flow in dict_mono_technosphere_impacts ])\n",
    "\n",
    "\n",
    "        list_LCA_res.append(sum_impact)\n",
    "  \n",
    "\n",
    "    # The row I will add to the final result\n",
    "    row_to_add = list(rowparam) + LCI_collected  + list_LCA_res \n",
    "\n",
    "    # Adding this new row\n",
    "\n",
    "    results_table = np.vstack((results_table, row_to_add))  \n",
    "\n",
    "    names_methods_adjusted = [a[-1] for a in methods_selected]\n",
    "\n",
    "    names_for_df = names_param+names_act + names_methods_adjusted\n",
    "\n",
    "    results_table_df = pd.DataFrame(results_table, columns=names_for_df)\n",
    "\n",
    "\n",
    "    # Contribution per process category\n",
    "    for process in dict_mono_technosphere_impacts :\n",
    "\n",
    "        # browsing the categories\n",
    "        for index_content_categ in range(len(processes_in_categories)):\n",
    "\n",
    "\n",
    "            # if this process belongs to category\n",
    "            if process in processes_in_categories[index_content_categ]:\n",
    "\n",
    "                # Then we add this value to the corresponding colum in the  list_tables_contribution\n",
    "                for meth_index in range(len(methods_selected)): #we do this for all methods \n",
    "\n",
    "                    list_tables_contribution[meth_index][count, index_content_categ] = (\n",
    "                        list_tables_contribution[meth_index][count, index_content_categ] \n",
    "                        + dict_mono_technosphere_impacts[process][meth_index])\n"
   ]
  },
  {
   "cell_type": "markdown",
   "id": "iraqi-monitor",
   "metadata": {},
   "source": [
    "results_table_df contains the parameters values, the corresponding amounts of inputs, and the total impact for the activity"
   ]
  },
  {
   "cell_type": "code",
   "execution_count": 72,
   "id": "acute-highlight",
   "metadata": {},
   "outputs": [
    {
     "data": {
      "text/html": [
       "<div>\n",
       "<style scoped>\n",
       "    .dataframe tbody tr th:only-of-type {\n",
       "        vertical-align: middle;\n",
       "    }\n",
       "\n",
       "    .dataframe tbody tr th {\n",
       "        vertical-align: top;\n",
       "    }\n",
       "\n",
       "    .dataframe thead th {\n",
       "        text-align: right;\n",
       "    }\n",
       "</style>\n",
       "<table border=\"1\" class=\"dataframe\">\n",
       "  <thead>\n",
       "    <tr style=\"text-align: right;\">\n",
       "      <th></th>\n",
       "      <th>param1</th>\n",
       "      <th>param2</th>\n",
       "      <th>First activity</th>\n",
       "      <th>Second activity</th>\n",
       "      <th>Third activity</th>\n",
       "      <th>TETPinf</th>\n",
       "      <th>GWP100</th>\n",
       "      <th>FEP</th>\n",
       "      <th>WDP</th>\n",
       "    </tr>\n",
       "  </thead>\n",
       "  <tbody>\n",
       "    <tr>\n",
       "      <th>0</th>\n",
       "      <td>4.664812</td>\n",
       "      <td>2.499121</td>\n",
       "      <td>2666.276665</td>\n",
       "      <td>1.071478</td>\n",
       "      <td>1.205589</td>\n",
       "      <td>0.166530</td>\n",
       "      <td>1460.299656</td>\n",
       "      <td>0.724987</td>\n",
       "      <td>8.359798</td>\n",
       "    </tr>\n",
       "    <tr>\n",
       "      <th>1</th>\n",
       "      <td>5.106682</td>\n",
       "      <td>2.499121</td>\n",
       "      <td>2918.837187</td>\n",
       "      <td>0.978765</td>\n",
       "      <td>1.005981</td>\n",
       "      <td>0.150667</td>\n",
       "      <td>1333.957193</td>\n",
       "      <td>0.662301</td>\n",
       "      <td>7.632486</td>\n",
       "    </tr>\n",
       "    <tr>\n",
       "      <th>2</th>\n",
       "      <td>4.664812</td>\n",
       "      <td>3.094216</td>\n",
       "      <td>2278.732812</td>\n",
       "      <td>1.326620</td>\n",
       "      <td>1.746523</td>\n",
       "      <td>0.210057</td>\n",
       "      <td>1808.038278</td>\n",
       "      <td>0.897538</td>\n",
       "      <td>10.361472</td>\n",
       "    </tr>\n",
       "    <tr>\n",
       "      <th>3</th>\n",
       "      <td>5.106682</td>\n",
       "      <td>3.094216</td>\n",
       "      <td>2494.583611</td>\n",
       "      <td>1.211830</td>\n",
       "      <td>1.457354</td>\n",
       "      <td>0.189774</td>\n",
       "      <td>1651.562309</td>\n",
       "      <td>0.819900</td>\n",
       "      <td>9.458663</td>\n",
       "    </tr>\n",
       "    <tr>\n",
       "      <th>4</th>\n",
       "      <td>5.023554</td>\n",
       "      <td>3.579612</td>\n",
       "      <td>2193.877785</td>\n",
       "      <td>1.425131</td>\n",
       "      <td>1.948784</td>\n",
       "      <td>0.226763</td>\n",
       "      <td>1942.307986</td>\n",
       "      <td>0.964169</td>\n",
       "      <td>11.134108</td>\n",
       "    </tr>\n",
       "    <tr>\n",
       "      <th>...</th>\n",
       "      <td>...</td>\n",
       "      <td>...</td>\n",
       "      <td>...</td>\n",
       "      <td>...</td>\n",
       "      <td>...</td>\n",
       "      <td>...</td>\n",
       "      <td>...</td>\n",
       "      <td>...</td>\n",
       "      <td>...</td>\n",
       "    </tr>\n",
       "    <tr>\n",
       "      <th>115</th>\n",
       "      <td>5.055538</td>\n",
       "      <td>3.426728</td>\n",
       "      <td>2284.097128</td>\n",
       "      <td>1.355633</td>\n",
       "      <td>1.780528</td>\n",
       "      <td>0.214587</td>\n",
       "      <td>1847.569519</td>\n",
       "      <td>0.917160</td>\n",
       "      <td>10.587786</td>\n",
       "    </tr>\n",
       "    <tr>\n",
       "      <th>116</th>\n",
       "      <td>5.144903</td>\n",
       "      <td>3.094216</td>\n",
       "      <td>2513.254309</td>\n",
       "      <td>1.202828</td>\n",
       "      <td>1.435781</td>\n",
       "      <td>0.188200</td>\n",
       "      <td>1639.291554</td>\n",
       "      <td>0.813812</td>\n",
       "      <td>9.387918</td>\n",
       "    </tr>\n",
       "    <tr>\n",
       "      <th>117</th>\n",
       "      <td>4.754028</td>\n",
       "      <td>3.094216</td>\n",
       "      <td>2322.314389</td>\n",
       "      <td>1.301724</td>\n",
       "      <td>1.681586</td>\n",
       "      <td>0.205624</td>\n",
       "      <td>1774.099001</td>\n",
       "      <td>0.880699</td>\n",
       "      <td>10.165549</td>\n",
       "    </tr>\n",
       "    <tr>\n",
       "      <th>118</th>\n",
       "      <td>5.144903</td>\n",
       "      <td>2.335591</td>\n",
       "      <td>3084.852080</td>\n",
       "      <td>0.907924</td>\n",
       "      <td>0.882951</td>\n",
       "      <td>0.138998</td>\n",
       "      <td>1237.437648</td>\n",
       "      <td>0.614408</td>\n",
       "      <td>7.078201</td>\n",
       "    </tr>\n",
       "    <tr>\n",
       "      <th>119</th>\n",
       "      <td>4.754028</td>\n",
       "      <td>2.335591</td>\n",
       "      <td>2850.486060</td>\n",
       "      <td>0.982574</td>\n",
       "      <td>1.034112</td>\n",
       "      <td>0.151623</td>\n",
       "      <td>1339.151957</td>\n",
       "      <td>0.664873</td>\n",
       "      <td>7.663269</td>\n",
       "    </tr>\n",
       "  </tbody>\n",
       "</table>\n",
       "<p>120 rows × 9 columns</p>\n",
       "</div>"
      ],
      "text/plain": [
       "       param1    param2  First activity  Second activity  Third activity  \\\n",
       "0    4.664812  2.499121     2666.276665         1.071478        1.205589   \n",
       "1    5.106682  2.499121     2918.837187         0.978765        1.005981   \n",
       "2    4.664812  3.094216     2278.732812         1.326620        1.746523   \n",
       "3    5.106682  3.094216     2494.583611         1.211830        1.457354   \n",
       "4    5.023554  3.579612     2193.877785         1.425131        1.948784   \n",
       "..        ...       ...             ...              ...             ...   \n",
       "115  5.055538  3.426728     2284.097128         1.355633        1.780528   \n",
       "116  5.144903  3.094216     2513.254309         1.202828        1.435781   \n",
       "117  4.754028  3.094216     2322.314389         1.301724        1.681586   \n",
       "118  5.144903  2.335591     3084.852080         0.907924        0.882951   \n",
       "119  4.754028  2.335591     2850.486060         0.982574        1.034112   \n",
       "\n",
       "      TETPinf       GWP100       FEP        WDP  \n",
       "0    0.166530  1460.299656  0.724987   8.359798  \n",
       "1    0.150667  1333.957193  0.662301   7.632486  \n",
       "2    0.210057  1808.038278  0.897538  10.361472  \n",
       "3    0.189774  1651.562309  0.819900   9.458663  \n",
       "4    0.226763  1942.307986  0.964169  11.134108  \n",
       "..        ...          ...       ...        ...  \n",
       "115  0.214587  1847.569519  0.917160  10.587786  \n",
       "116  0.188200  1639.291554  0.813812   9.387918  \n",
       "117  0.205624  1774.099001  0.880699  10.165549  \n",
       "118  0.138998  1237.437648  0.614408   7.078201  \n",
       "119  0.151623  1339.151957  0.664873   7.663269  \n",
       "\n",
       "[120 rows x 9 columns]"
      ]
     },
     "execution_count": 72,
     "metadata": {},
     "output_type": "execute_result"
    }
   ],
   "source": [
    "results_table_df"
   ]
  },
  {
   "cell_type": "markdown",
   "id": "based-guidance",
   "metadata": {},
   "source": [
    "Now we calculate the contributions based "
   ]
  },
  {
   "cell_type": "code",
   "execution_count": 73,
   "id": "secure-closure",
   "metadata": {},
   "outputs": [],
   "source": [
    "\n",
    "#Calulating contribution sum\n",
    "for index_method in range(len(methods_selected)):\n",
    "\n",
    "    for index_row in range(len(sample)):\n",
    "\n",
    "        sumrow = np.sum(list_tables_contribution[index_method][index_row])\n",
    "\n",
    "        sumrow_abs = sum([abs(a) for a in list_tables_contribution[index_method][index_row,:]]) # Here I calculate the contribution based on the absolute values because I think it makes more sense when you can have postitive and negative numbers \n",
    "\n",
    "        for index_col in range(len(categories_contribution)):\n",
    "\n",
    "            list_tables_contribution_abs[index_method][index_row][index_col] =(\n",
    "                list_tables_contribution[index_method][index_row][index_col]\n",
    "                *100/sumrow_abs)\n",
    "\n",
    "            list_tables_contribution[index_method][index_row][index_col] =(\n",
    "                list_tables_contribution[index_method][index_row][index_col]\n",
    "                *100/sumrow)\n",
    "\n",
    "\n",
    "\n",
    "#  Conversion to Dataframes\n",
    "list_tables_contribution_df = [pd.DataFrame(\n",
    "    table, columns=categories_contribution) for table in list_tables_contribution]\n",
    "\n",
    "list_tables_contribution_abs_df=[pd.DataFrame(\n",
    "    table, columns=categories_contribution) for table in list_tables_contribution_abs]\n",
    "\n"
   ]
  },
  {
   "cell_type": "code",
   "execution_count": 74,
   "id": "understood-hebrew",
   "metadata": {},
   "outputs": [
    {
     "data": {
      "text/plain": [
       "[     Thermoregulation   Cleaning\n",
       " 0           88.929543  11.070457\n",
       " 1           89.789920  10.210080\n",
       " 2           87.285634  12.714366\n",
       " 3           88.256803  11.743197\n",
       " 4           86.858366  13.141634\n",
       " ..                ...        ...\n",
       " 115         87.311683  12.688317\n",
       " 116         88.333884  11.666116\n",
       " 117         87.494443  12.505557\n",
       " 118         90.286237   9.713763\n",
       " 119         89.570582  10.429418\n",
       " \n",
       " [120 rows x 2 columns],\n",
       "      Thermoregulation  Cleaning\n",
       " 0           99.938142  0.061858\n",
       " 1           99.943495  0.056505\n",
       " 2           99.927622  0.072378\n",
       " 3           99.933883  0.066117\n",
       " 4           99.924823  0.075177\n",
       " ..                ...       ...\n",
       " 115         99.927791  0.072209\n",
       " 116         99.934374  0.065626\n",
       " 117         99.928980  0.071020\n",
       " 118         99.946537  0.053463\n",
       " 119         99.942140  0.057860\n",
       " \n",
       " [120 rows x 2 columns],\n",
       "      Thermoregulation  Cleaning\n",
       " 0           99.954664  0.045336\n",
       " 1           99.958590  0.041410\n",
       " 2           99.946949  0.053051\n",
       " 3           99.951541  0.048459\n",
       " 4           99.944896  0.055104\n",
       " ..                ...       ...\n",
       " 115         99.947073  0.052927\n",
       " 116         99.951901  0.048099\n",
       " 117         99.947945  0.052055\n",
       " 118         99.960821  0.039179\n",
       " 119         99.957596  0.042404\n",
       " \n",
       " [120 rows x 2 columns],\n",
       "      Thermoregulation  Cleaning\n",
       " 0           99.268623  0.731377\n",
       " 1           99.331561  0.668439\n",
       " 2           99.145148  0.854852\n",
       " 3           99.218600  0.781400\n",
       " 4           99.112341  0.887659\n",
       " ..                ...       ...\n",
       " 115         99.147132  0.852868\n",
       " 116         99.224366  0.775634\n",
       " 117         99.161069  0.838931\n",
       " 118         99.367367  0.632633\n",
       " 119         99.315629  0.684371\n",
       " \n",
       " [120 rows x 2 columns]]"
      ]
     },
     "execution_count": 74,
     "metadata": {},
     "output_type": "execute_result"
    }
   ],
   "source": [
    "list_tables_contribution_abs_df # A list of tables of contributions for all MC iterations. 1 table per impact category."
   ]
  },
  {
   "cell_type": "code",
   "execution_count": 75,
   "id": "sticky-appendix",
   "metadata": {},
   "outputs": [
    {
     "data": {
      "text/html": [
       "<div>\n",
       "<style scoped>\n",
       "    .dataframe tbody tr th:only-of-type {\n",
       "        vertical-align: middle;\n",
       "    }\n",
       "\n",
       "    .dataframe tbody tr th {\n",
       "        vertical-align: top;\n",
       "    }\n",
       "\n",
       "    .dataframe thead th {\n",
       "        text-align: right;\n",
       "    }\n",
       "</style>\n",
       "<table border=\"1\" class=\"dataframe\">\n",
       "  <thead>\n",
       "    <tr style=\"text-align: right;\">\n",
       "      <th></th>\n",
       "      <th>Thermoregulation</th>\n",
       "      <th>Cleaning</th>\n",
       "    </tr>\n",
       "  </thead>\n",
       "  <tbody>\n",
       "    <tr>\n",
       "      <th>0</th>\n",
       "      <td>88.929543</td>\n",
       "      <td>11.070457</td>\n",
       "    </tr>\n",
       "    <tr>\n",
       "      <th>1</th>\n",
       "      <td>89.789920</td>\n",
       "      <td>10.210080</td>\n",
       "    </tr>\n",
       "    <tr>\n",
       "      <th>2</th>\n",
       "      <td>87.285634</td>\n",
       "      <td>12.714366</td>\n",
       "    </tr>\n",
       "    <tr>\n",
       "      <th>3</th>\n",
       "      <td>88.256803</td>\n",
       "      <td>11.743197</td>\n",
       "    </tr>\n",
       "    <tr>\n",
       "      <th>4</th>\n",
       "      <td>86.858366</td>\n",
       "      <td>13.141634</td>\n",
       "    </tr>\n",
       "    <tr>\n",
       "      <th>...</th>\n",
       "      <td>...</td>\n",
       "      <td>...</td>\n",
       "    </tr>\n",
       "    <tr>\n",
       "      <th>115</th>\n",
       "      <td>87.311683</td>\n",
       "      <td>12.688317</td>\n",
       "    </tr>\n",
       "    <tr>\n",
       "      <th>116</th>\n",
       "      <td>88.333884</td>\n",
       "      <td>11.666116</td>\n",
       "    </tr>\n",
       "    <tr>\n",
       "      <th>117</th>\n",
       "      <td>87.494443</td>\n",
       "      <td>12.505557</td>\n",
       "    </tr>\n",
       "    <tr>\n",
       "      <th>118</th>\n",
       "      <td>90.286237</td>\n",
       "      <td>9.713763</td>\n",
       "    </tr>\n",
       "    <tr>\n",
       "      <th>119</th>\n",
       "      <td>89.570582</td>\n",
       "      <td>10.429418</td>\n",
       "    </tr>\n",
       "  </tbody>\n",
       "</table>\n",
       "<p>120 rows × 2 columns</p>\n",
       "</div>"
      ],
      "text/plain": [
       "     Thermoregulation   Cleaning\n",
       "0           88.929543  11.070457\n",
       "1           89.789920  10.210080\n",
       "2           87.285634  12.714366\n",
       "3           88.256803  11.743197\n",
       "4           86.858366  13.141634\n",
       "..                ...        ...\n",
       "115         87.311683  12.688317\n",
       "116         88.333884  11.666116\n",
       "117         87.494443  12.505557\n",
       "118         90.286237   9.713763\n",
       "119         89.570582  10.429418\n",
       "\n",
       "[120 rows x 2 columns]"
      ]
     },
     "execution_count": 75,
     "metadata": {},
     "output_type": "execute_result"
    }
   ],
   "source": [
    "list_tables_contribution_abs_df[0]"
   ]
  },
  {
   "cell_type": "markdown",
   "id": "e8835bc4",
   "metadata": {},
   "source": [
    "The following distribution is the result of the example model and random activities, therefore the distributions may not look very interesting..."
   ]
  },
  {
   "cell_type": "code",
   "execution_count": 76,
   "id": "concerned-validation",
   "metadata": {},
   "outputs": [
    {
     "data": {
      "text/plain": [
       "<AxesSubplot:ylabel='Density'>"
      ]
     },
     "execution_count": 76,
     "metadata": {},
     "output_type": "execute_result"
    },
    {
     "data": {
      "image/png": "[encoded data removed]",
      "text/plain": [
       "<Figure size 432x288 with 1 Axes>"
      ]
     },
     "metadata": {
      "needs_background": "light"
     },
     "output_type": "display_data"
    }
   ],
   "source": [
    "list_tables_contribution_abs_df[3].plot.kde()  # The fourth impact category. Feel free to plot something better than this."
   ]
  }
 ],
 "metadata": {
  "kernelspec": {
   "display_name": "Python 3 (ipykernel)",
   "language": "python",
   "name": "python3"
  },
  "language_info": {
   "codemirror_mode": {
    "name": "ipython",
    "version": 3
   },
   "file_extension": ".py",
   "mimetype": "text/x-python",
   "name": "python",
   "nbconvert_exporter": "python",
   "pygments_lexer": "ipython3",
   "version": "3.9.7"
  }
 },
 "nbformat": 4,
 "nbformat_minor": 5
}
