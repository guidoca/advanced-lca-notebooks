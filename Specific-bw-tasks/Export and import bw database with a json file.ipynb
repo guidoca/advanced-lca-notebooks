{
 "cells": [
  {
   "cell_type": "markdown",
   "id": "touched-extension",
   "metadata": {},
   "source": [
    "### Export a database as a dictionnary in a json file and import it back to a bw database\n",
    "\n",
    "Pierre Jouannais\n",
    "\n",
    "The json file is hard to read for humans because there is no space or line breaks. Feel free to modify the script to include these if you want the json file to be more readable by a human."
   ]
  },
  {
   "cell_type": "code",
   "execution_count": 9,
   "id": "sufficient-fashion",
   "metadata": {},
   "outputs": [],
   "source": [
    "\n",
    "import bw2data\n",
    "import bw2io\n",
    "from bw2data.parameters import *\n",
    "import brightway2 as bw\n",
    "from json import loads, dumps\n",
    "import json\n",
    "\n",
    "\n",
    "\n",
    "\n",
    "\n"
   ]
  },
  {
   "cell_type": "code",
   "execution_count": 10,
   "id": "hazardous-thanksgiving",
   "metadata": {},
   "outputs": [],
   "source": [
    "\n",
    "bw.projects.set_current('Eco38_4') \n",
    "# Loading Ecoinvent\n",
    "Ecoinvent = bw.Database('ecoinvent 3.8 conseq')\n",
    "\n",
    "\n",
    "currentfolder = os.getcwd()"
   ]
  },
  {
   "cell_type": "markdown",
   "id": "ongoing-venue",
   "metadata": {},
   "source": [
    "The functions"
   ]
  },
  {
   "cell_type": "code",
   "execution_count": 8,
   "id": "sized-person",
   "metadata": {},
   "outputs": [],
   "source": [
    "\n",
    "\n",
    "def remap_keys(mapping):\n",
    "    \n",
    "    return [{'key':k, 'value': v} for k, v in mapping.iteritems()]\n",
    "\n",
    "\n",
    "def exchange_to_dict(exchange):\n",
    "    \n",
    "    dicti={'amount':exchange['amount'],\n",
    "           'input':exchange['input'],\n",
    "           'type':exchange['type']}\n",
    "    \n",
    "    return dicti\n",
    "\n",
    "\n",
    "def export_as_dictionnary_json(bw_database,namedatabase):\n",
    "    \n",
    "    dict_database={}\n",
    "    \n",
    "    for act in bw_database:\n",
    "\n",
    "        list_exchanges=[]\n",
    "        for exc in list(act.exchanges()):\n",
    "            list_exchanges.append(exchange_to_dict(exc))\n",
    "        \n",
    "        dicti_act={'name':act['name'],\n",
    "                   'exchanges':list_exchanges,\n",
    "                   'unit':act['unit'], # If we you have defined other fields in your database, you need to add it here\n",
    "                   }\n",
    "        \n",
    "      # For instance if the activities have the field \"location\", this should be :  \n",
    "      #  dicti_act={'name':act['name'],\n",
    "      #     'exchanges':list_exchanges,\n",
    "      #    'unit':act['unit'],\n",
    "      #    'location':act['location'],  \n",
    "     #    }\n",
    "        \n",
    "        \n",
    "        dict_database[(namedatabase,act['code'])]=dicti_act\n",
    "\n",
    "    ready = json.dumps({str(k): v for k, v in dict_database.items()})\n",
    "    \n",
    "    # open file for writing, \"w\" \n",
    "    f = open(namedatabase+\".json\",\"w\")\n",
    "    \n",
    "    # write json object to file\n",
    "    f.write(ready)\n",
    "    \n",
    "    # close file\n",
    "    f.close()\n",
    "\n",
    "\n",
    "\n",
    "\n",
    "\n",
    "def import_database_data_from_json(jsonfilepath):\n",
    "      \n",
    "    with open(jsonfilepath+'.json') as json_file:\n",
    "        data = json.load(json_file)\n",
    "      \n",
    "    database = {ast.literal_eval(k): v for k, v in data.items()}\n",
    " \n",
    "       \n",
    "    return database   \n",
    "\n",
    "\n",
    "\n",
    "\n",
    "\n"
   ]
  },
  {
   "cell_type": "markdown",
   "id": "included-parliament",
   "metadata": {},
   "source": [
    "Create a dummy database"
   ]
  },
  {
   "cell_type": "code",
   "execution_count": 14,
   "id": "tutorial-bennett",
   "metadata": {},
   "outputs": [],
   "source": [
    "act1=Ecoinvent.random()\n",
    "act2=Ecoinvent.random()\n",
    "act3=Ecoinvent.random()"
   ]
  },
  {
   "cell_type": "code",
   "execution_count": 15,
   "id": "perfect-checkout",
   "metadata": {},
   "outputs": [
    {
     "name": "stderr",
     "output_type": "stream",
     "text": [
      "Writing activities to SQLite3 database:\n",
      "0% [####] 100% | ETA: 00:00:00\n",
      "Total time elapsed: 00:00:00\n"
     ]
    },
    {
     "name": "stdout",
     "output_type": "stream",
     "text": [
      "Title: Writing activities to SQLite3 database:\n",
      "  Started: 02/09/2023 14:01:38\n",
      "  Finished: 02/09/2023 14:01:38\n",
      "  Total time elapsed: 00:00:00\n",
      "  CPU %: 97.70\n",
      "  Memory %: 0.89\n"
     ]
    }
   ],
   "source": [
    "db_contrib_Magic = bw.Database('db_contrib_Magic')\n",
    "db_contrib_Magic.write({  \n",
    "    ('db_contrib_Magic', 'magic_prod_for_sa'): {\n",
    "        'name': 'Magic Prod',\n",
    "        'unit': 'Magic Unit',\n",
    "        'exchanges': [{                  \n",
    "            'input': ('db_contrib_Magic', 'First activity'),   \n",
    "            'amount': 0.2, \n",
    "            'type': 'technosphere'},  \n",
    "        { \n",
    "            'input': ('db_contrib_Magic', 'Second activity'), \n",
    "            'amount': 0.2,  \n",
    "            'type': 'technosphere'},    \n",
    " \n",
    "        { \n",
    "            'input':  ('db_contrib_Magic', 'Third activity'), \n",
    "            'amount': -0.0000002, \n",
    "            'type': 'technosphere'},  \n",
    "\n",
    "        {\n",
    "            'input': ('db_contrib_Magic', 'magic_prod_for_sa'),\n",
    "            'amount': 1.0, \n",
    "            'type': 'production'}]\n",
    "    },\n",
    "    ('db_contrib_Magic', 'First activity'): {\n",
    "        'name': 'First activity',\n",
    "        'unit': 'Strange Unit',\n",
    "        'exchanges': [{\n",
    "            'input': act1,  \n",
    "            'amount': 1,\n",
    "            'type': 'technosphere'},  \n",
    "            {'input': ('db_contrib_Magic', 'First activity'),\n",
    "            'amount': 1.0, \n",
    "            'type': 'production'}]},\n",
    "    \n",
    "    ('db_contrib_Magic', 'Second activity'): {\n",
    "        'name': 'Second activity',\n",
    "        'unit': 'Strange Unit',\n",
    "        'exchanges': [{\n",
    "            'input': act2,  \n",
    "            'amount': 1, \n",
    "            'type': 'technosphere'},  \n",
    "   \n",
    "        {\n",
    "            'input': ('db_contrib_Magic', 'Second activity'),\n",
    "            'amount': 1.0,\n",
    "            'type': 'production'}]},\n",
    "    \n",
    "    ('db_contrib_Magic', 'Third activity'): {\n",
    "        'name': 'Third activity',\n",
    "        'unit': 'Strange Unit',\n",
    "        'exchanges': [{\n",
    "            'input': act3, \n",
    "            'amount': 1, \n",
    "            'type': 'technosphere'},  \n",
    "   \n",
    "        {\n",
    "            'input': ('db_contrib_Magic','Third activity'),\n",
    "            'amount': 1.0, \n",
    "            'type': 'production'}]}})"
   ]
  },
  {
   "cell_type": "markdown",
   "id": "danish-feature",
   "metadata": {},
   "source": [
    "## Export the database as a light json file"
   ]
  },
  {
   "cell_type": "code",
   "execution_count": 19,
   "id": "unsigned-suffering",
   "metadata": {},
   "outputs": [],
   "source": [
    "export_as_dictionnary_json(db_contrib_Magic,'db_contrib_Magic') # It's gonna export it in your script's folder"
   ]
  },
  {
   "cell_type": "markdown",
   "id": "whole-taylor",
   "metadata": {},
   "source": [
    "## Import the database from the json file"
   ]
  },
  {
   "cell_type": "code",
   "execution_count": 20,
   "id": "cultural-monitoring",
   "metadata": {},
   "outputs": [],
   "source": [
    "database_dict=import_database_data_from_json('db_contrib_Magic') # with the right path, here it's in the same folder\n",
    "\n",
    "imported_database = bw.Database(\"db_contrib_Magic'\") # Make a BW database with the dictionnary\n"
   ]
  }
 ],
 "metadata": {
  "kernelspec": {
   "display_name": "Python 3",
   "language": "python",
   "name": "python3"
  },
  "language_info": {
   "codemirror_mode": {
    "name": "ipython",
    "version": 3
   },
   "file_extension": ".py",
   "mimetype": "text/x-python",
   "name": "python",
   "nbconvert_exporter": "python",
   "pygments_lexer": "ipython3",
   "version": "3.8.6"
  }
 },
 "nbformat": 4,
 "nbformat_minor": 5
}
