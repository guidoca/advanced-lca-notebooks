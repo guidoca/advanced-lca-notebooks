{
 "cells": [
  {
   "cell_type": "markdown",
   "metadata": {},
   "source": [
    "# Modification of database to run scenarios\n",
    "\n",
    "Here we modify the technology matrix without touching the files in the database, this is useful to e.g. modify bacgkround databases like ecoinvent to simulate scenarios"
   ]
  },
  {
   "cell_type": "markdown",
   "metadata": {},
   "source": [
    "1. Import BW2 \n",
    "2. create a new project 'biowood'\n",
    "3. import biosphere3\n",
    "4. import ecoinvent database (v.3.7.1 conseq)\n",
    "5. modify specific activities in the ecoinvent database (using the technology matrix coordinates)\n",
    "6. calculate results with the modified ecoinvent database"
   ]
  },
  {
   "cell_type": "markdown",
   "metadata": {},
   "source": [
    "You will need ecoinvent v.7 for this or you can change the activity codes if you want to use other versions"
   ]
  },
  {
   "cell_type": "markdown",
   "metadata": {},
   "source": [
    "**Set up**"
   ]
  },
  {
   "cell_type": "code",
   "execution_count": 1,
   "metadata": {},
   "outputs": [],
   "source": [
    "import random\n",
    "import pandas as pd\n",
    "import numpy as np\n",
    "\n",
    "# Options for pandas\n",
    "pd.options.display.max_columns = 50\n",
    "pd.options.display.max_rows = 50\n",
    "\n",
    "from scipy.sparse import csr_matrix\n",
    "\n",
    "import matplotlib.pyplot as plt\n",
    "import matplotlib as mpl\n"
   ]
  },
  {
   "cell_type": "code",
   "execution_count": 2,
   "metadata": {},
   "outputs": [],
   "source": [
    "import brightway2 as bw"
   ]
  },
  {
   "cell_type": "code",
   "execution_count": 3,
   "metadata": {},
   "outputs": [
    {
     "data": {
      "text/plain": [
       "Brightway2 projects manager with 36 objects, including:\n",
       "\tB4B18\n",
       "\tBTC02\n",
       "\tBTC_Att_LCA\n",
       "\tBiowood\n",
       "\tC3BO\n",
       "\tCCU\n",
       "\tConseqUncertainty\n",
       "\tGSA\n",
       "\tGiovanni\n",
       "\tHH\n",
       "Use `sorted(projects)` to get full list, `projects.report()` to get\n",
       "\ta report on all projects."
      ]
     },
     "execution_count": 3,
     "metadata": {},
     "output_type": "execute_result"
    }
   ],
   "source": [
    "bw.projects # check what project you have \n",
    "# bw.projects.delete_project('advlca22', delete_dir=True) # if you want a fresh start"
   ]
  },
  {
   "cell_type": "code",
   "execution_count": 28,
   "metadata": {},
   "outputs": [],
   "source": [
    "# bw.databases.clear()\n",
    "# bw.methods.clear()"
   ]
  },
  {
   "cell_type": "code",
   "execution_count": 4,
   "metadata": {},
   "outputs": [
    {
     "data": {
      "text/plain": [
       "Databases dictionary with 3 object(s):\n",
       "\tbiosphere3\n",
       "\tecoinvent 3.7.1 conseq_fs\n",
       "\tfg_bw"
      ]
     },
     "execution_count": 4,
     "metadata": {},
     "output_type": "execute_result"
    }
   ],
   "source": [
    "bw.projects.set_current('Biowood') # Still working in the same project\n",
    "bw.databases\n",
    "#bw.databases.clear() # For a fresh start (Risky command! clears all your existing databases)"
   ]
  },
  {
   "cell_type": "markdown",
   "metadata": {},
   "source": [
    "## Run the code below only the first time"
   ]
  },
  {
   "cell_type": "markdown",
   "metadata": {},
   "source": [
    "Before importing ecoinvent, we need to make a default setup of Brightway2. This means importing all the environmental exchanges and all the LCIA methods. Then when we import ecoinvent the ecoinvent activities will be linked to this database of environmental exchanges, just like in the example wiht the product system of Hejungs and Suh (2002)."
   ]
  },
  {
   "cell_type": "code",
   "execution_count": 4,
   "metadata": {
    "scrolled": false
   },
   "outputs": [
    {
     "name": "stdout",
     "output_type": "stream",
     "text": [
      "Creating default biosphere\n",
      "\n"
     ]
    },
    {
     "name": "stderr",
     "output_type": "stream",
     "text": [
      "Writing activities to SQLite3 database:\n"
     ]
    },
    {
     "name": "stdout",
     "output_type": "stream",
     "text": [
      "Applying strategy: normalize_units\n",
      "Applying strategy: drop_unspecified_subcategories\n",
      "Applying strategy: ensure_categories_are_tuples\n",
      "Applied 3 strategies in 0.01 seconds\n"
     ]
    },
    {
     "name": "stderr",
     "output_type": "stream",
     "text": [
      "0% [##############################] 100% | ETA: 00:00:00\n",
      "Total time elapsed: 00:00:00\n"
     ]
    },
    {
     "name": "stdout",
     "output_type": "stream",
     "text": [
      "Title: Writing activities to SQLite3 database:\n",
      "  Started: 12/02/2021 13:01:22\n",
      "  Finished: 12/02/2021 13:01:23\n",
      "  Total time elapsed: 00:00:00\n",
      "  CPU %: 81.10\n",
      "  Memory %: 1.12\n",
      "Created database: biosphere3\n",
      "Creating default LCIA methods\n",
      "\n",
      "Applying strategy: normalize_units\n",
      "Applying strategy: set_biosphere_type\n",
      "Applying strategy: fix_ecoinvent_38_lcia_implementation\n",
      "Applying strategy: drop_unspecified_subcategories\n",
      "Applying strategy: link_iterable_by_fields\n",
      "Applied 5 strategies in 2.00 seconds\n",
      "Wrote 975 LCIA methods with 254388 characterization factors\n",
      "Creating core data migrations\n",
      "\n"
     ]
    }
   ],
   "source": [
    "# Import the biosphere3 database\n",
    "bw.bw2setup()  # This will take some time"
   ]
  },
  {
   "cell_type": "code",
   "execution_count": 5,
   "metadata": {},
   "outputs": [
    {
     "data": {
      "text/plain": [
       "Databases dictionary with 3 object(s):\n",
       "\tbiosphere3\n",
       "\tecoinvent 3.7.1 conseq_fs\n",
       "\tfg_bw"
      ]
     },
     "execution_count": 5,
     "metadata": {},
     "output_type": "execute_result"
    }
   ],
   "source": [
    "bw.databases"
   ]
  },
  {
   "cell_type": "markdown",
   "metadata": {},
   "source": [
    "**We are going to use version 3.7.1 of ecoinvent, consequential model.**"
   ]
  },
  {
   "cell_type": "code",
   "execution_count": 5,
   "metadata": {},
   "outputs": [
    {
     "name": "stderr",
     "output_type": "stream",
     "text": [
      "Extracting ecospold2 files:\n",
      "0% [##############################] 100% | ETA: 00:00:00 | Item ID: 3a7fd0fe-3f4a-4\n",
      "Total time elapsed: 00:04:26\n"
     ]
    },
    {
     "name": "stdout",
     "output_type": "stream",
     "text": [
      "Title: Extracting ecospold2 files:\n",
      "  Started: 12/02/2021 13:05:14\n",
      "  Finished: 12/02/2021 13:09:41\n",
      "  Total time elapsed: 00:04:26\n",
      "  CPU %: 88.50\n",
      "  Memory %: 16.09\n",
      "Extracted 17328 datasets in 267.27 seconds\n",
      "Applying strategy: normalize_units\n",
      "Applying strategy: update_ecoinvent_locations\n",
      "Applying strategy: remove_zero_amount_coproducts\n",
      "Applying strategy: remove_zero_amount_inputs_with_no_activity\n",
      "Applying strategy: remove_unnamed_parameters\n",
      "Applying strategy: es2_assign_only_product_with_amount_as_reference_product\n",
      "Applying strategy: assign_single_product_as_activity\n",
      "Applying strategy: create_composite_code\n",
      "Applying strategy: drop_unspecified_subcategories\n",
      "Applying strategy: fix_ecoinvent_flows_pre35\n",
      "Applying strategy: drop_temporary_outdated_biosphere_flows\n",
      "Applying strategy: link_biosphere_by_flow_uuid\n",
      "Applying strategy: link_internal_technosphere_by_composite_code\n",
      "Applying strategy: delete_exchanges_missing_activity\n",
      "Applying strategy: delete_ghost_exchanges\n",
      "15 exchanges couldn't be linked and were deleted. See the logfile for details:\n",
      "\t/Users/massimo/Library/Logs/Brightway3/Biowood.894c91b0d9deca5ad8487027d766f4c9/Ecospold2-import-error.bzQpFM.log\n",
      "Applying strategy: remove_uncertainty_from_negative_loss_exchanges\n",
      "Applying strategy: fix_unreasonably_high_lognormal_uncertainties\n",
      "Applying strategy: set_lognormal_loc_value\n",
      "Applying strategy: convert_activity_parameters_to_list\n",
      "Applying strategy: add_cpc_classification_from_single_reference_product\n",
      "Applying strategy: delete_none_synonyms\n",
      "Applied 21 strategies in 11.67 seconds\n",
      "17328 datasets\n",
      "492953 exchanges\n",
      "117 unlinked exchanges\n",
      "  Type biosphere: 3 unique unlinked exchanges\n",
      "Applying strategy: drop_unlinked\n",
      "Applied 1 strategies in 0.23 seconds\n"
     ]
    },
    {
     "name": "stderr",
     "output_type": "stream",
     "text": [
      "Writing activities to SQLite3 database:\n",
      "0% [##############################] 100% | ETA: 00:00:00\n",
      "Total time elapsed: 00:00:53\n"
     ]
    },
    {
     "name": "stdout",
     "output_type": "stream",
     "text": [
      "Title: Writing activities to SQLite3 database:\n",
      "  Started: 12/02/2021 13:09:53\n",
      "  Finished: 12/02/2021 13:10:46\n",
      "  Total time elapsed: 00:00:53\n",
      "  CPU %: 87.50\n",
      "  Memory %: 16.39\n",
      "Created database: ecoinvent 3.7.1 conseq_fs\n"
     ]
    },
    {
     "data": {
      "text/plain": [
       "Brightway2 SQLiteBackend: ecoinvent 3.7.1 conseq_fs"
      ]
     },
     "execution_count": 5,
     "metadata": {},
     "output_type": "execute_result"
    }
   ],
   "source": [
    "# Import ecoinvent , /Users/staff/Desktop/Biowood/LCA/CLCA BR2 model/Model 1/Ecoinvent/ecoinvent 3.6_consequential_ecoSpold02/datasets\n",
    "\n",
    "# You need to change the line below with the directory where you have saved ecoinvent\n",
    "ei37fsdir = \"/Users/massimo/Documents/Databases/ecoinvent v3.7.1/ecoinvent 3.7.1_consequential_ecoSpold02/datasets\"\n",
    "\n",
    "if 'ecoinvent 3.7.1 conseq_fs' in bw.databases:\n",
    "    print(\"Database has already been imported\")\n",
    "else:\n",
    "    ei37fs = bw.SingleOutputEcospold2Importer(ei37fsdir, 'ecoinvent 3.7.1 conseq_fs', use_mp = False) # You can give it another name of course\n",
    "    ei37fs.apply_strategies()\n",
    "    ei37fs.statistics()\n",
    "\n",
    "ei37fs.drop_unlinked(True)\n",
    "ei37fs.write_database() # This will take some time."
   ]
  },
  {
   "cell_type": "code",
   "execution_count": 6,
   "metadata": {},
   "outputs": [
    {
     "data": {
      "text/plain": [
       "Databases dictionary with 3 object(s):\n",
       "\tbiosphere3\n",
       "\tecoinvent 3.7.1 conseq_fs\n",
       "\tfg_bw"
      ]
     },
     "execution_count": 6,
     "metadata": {},
     "output_type": "execute_result"
    }
   ],
   "source": [
    "bw.databases # you should now see both \"biosphere3\" and \"ecoinvent 3.7.1 conseq\""
   ]
  },
  {
   "cell_type": "markdown",
   "metadata": {},
   "source": [
    "## Start here if you have already imported the background database"
   ]
  },
  {
   "cell_type": "markdown",
   "metadata": {},
   "source": [
    "Create a simple foreground process that uses 1 kWh electricity in Belgium"
   ]
  },
  {
   "cell_type": "code",
   "execution_count": 37,
   "metadata": {},
   "outputs": [
    {
     "name": "stderr",
     "output_type": "stream",
     "text": [
      "Writing activities to SQLite3 database:\n",
      "0% [#] 100% | ETA: 00:00:00\n",
      "Total time elapsed: 00:00:00\n"
     ]
    },
    {
     "name": "stdout",
     "output_type": "stream",
     "text": [
      "Title: Writing activities to SQLite3 database:\n",
      "  Started: 04/11/2022 21:11:24\n",
      "  Finished: 04/11/2022 21:11:24\n",
      "  Total time elapsed: 00:00:00\n",
      "  CPU %: 59.10\n",
      "  Memory %: 2.28\n"
     ]
    }
   ],
   "source": [
    "fg_bw = bw.Database(\"fg_bw\") # foreground biowood\n",
    "fg_bw.write({\n",
    "    (\"fg_bw\", \"biowood production\"):{ # Note that a tuple is used to identify an activity univocally\n",
    "        'name':'biowood production',\n",
    "        'unit': 'kilogram', \n",
    "        'exchanges': [{\n",
    "                'input': ('ecoinvent 3.7.1 conseq_fs', 'e5bf639cfd7f62017f0f72da8e0dc5f4'), # 'market for electricity, high voltage' (kilowatt hour, BE, None)\n",
    "                'amount': 1,\n",
    "                'unit': 'kilowatt hour',\n",
    "                'type': 'technosphere'\n",
    "            }]}})\n",
    "    "
   ]
  },
  {
   "cell_type": "code",
   "execution_count": 63,
   "metadata": {},
   "outputs": [
    {
     "name": "stdout",
     "output_type": "stream",
     "text": [
      "technosphere\n",
      "1d9ae44baaa315ca0589601ffd7121f7\n",
      "'transmission network construction, long-distance' (kilometer, UCTE, None)\n",
      "3.17e-10\n",
      "-------\n",
      "technosphere\n",
      "a0f8a6082de3c35932ac46a5cbccf340\n",
      "'market for transmission network, electricity, high voltage' (kilometer, GLO, None)\n",
      "6.58209848825026e-09\n",
      "-------\n",
      "production\n",
      "e5bf639cfd7f62017f0f72da8e0dc5f4\n",
      "'market for electricity, high voltage' (kilowatt hour, BE, None)\n",
      "1.0\n",
      "-------\n",
      "technosphere\n",
      "1914a838e222c50aa695ffd1999cb9b5\n",
      "'electricity production, hydro, run-of-river' (kilowatt hour, BE, None)\n",
      "0.00602776051608669\n",
      "-------\n",
      "technosphere\n",
      "36f4649326c821b4e8dc8e005f83efd3\n",
      "'electricity production, natural gas, combined cycle power plant' (kilowatt hour, BE, None)\n",
      "0.557342534494605\n",
      "-------\n",
      "technosphere\n",
      "8928815498415253f89532b9a6233ae0\n",
      "'electricity production, oil' (kilowatt hour, BE, None)\n",
      "0.0180105591347089\n",
      "-------\n",
      "technosphere\n",
      "89578c816af5949efef19da4d5015ecc\n",
      "'electricity production, wind, 1-3MW turbine, offshore' (kilowatt hour, BE, None)\n",
      "0.200937190010207\n",
      "-------\n",
      "technosphere\n",
      "b729e12ad5ce26744ec060633a5af271\n",
      "'electricity production, wind, >3MW turbine, onshore' (kilowatt hour, BE, None)\n",
      "0.217681955844392\n",
      "-------\n",
      "technosphere\n",
      "e5bf639cfd7f62017f0f72da8e0dc5f4\n",
      "'market for electricity, high voltage' (kilowatt hour, BE, None)\n",
      "0.0176\n",
      "-------\n",
      "biosphere\n",
      "2058d91e-bb9f-4fce-8e53-131825b14a23\n",
      "'Ozone' (kilogram, None, ('air',))\n",
      "4.15772755242894e-06\n",
      "-------\n",
      "biosphere\n",
      "20185046-64bb-4c09-a8e7-e8a9e144ca98\n",
      "'Dinitrogen monoxide' (kilogram, None, ('air',))\n",
      "5e-06\n",
      "-------\n"
     ]
    }
   ],
   "source": [
    "#you can use this doe to check the inputs of the belgian mix\n",
    "belgian_mix = bw.Database('ecoinvent 3.7.1 conseq_fs').get('e5bf639cfd7f62017f0f72da8e0dc5f4') \n",
    "for exc in belgian_mix.exchanges():\n",
    "    print(exc['type'])\n",
    "    print(exc['input'][1])\n",
    "    print(exc.input)\n",
    "    print(exc['amount'])\n",
    "    print(\"-------\")"
   ]
  },
  {
   "cell_type": "markdown",
   "metadata": {},
   "source": [
    "# Replace/change the activity"
   ]
  },
  {
   "cell_type": "markdown",
   "metadata": {},
   "source": [
    "Find the products and activities that you need.\n",
    "\n",
    "In particular we want to chenge the shared of wind and gas in the belgian electircity mix"
   ]
  },
  {
   "cell_type": "code",
   "execution_count": 38,
   "metadata": {},
   "outputs": [],
   "source": [
    "products_to_change = [('ecoinvent 3.7.1 conseq_fs', '89578c816af5949efef19da4d5015ecc'),  # wind\n",
    "                       ('ecoinvent 3.7.1 conseq_fs', '36f4649326c821b4e8dc8e005f83efd3')]  # gas\n",
    "\n",
    "# wind == 'electricity production, wind, 1-3MW turbine, offshore' (kilowatt hour, BE, None)\n",
    "# gas == 'electricity production, natural gas, combined cycle power plant' (kilowatt hour, BE, None)"
   ]
  },
  {
   "cell_type": "code",
   "execution_count": 39,
   "metadata": {},
   "outputs": [],
   "source": [
    "activities_to_change = [('ecoinvent 3.7.1 conseq_fs', 'e5bf639cfd7f62017f0f72da8e0dc5f4')]  # belgian el mix"
   ]
  },
  {
   "cell_type": "markdown",
   "metadata": {},
   "source": [
    "Initialize the LCA using the FU (this could be the BAU scenario)"
   ]
  },
  {
   "cell_type": "code",
   "execution_count": 40,
   "metadata": {},
   "outputs": [],
   "source": [
    "LCA = bw.LCA({(\"fg_bw\", \"biowood production\") : 1}, \n",
    "             ('IPCC 2013', 'climate change', 'GWP 100a'))\n",
    "LCA.lci()\n",
    "LCA.lcia()"
   ]
  },
  {
   "cell_type": "code",
   "execution_count": 41,
   "metadata": {},
   "outputs": [
    {
     "data": {
      "text/plain": [
       "0.2632287072404267"
      ]
     },
     "execution_count": 41,
     "metadata": {},
     "output_type": "execute_result"
    }
   ],
   "source": [
    "LCA.score"
   ]
  },
  {
   "cell_type": "markdown",
   "metadata": {},
   "source": [
    "Decide which activities and exchanges to modify. \n",
    "\n",
    "_(You can dedice yourself hot to structure this, below is only a suggestion)_\n",
    "\n",
    "I use here a list of **tuples** each tuple with this structure: (activity, exchange, new value) \n",
    "- first element is the column in tech matrix, \n",
    "- second is the row in the tech matrix, \n",
    "- third element of the tuple is the new value (scenario)\n",
    "\n",
    "So the first two elements are coordinates and the third is a value"
   ]
  },
  {
   "cell_type": "code",
   "execution_count": 49,
   "metadata": {},
   "outputs": [],
   "source": [
    "to_change = [(('ecoinvent 3.7.1 conseq_fs', 'e5bf639cfd7f62017f0f72da8e0dc5f4'), \n",
    "             ('ecoinvent 3.7.1 conseq_fs', '89578c816af5949efef19da4d5015ecc'), \n",
    "             0.5), # el BE, wind input increased to 50%\n",
    "            (('ecoinvent 3.7.1 conseq_fs', 'e5bf639cfd7f62017f0f72da8e0dc5f4'),\n",
    "             ('ecoinvent 3.7.1 conseq_fs', '36f4649326c821b4e8dc8e005f83efd3'), \n",
    "             0.25), # el BE, nat gas input reduced to 25%\n",
    "             ((\"fg_bw\", \"biowood production\"),\n",
    "              ('ecoinvent 3.7.1 conseq_fs', 'e5bf639cfd7f62017f0f72da8e0dc5f4'),\n",
    "              10)] # biowood, el input, ten times higher"
   ]
  },
  {
   "cell_type": "markdown",
   "metadata": {},
   "source": [
    "This is to show the coordinates (column number and row number) in the technology matrix and current values"
   ]
  },
  {
   "cell_type": "code",
   "execution_count": 50,
   "metadata": {},
   "outputs": [
    {
     "name": "stdout",
     "output_type": "stream",
     "text": [
      "14498 4252 -0.2009371966123581\n",
      "14498 16908 -0.557342529296875\n",
      "17328 14498 -1.0\n"
     ]
    }
   ],
   "source": [
    "for i in to_change:\n",
    "    col = LCA.activity_dict[i[0]]\n",
    "    row = LCA.activity_dict[i[1]]\n",
    "    print(col, row, LCA.technosphere_matrix[row,col]) # shows current values"
   ]
  },
  {
   "cell_type": "markdown",
   "metadata": {},
   "source": [
    "Using the coordinates of the activities and exchanges to be changed, **update the value**"
   ]
  },
  {
   "cell_type": "code",
   "execution_count": 51,
   "metadata": {},
   "outputs": [
    {
     "name": "stdout",
     "output_type": "stream",
     "text": [
      "14498 4252 -0.5\n",
      "14498 16908 -0.25\n",
      "17328 14498 -10.0\n"
     ]
    }
   ],
   "source": [
    "for i in to_change:\n",
    "    col = LCA.activity_dict[i[0]] # find index of tech matrix for the activity\n",
    "    row = LCA.activity_dict[i[1]] # find index of tech matrix for the exchange\n",
    "    LCA.technosphere_matrix[row,col] = -i[2] # substitute the value, need to change the sign!\n",
    "    \n",
    "    print(col, row, LCA.technosphere_matrix[row,col])"
   ]
  },
  {
   "cell_type": "markdown",
   "metadata": {},
   "source": [
    "Now perform calculations using the modified tech matrix"
   ]
  },
  {
   "cell_type": "code",
   "execution_count": 53,
   "metadata": {},
   "outputs": [
    {
     "data": {
      "text/plain": [
       "0.14067654871132018"
      ]
     },
     "execution_count": 53,
     "metadata": {},
     "output_type": "execute_result"
    }
   ],
   "source": [
    "LCA.redo_lci() # uses the new tech matrix\n",
    "LCA.lcia()\n",
    "LCA.score/10 # because we have ten times higher input of electricity"
   ]
  },
  {
   "cell_type": "markdown",
   "metadata": {},
   "source": [
    "Ths score is diffent as before and lower impact as expected"
   ]
  },
  {
   "cell_type": "markdown",
   "metadata": {},
   "source": [
    "### Using data from files (useful to organize scenarios and prepare things on beforehand)"
   ]
  },
  {
   "cell_type": "markdown",
   "metadata": {},
   "source": [
    "Same but different, import the scenario from a separate file with the data, that you prepare on beforehand"
   ]
  },
  {
   "cell_type": "code",
   "execution_count": 54,
   "metadata": {},
   "outputs": [
    {
     "data": {
      "text/html": [
       "<div>\n",
       "<style scoped>\n",
       "    .dataframe tbody tr th:only-of-type {\n",
       "        vertical-align: middle;\n",
       "    }\n",
       "\n",
       "    .dataframe tbody tr th {\n",
       "        vertical-align: top;\n",
       "    }\n",
       "\n",
       "    .dataframe thead th {\n",
       "        text-align: right;\n",
       "    }\n",
       "</style>\n",
       "<table border=\"1\" class=\"dataframe\">\n",
       "  <thead>\n",
       "    <tr style=\"text-align: right;\">\n",
       "      <th></th>\n",
       "      <th>activity_database</th>\n",
       "      <th>activity_code</th>\n",
       "      <th>exchange_database</th>\n",
       "      <th>exchange_code</th>\n",
       "      <th>value</th>\n",
       "    </tr>\n",
       "  </thead>\n",
       "  <tbody>\n",
       "    <tr>\n",
       "      <th>0</th>\n",
       "      <td>ecoinvent 3.7.1 conseq_fs</td>\n",
       "      <td>e5bf639cfd7f62017f0f72da8e0dc5f4</td>\n",
       "      <td>ecoinvent 3.7.1 conseq_fs</td>\n",
       "      <td>89578c816af5949efef19da4d5015ecc</td>\n",
       "      <td>0.50</td>\n",
       "    </tr>\n",
       "    <tr>\n",
       "      <th>1</th>\n",
       "      <td>ecoinvent 3.7.1 conseq_fs</td>\n",
       "      <td>e5bf639cfd7f62017f0f72da8e0dc5f4</td>\n",
       "      <td>ecoinvent 3.7.1 conseq_fs</td>\n",
       "      <td>36f4649326c821b4e8dc8e005f83efd3</td>\n",
       "      <td>0.25</td>\n",
       "    </tr>\n",
       "    <tr>\n",
       "      <th>2</th>\n",
       "      <td>fg_bw</td>\n",
       "      <td>biowood production</td>\n",
       "      <td>ecoinvent 3.7.1 conseq_fs</td>\n",
       "      <td>e5bf639cfd7f62017f0f72da8e0dc5f4</td>\n",
       "      <td>10.00</td>\n",
       "    </tr>\n",
       "  </tbody>\n",
       "</table>\n",
       "</div>"
      ],
      "text/plain": [
       "           activity_database                     activity_code  \\\n",
       "0  ecoinvent 3.7.1 conseq_fs  e5bf639cfd7f62017f0f72da8e0dc5f4   \n",
       "1  ecoinvent 3.7.1 conseq_fs  e5bf639cfd7f62017f0f72da8e0dc5f4   \n",
       "2                      fg_bw                biowood production   \n",
       "\n",
       "           exchange_database                     exchange_code  value  \n",
       "0  ecoinvent 3.7.1 conseq_fs  89578c816af5949efef19da4d5015ecc   0.50  \n",
       "1  ecoinvent 3.7.1 conseq_fs  36f4649326c821b4e8dc8e005f83efd3   0.25  \n",
       "2  ecoinvent 3.7.1 conseq_fs  e5bf639cfd7f62017f0f72da8e0dc5f4  10.00  "
      ]
     },
     "execution_count": 54,
     "metadata": {},
     "output_type": "execute_result"
    }
   ],
   "source": [
    "scenario_data = pd.read_csv('scenario.csv', sep = ';') # import a csv unsing pandas, careful with formatting...\n",
    "scenario_data"
   ]
  },
  {
   "cell_type": "markdown",
   "metadata": {},
   "source": [
    "Convert the dataframe in a list of tuples"
   ]
  },
  {
   "cell_type": "code",
   "execution_count": 57,
   "metadata": {},
   "outputs": [],
   "source": [
    "to_change = []\n",
    "for i in range(len(scenario_data.index)):\n",
    "    change = ((scenario_data.iloc[i,0],scenario_data.iloc[i,1]),\n",
    "              (scenario_data.iloc[i,2],scenario_data.iloc[i,3]),\n",
    "              scenario_data.iloc[i,4])\n",
    "    to_change.append(change)"
   ]
  },
  {
   "cell_type": "code",
   "execution_count": 58,
   "metadata": {},
   "outputs": [
    {
     "data": {
      "text/plain": [
       "[(('ecoinvent 3.7.1 conseq_fs', 'e5bf639cfd7f62017f0f72da8e0dc5f4'),\n",
       "  ('ecoinvent 3.7.1 conseq_fs', '89578c816af5949efef19da4d5015ecc'),\n",
       "  0.5),\n",
       " (('ecoinvent 3.7.1 conseq_fs', 'e5bf639cfd7f62017f0f72da8e0dc5f4'),\n",
       "  ('ecoinvent 3.7.1 conseq_fs', '36f4649326c821b4e8dc8e005f83efd3'),\n",
       "  0.25),\n",
       " (('fg_bw', 'biowood production'),\n",
       "  ('ecoinvent 3.7.1 conseq_fs', 'e5bf639cfd7f62017f0f72da8e0dc5f4'),\n",
       "  10.0)]"
      ]
     },
     "execution_count": 58,
     "metadata": {},
     "output_type": "execute_result"
    }
   ],
   "source": [
    "to_change"
   ]
  },
  {
   "cell_type": "code",
   "execution_count": 59,
   "metadata": {},
   "outputs": [],
   "source": [
    "for i in to_change:\n",
    "    col = LCA.activity_dict[i[0]] # find index of tech matrix for the activity\n",
    "    row = LCA.activity_dict[i[1]] # find index of tech matrix for the exchange\n",
    "    LCA.technosphere_matrix[row,col] = -i[2] # substitute the value\n",
    "    #print(LCA.technosphere_matrix[row,col])"
   ]
  },
  {
   "cell_type": "code",
   "execution_count": 61,
   "metadata": {
    "scrolled": true
   },
   "outputs": [
    {
     "data": {
      "text/plain": [
       "0.14067654871132018"
      ]
     },
     "execution_count": 61,
     "metadata": {},
     "output_type": "execute_result"
    }
   ],
   "source": [
    "LCA.redo_lci() # uses the new tech matrix\n",
    "LCA.lcia()\n",
    "LCA.score/10"
   ]
  },
  {
   "cell_type": "markdown",
   "metadata": {},
   "source": [
    "If you have multiple scenarios, you can import each file with a different name and then **iterate the calculation across the scenarios**"
   ]
  }
 ],
 "metadata": {
  "kernelspec": {
   "display_name": "Python 3",
   "language": "python",
   "name": "python3"
  },
  "language_info": {
   "codemirror_mode": {
    "name": "ipython",
    "version": 3
   },
   "file_extension": ".py",
   "mimetype": "text/x-python",
   "name": "python",
   "nbconvert_exporter": "python",
   "pygments_lexer": "ipython3",
   "version": "3.9.12"
  }
 },
 "nbformat": 4,
 "nbformat_minor": 2
}
